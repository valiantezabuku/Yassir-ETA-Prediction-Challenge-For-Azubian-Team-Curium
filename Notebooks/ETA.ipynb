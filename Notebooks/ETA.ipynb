{
  "cells": [
    {
      "cell_type": "markdown",
      "metadata": {
        "id": "YRFyZXFY3KFw"
      },
      "source": [
        "# Business Understanding\n",
        "\n",
        "##### **Overview**\n",
        "\n",
        "Yassir is the leading super App in the Maghreb region set to changing the way daily services are provided. It currently operates in 45 cities across Algeria, Morocco and Tunisia with recent expansions into France, Canada and Sub-Saharan Africa. It is backed (~$200M in funding) by VCs from Silicon Valley, Europe and other parts of the world. They offer on-demand services such as ride-hailing and last-mile delivery.\n",
        "\n",
        "##### **Project Scenario**\n",
        "\n",
        "Ride-hailing apps like Uber and Yassir depend heavily on real-time data and machine learning algorithms to automate and optimize their services. Accurate prediction of the Estimated Time of Arrival (ETA) is crucial for enhancing the reliability and attractiveness of Yassir's services. This prediction will have significant direct and indirect impacts on both customers and business partners. Improving ETA predictions will not only make Yassir's services more dependable but also allow the company to save money and allocate resources more effectively across other business areas.\n",
        "\n",
        "##### **Problem Statement**\n",
        "\n",
        "Yassir aims to optimize its service operations by accurately predicting the ETA for rides. The goal is to ensure that customers receive precise arrival times, improving their overall experience while allowing Yassir to manage resources more effectively and reduce operational costs.\n",
        "\n",
        "##### **Objective**\n",
        "\n",
        "The primary objective of this project is to develop machine learning models that accurately predict the ETA for a Yassir journey to enhance service reliability and customer satisfaction. By accurately forecasting the time it will take for a trip to reach its destination, Yassir can improve the customer experience, optimize operational efficiency, and better manage resource allocation. This will contribute to cost savings and more efficient use of resources, benefiting both customers and business partners.\n",
        "\n",
        "##### **Key Stakeholders**\n",
        "\n",
        "Stakeholders include Yassir's management team, operations and logistics teams, customer service department, and data science team.\n",
        "\n",
        "##### **Analytical Goals**\n",
        "\n",
        "1. **Data Preparation:**\n",
        "   - Handle missing values in trip and weather datasets using imputation techniques such as mean, median, or mode.\n",
        "   - Address outliers in trip data that may skew model predictions by applying robust statistical methods.\n",
        "   - Normalize or scale numerical features (e.g., trip distance) to ensure uniformity and improve model performance.\n",
        "   - Encode categorical variables (e.g., weather conditions) using one-hot encoding or similar techniques.\n",
        "\n",
        "2. **Model Development:**\n",
        "   - Train and evaluate various regression models such as linear regression, decision trees, random forests, and gradient boosting algorithms.\n",
        "   - Incorporate time series analysis if applicable to capture temporal trends and seasonality.\n",
        "   - Validate models using cross-validation techniques and assess performance metrics such as RMSE (Root Mean Squared Error).\n",
        "\n",
        "3. **Feature Engineering:**\n",
        "   - Extract relevant features from timestamps (e.g., time of day, day of week) and weather conditions to enrich the model.\n",
        "   - Analyze feature importance to understand key factors affecting ETA predictions.\n",
        "\n",
        "4. **Visualization and Reporting:**\n",
        "   - Create visualizations and dashboards to present insights from the model and its predictions.\n",
        "   - Develop a deployment strategy for integrating the ETA prediction model into Yassir’s operational systems.\n",
        "\n",
        "##### **Success Criteria**\n",
        "\n",
        "1. Achieve a significant reduction in ETA prediction errors, with an RMSE below 180 (seconds).\n",
        "2. Develop a functional data app that embeds the best models and makes accurate prediction of ETA.\n",
        "\n",
        "##### **Constraints and Assumptions**\n",
        "\n",
        "- Assumption: Historical trip and weather data are representative of future conditions and trends.\n",
        "- Constraint: Limited availability of real-time traffic data for model refinement and updates.\n",
        "\n",
        "##### **Data Requirements**\n",
        "\n",
        "- Utilize data from trip records and weather datasets for analysis.\n",
        "- Include features such as trip ID, timestamp, origin and destination coordinates, trip distance, ETA, and weather conditions (temperature, rainfall, wind speed).\n",
        "\n",
        "##### **Business Impact**\n",
        "\n",
        "- **Enhanced Customer Experience:** More accurate ETA predictions will improve customer satisfaction and trust in Yassir’s services. When riders can rely on the service to provide timely pickups and drop-offs, they are more likely to use it again in the future and\n",
        "- **Operational Efficiency:** Better predictions will optimize driver allocation and reduce operational costs. By accurately estimating travel times, the platform can match drivers with riders more efficiently, reducing idle time for drivers and minimizing wait times for riders.\n",
        "- **Resource Allocation:** Improved resource management through accurate trip scheduling and reduced delays. Yassir can adjust the number of available drivers in different areas based on anticipated demand and traffic conditions, optimizing overall service coverage and availability.\n",
        "- **Cost Savings:** Financial savings from reduced inefficiencies and optimized resource use.\n",
        "\n",
        "##### **Analytical Business Questions**\n",
        "\n",
        "1. What is the impact of trip distance on ETA accuracy?\n",
        "   Investigating whether longer or shorter trips have more variance in ETA predictions can help refine the model.\n",
        "2. How do different times of the day affect ETA.\n",
        "   Analyzing time-based patterns (e.g., rush hours vs. non-rush hours) can help improve the predictive model.\n",
        "3. How does weather impact the estimated time of arrival (ETA) for Yassir trips?\n",
        "4. What are the peak hours for long trip durations and how can they be optimized?\n",
        "5. Is there a significant difference in trip durations between weekdays and weekends?\n",
        "6. How does the density of trips in a given area affect the performance of the ETA prediction?\n",
        "7. How does the model's ETA prediction accuracy compare to industry benchmarks or competitors?\n",
        "8. How does the time of day influence the demand for Yassir rides in different geographical areas?\n",
        "9. Which origin and destination locations are most common?/Have the most rides\n",
        "10. What are the longest and shortest trips, and how do their ETAs compare?\n",
        "11. What is the percentage of trips with ETAs exceeding 30 minutes.\n",
        "12. What is the average number of trips per hour?\n",
        "   \n",
        "\n",
        "#### **Hypothesis**\n",
        "\n",
        "**Null Hypothesis:** The demand for Yassir rides is significantly higher during peak traffic hours compared to non-peak hours.\n",
        "\n",
        "**Alternate Hypothesis:** There is no significant difference in ride demand between peak traffic hours and non-peak hours.\n",
        "\n",
        "#### Recomendations\n",
        "1. Improve customer satisfaction scores related to ride accuracy.\n",
        "2. Optimize driver allocation and resource management, leading to cost savings and operational efficiency."
      ]
    },
    {
      "cell_type": "markdown",
      "metadata": {
        "id": "Xle9gmbW3KF0"
      },
      "source": [
        "# Data Understanding\n",
        "\n",
        "`Dataset Overview:`\n",
        "\n",
        "- ID: Unique identifier for each trip.\n",
        "        \n",
        "- Timestamp: Time when the trip started.\n",
        "    \n",
        "- Origin_lat, Origin_lon: Latitude and longitude of the trip's start location.\n",
        "\n",
        "- Destination_lat, Destination_lon: Latitude and longitude of the trip's end location.\n",
        "\n",
        "- Trip_distance: Distance in meters on the driving route.\n",
        "\n",
        "- ETA: Estimated trip time in seconds."
      ]
    },
    {
      "cell_type": "code",
      "execution_count": null,
      "metadata": {
        "id": "V0tE1W5eCXT0"
      },
      "outputs": [],
      "source": [
        "# !pip install --quiet plotly_calplot"
      ]
    },
    {
      "cell_type": "code",
      "execution_count": 217,
      "metadata": {
        "id": "RNW5g2AH3KF0"
      },
      "outputs": [
        {
          "name": "stdout",
          "output_type": "stream",
          "text": [
            "🛬 Imported all packages. Warnings hidden. 👻\n"
          ]
        }
      ],
      "source": [
        "from pathlib import Path\n",
        "\n",
        "# Data Wrangling\n",
        "import numpy as np\n",
        "import pandas as pd\n",
        "\n",
        "\n",
        "# Visualization\n",
        "import plotly.express as px\n",
        "import plotly.graph_objects as go\n",
        "from plotly_calplot import calplot\n",
        "from plotly.subplots import make_subplots\n",
        "\n",
        "# PCA\n",
        "from sklearn.decomposition import PCA\n",
        "\n",
        "# Stats test and Normality\n",
        "from scipy.stats import ttest_ind, shapiro, mannwhitneyu\n",
        "\n",
        "# Modelling\n",
        "from sklearn.pipeline import Pipeline\n",
        "from sklearn.impute import SimpleImputer\n",
        "from sklearn.compose import ColumnTransformer\n",
        "from sklearn.model_selection import train_test_split, TimeSeriesSplit, GridSearchCV\n",
        "from sklearn.preprocessing import OneHotEncoder, StandardScaler, RobustScaler\n",
        "from sklearn.metrics import mean_squared_error, root_mean_squared_error\n",
        "\n",
        "from xgboost import XGBRegressor\n",
        "from sklearn.tree import DecisionTreeRegressor\n",
        "from sklearn.linear_model import LinearRegression\n",
        "from sklearn.preprocessing import PolynomialFeatures\n",
        "from sklearn.ensemble import RandomForestRegressor, GradientBoostingRegressor, HistGradientBoostingRegressor, AdaBoostRegressor\n",
        "\n",
        "\n",
        "# Save model\n",
        "import joblib\n",
        "\n",
        "# Set pandas to display all columns\n",
        "pd.set_option(\"display.max_columns\", None)\n",
        "\n",
        "# Suppress the scientific notation\n",
        "pd.set_option(\"display.float_format\", lambda x: '%.2f' % x)\n",
        "\n",
        "# Disable warnings\n",
        "import warnings\n",
        "warnings.filterwarnings('ignore')\n",
        "\n",
        "print(\"🛬 Imported all packages.\", \"Warnings hidden. 👻\")"
      ]
    },
    {
      "cell_type": "code",
      "execution_count": null,
      "metadata": {
        "id": "jPdDgmPZ-lNJ"
      },
      "outputs": [],
      "source": [
        "DATA_URL = \"https://raw.githubusercontent.com/valiantezabuku/Yassir-ETA-Prediction-Challenge-For-Azubian-Team-Curium/main/Data/\"\n",
        "TEST_FILE = DATA_URL + \"Test.csv\"\n",
        "TRAIN_FILE = DATA_URL + \"Train.csv\"\n",
        "WEATHER_FILE = DATA_URL + \"Weather.csv\""
      ]
    },
    {
      "cell_type": "code",
      "execution_count": null,
      "metadata": {
        "id": "lKxCiCfC3KF1"
      },
      "outputs": [],
      "source": [
        "# Date columns to parse\n",
        "parse_dates = ['Timestamp']\n",
        "\n",
        "# Load CSV files into the Notebook\n",
        "weather_df = pd.read_csv(WEATHER_FILE)\n",
        "\n",
        "test_df =pd.read_csv(TEST_FILE, parse_dates=parse_dates)\n",
        "\n",
        "train_df = pd.read_csv(TRAIN_FILE, parse_dates=parse_dates)"
      ]
    },
    {
      "cell_type": "markdown",
      "metadata": {
        "id": "JlOW79hX3KF1"
      },
      "source": [
        "### Exploratory Data Analysis"
      ]
    },
    {
      "cell_type": "code",
      "execution_count": null,
      "metadata": {
        "id": "x33Rz7kQ3KF1"
      },
      "outputs": [],
      "source": [
        "test_df.head()"
      ]
    },
    {
      "cell_type": "code",
      "execution_count": null,
      "metadata": {
        "id": "1rNsq_9M3KF2"
      },
      "outputs": [],
      "source": [
        "train_df.head()"
      ]
    },
    {
      "cell_type": "code",
      "execution_count": null,
      "metadata": {
        "id": "POq_zK-s3KF2"
      },
      "outputs": [],
      "source": [
        "weather_df.head()"
      ]
    },
    {
      "cell_type": "code",
      "execution_count": null,
      "metadata": {
        "id": "cQsxPjiB3KF2"
      },
      "outputs": [],
      "source": [
        "train_df.info()"
      ]
    },
    {
      "cell_type": "code",
      "execution_count": null,
      "metadata": {
        "id": "YNJ3PGes3KF2"
      },
      "outputs": [],
      "source": [
        "#Checking for missing Values\n",
        "train_df.isna().sum()"
      ]
    },
    {
      "cell_type": "code",
      "execution_count": null,
      "metadata": {
        "id": "7n0PjidsKvCN"
      },
      "outputs": [],
      "source": [
        "# Checking the descriptive statistics of the dataset\n",
        "train_df.describe(include='all').T"
      ]
    },
    {
      "cell_type": "markdown",
      "metadata": {
        "id": "SXqUrKmE3KF3"
      },
      "source": [
        "### Data Cleaning\n",
        "\n",
        "- Standardize column names- use snake case"
      ]
    },
    {
      "cell_type": "code",
      "execution_count": null,
      "metadata": {
        "id": "igbLDKBW3KF3"
      },
      "outputs": [],
      "source": [
        "train_df.columns = [col.lower() for col in train_df.columns] # Train\n",
        "\n",
        "test_df.columns = [col.lower() for col in test_df.columns] # Test"
      ]
    },
    {
      "cell_type": "code",
      "execution_count": null,
      "metadata": {
        "id": "6D9Fvv5B3KF3"
      },
      "outputs": [],
      "source": [
        "train_df.head()"
      ]
    },
    {
      "cell_type": "markdown",
      "metadata": {
        "id": "adAI_P1jGVMB"
      },
      "source": [
        "## 2.0 Visualizations\n",
        "### 2.1 Numericals\n",
        "#### 2.1.1 Univariate Analysis"
      ]
    },
    {
      "cell_type": "code",
      "execution_count": null,
      "metadata": {
        "id": "80WXyacb27N2"
      },
      "outputs": [],
      "source": [
        "# Define the target column\n",
        "target = 'eta'"
      ]
    },
    {
      "cell_type": "code",
      "execution_count": null,
      "metadata": {
        "id": "ChCRynG_1ITm"
      },
      "outputs": [],
      "source": [
        "numericals = train_df.select_dtypes(include=['number']).columns.tolist()\n",
        "numericals"
      ]
    },
    {
      "cell_type": "code",
      "execution_count": null,
      "metadata": {
        "id": "Nt9bbKujGUbB"
      },
      "outputs": [],
      "source": [
        "# Visualize their distributions\n",
        "for column in train_df[numericals].columns:\n",
        "    fig1 = px.violin(train_df, x=column, box=True)\n",
        "\n",
        "    fig2 = px.histogram(train_df, x=column)\n",
        "\n",
        "    # Create a subplot layout with 1 row and 2 columns\n",
        "    fig = make_subplots(rows=1, cols=2, subplot_titles=(f\"Violin plot of the {column} column\",\n",
        "                                                    f\"Distribution of the {column} column\"))\n",
        "\n",
        "    # Add traces from fig1 to the subplot\n",
        "    for trace in fig1.data:\n",
        "        fig.add_trace(trace, row=1, col=1)\n",
        "\n",
        "    # Add traces from fig2 to the subplot\n",
        "    for trace in fig2.data:\n",
        "        fig.add_trace(trace, row=1, col=2)\n",
        "\n",
        "    # Update layout\n",
        "    fig.update_layout(title_text=f\"Exploring the {column} feature\",\n",
        "                        showlegend=True,\n",
        "                        legend_title_text=target\n",
        "    )\n",
        "\n",
        "    fig.show()"
      ]
    },
    {
      "cell_type": "code",
      "execution_count": null,
      "metadata": {
        "id": "e_IDYde84FsW"
      },
      "outputs": [],
      "source": [
        "train_df"
      ]
    },
    {
      "cell_type": "code",
      "execution_count": null,
      "metadata": {
        "id": "s1L-mVJI35Eu"
      },
      "outputs": [],
      "source": [
        "for column in numericals:\n",
        "    # Visualizing the distribution of the numericals in the columns by churn\n",
        "    fig = px.violin(\n",
        "        train_df,\n",
        "        x=column,\n",
        "        box=True,\n",
        "        title=f\"Distribution of the {column} column\"\n",
        "    )\n",
        "\n",
        "    fig.show()"
      ]
    },
    {
      "cell_type": "code",
      "execution_count": null,
      "metadata": {
        "id": "reliifOO5GuL"
      },
      "outputs": [],
      "source": [
        "fig = px.box(\n",
        "    train_df[['trip_distance', 'eta']],\n",
        "    orientation='h',\n",
        "    title='Distribution of Distance Features in the Dataset'\n",
        ")\n",
        "\n",
        "fig.show()"
      ]
    },
    {
      "cell_type": "code",
      "execution_count": null,
      "metadata": {
        "id": "j4IGRYgjGrYc"
      },
      "outputs": [],
      "source": [
        "fig = px.box(\n",
        "    train_df[['destination_lon', 'origin_lon']],\n",
        "    orientation='h',\n",
        "    title='Distribution of Longitude Features in the Dataset'\n",
        ")\n",
        "\n",
        "fig.show()"
      ]
    },
    {
      "cell_type": "code",
      "execution_count": null,
      "metadata": {
        "id": "FJhKitG26Ga3"
      },
      "outputs": [],
      "source": [
        "fig = px.box(\n",
        "    train_df[['destination_lat', 'origin_lat']],\n",
        "    orientation='h',\n",
        "    title='Distribution of Latitude Features in the Dataset'\n",
        ")\n",
        "\n",
        "fig.show()"
      ]
    },
    {
      "cell_type": "markdown",
      "metadata": {
        "id": "5CP5ozm2MMUS"
      },
      "source": [
        "### 2.1.2 Bivariate Analysis"
      ]
    },
    {
      "cell_type": "code",
      "execution_count": null,
      "metadata": {
        "id": "n3V_gdxA3vEl"
      },
      "outputs": [],
      "source": [
        "# Relationship between Trip_distance and ETA\n",
        "fig = px.scatter(\n",
        "    train_df,\n",
        "    x='trip_distance',\n",
        "    y='eta',\n",
        "    trendline='ols',\n",
        "    trendline_color_override='red',\n",
        "    title='Relationship between Trip Distance and ETA',\n",
        "    labels={'eta': 'Eta (seconds)', 'trip_distance': 'Trip Distance (meters)'},\n",
        ")\n",
        "\n",
        "\n",
        "fig.show()"
      ]
    },
    {
      "cell_type": "code",
      "execution_count": null,
      "metadata": {
        "id": "sINpiDO5MkXZ"
      },
      "outputs": [],
      "source": [
        "numeric_correlation_matrix = train_df[numericals].corr()\n",
        "\n",
        "# Create heatmap trace\n",
        "heatmap_trace = go.Heatmap(\n",
        "    z=numeric_correlation_matrix.values,\n",
        "    x=numeric_correlation_matrix.columns,\n",
        "    y=numeric_correlation_matrix.index,\n",
        "    colorbar=dict(title='Correlation coefficient'),\n",
        "    texttemplate='%{z:.3f}',\n",
        ")\n",
        "\n",
        "# Create figure\n",
        "fig = go.Figure(data=[heatmap_trace])\n",
        "\n",
        "# Update layout\n",
        "fig.update_layout(\n",
        "    title='Correlation Matrix Heatmap (Numeric Features)',\n",
        ")\n",
        "\n",
        "# Show plot\n",
        "fig.show()"
      ]
    },
    {
      "cell_type": "markdown",
      "metadata": {
        "id": "hxS4tR5O89SQ"
      },
      "source": [
        "### Key Insights\n",
        "\n",
        "The correlation matrix provided reveals key relationships between geographic coordinates (origin and destination), trip distance, and estimated time of arrival (ETA). The analysis aims to uncover the strength and direction of these relationships, which can inform strategies for optimizing route planning and enhancing the accuracy of ETA predictions.\n",
        "\n",
        "1. **Strong Positive Correlation Between Trip Distance and ETA (0.898):**\n",
        "   - **Observation:** The most significant finding is the strong positive correlation between `trip_distance` and `eta` (0.898). This suggests that as the trip distance increases, the estimated time of arrival also increases, indicating that distance is a primary determinant of ETA.\n",
        "   - **Implication:** This insight highlights the importance of accurate distance calculations in predicting ETAs. Any efforts to improve ETA predictions should prioritize refining distance measurements.\n",
        "\n",
        "2. **Moderate Correlations with Geographic Coordinates:**\n",
        "   - **Origin Latitude and Destination Latitude:**\n",
        "     - `origin_lat` and `destination_lat` exhibit a moderate positive correlation (0.313), indicating that trips tend to run more north-south rather than east-west.\n",
        "     - **Implication:** This could be indicative of the travel patterns within the region, possibly due to geographic or infrastructural factors.\n",
        "   - **Destination Longitude and Origin Longitude:**\n",
        "     - `destination_lon` and `origin_lon` show a slight positive correlation (0.172), reflecting that trips generally align along the longitudinal axis.\n",
        "     - **Implication:** While this correlation is weak, it suggests a slight east-west movement trend, complementing the stronger north-south correlation.\n",
        "\n",
        "3. **Weak Correlations Across Other Variables:**\n",
        "   - **Geographic Coordinates vs. Trip Distance and ETA:**\n",
        "     - The correlations between individual geographic coordinates (latitude and longitude) and `trip_distance` or `eta` are generally weak, with the highest being `destination_lat` and `trip_distance` (0.093).\n",
        "     - **Implication:** This suggests that the specific starting and ending points of a trip (in terms of latitude and longitude) have minimal direct impact on the distance or time required for the trip, possibly due to variations in route choices, traffic conditions, or other factors.\n",
        "\n",
        "4. **Negative Correlations Observed:**\n",
        "   - **Latitude and Longitude Interactions:**\n",
        "     - There are weak negative correlations between `origin_lat` and `origin_lon` (-0.172), as well as between `destination_lat` and `destination_lon` (-0.214). This suggests some degree of geographic dispersion in the origins and destinations.\n",
        "     - **Implication:** These negative correlations may indicate that as one coordinate increases, the other tends to decrease, pointing to a potential spread or diversity in trip start and end points across the region.\n",
        "\n",
        "### Strategic Recommendations\n",
        "\n",
        "1. **Enhance ETA Prediction Models:**\n",
        "   - Given the strong correlation between `trip_distance` and `eta`, improving distance measurement accuracy and integrating real-time traffic data could further refine ETA predictions.\n",
        "\n",
        "2. **Leverage Geographic Insights for Route Optimization:**\n",
        "   - The moderate correlations between latitudes and longitudes suggest potential patterns in travel direction. Leveraging this understanding could aid in optimizing routes and better managing traffic flow.\n",
        "\n",
        "3. **Further Exploration of Geographic Variables:**\n",
        "   - The weak correlations with individual geographic coordinates indicate that additional factors, such as road conditions, traffic signals, or driver behavior, might play a significant role. Investigating these factors could uncover additional opportunities for improving service efficiency.\n"
      ]
    },
    {
      "cell_type": "markdown",
      "metadata": {
        "id": "VhrhKmiX-f1v"
      },
      "source": [
        "### 2.1.3 Multivariate\n"
      ]
    },
    {
      "cell_type": "code",
      "execution_count": null,
      "metadata": {
        "id": "zrKPUmGTAEG5"
      },
      "outputs": [],
      "source": [
        "plot_data = train_df[['timestamp', 'eta']].set_index('timestamp')\n",
        "\n",
        "\n",
        "plot_data = plot_data.resample('D')['eta'].sum().reset_index()"
      ]
    },
    {
      "cell_type": "code",
      "execution_count": null,
      "metadata": {
        "id": "-fvWSUXTAZ8r"
      },
      "outputs": [],
      "source": [
        "fig = calplot(\n",
        "    plot_data,\n",
        "    x='timestamp',\n",
        "    y='eta',\n",
        "    years_title=True,\n",
        "    colorscale='YlGn',\n",
        "    showscale=True,\n",
        "    title='Total eta by calendar days, months, and years',\n",
        "    total_height=400,\n",
        "    start_month=11,\n",
        "    end_month=12,\n",
        ")\n",
        "\n",
        "fig.show()"
      ]
    },
    {
      "cell_type": "markdown",
      "metadata": {
        "id": "tAeokTB-Oe8O"
      },
      "source": [
        "### Answering Analytical Business Questions"
      ]
    },
    {
      "cell_type": "code",
      "execution_count": null,
      "metadata": {
        "id": "xcPaD15HFpzA"
      },
      "outputs": [],
      "source": [
        "train_df.head(1)"
      ]
    },
    {
      "cell_type": "markdown",
      "metadata": {
        "id": "PUDi76MjClVU"
      },
      "source": [
        "QN.1 What is the impact of trip distance on ETA accuracy? Investigating whether longer or shorter trips have more variance in ETA predictions can help refine the model.\n",
        "    \n"
      ]
    },
    {
      "cell_type": "code",
      "execution_count": null,
      "metadata": {
        "id": "mM3Gk6XBFlmq"
      },
      "outputs": [],
      "source": []
    },
    {
      "cell_type": "markdown",
      "metadata": {
        "id": "RzGFESn-C8l5"
      },
      "source": [
        "QN. 2 How do different times of the day affect ETA. Analyzing time-based patterns (e.g., rush hours vs. non-rush hours) can help improve the predictive model.\n",
        "    "
      ]
    },
    {
      "cell_type": "code",
      "execution_count": null,
      "metadata": {
        "id": "HovkKfG8Q4ix"
      },
      "outputs": [],
      "source": []
    },
    {
      "cell_type": "markdown",
      "metadata": {
        "id": "rfreK8qcOney"
      },
      "source": [
        "QN. 3 How does weather impact the estimated time of arrival (ETA) for Yassir trips?"
      ]
    },
    {
      "cell_type": "code",
      "execution_count": null,
      "metadata": {},
      "outputs": [],
      "source": [
        "train_df"
      ]
    },
    {
      "cell_type": "code",
      "execution_count": null,
      "metadata": {},
      "outputs": [],
      "source": [
        "daily_eta_df.info()"
      ]
    },
    {
      "cell_type": "code",
      "execution_count": null,
      "metadata": {
        "id": "7w6-XVIaYGcG"
      },
      "outputs": [],
      "source": [
        "time_eta_df = train_df[['timestamp', 'eta']]\n",
        "\n",
        "time_eta_df['date'] = time_eta_df['timestamp'].dt.date\n",
        "\n",
        "time_eta_df['date'] = pd.to_datetime(time_eta_df['date'])\n",
        "\n",
        "# time_eta_df['eta_hours'] = time_eta_df['eta'] / 3600\n",
        "\n",
        "# weather_df['date'] = pd.to_datetime(weather_df['date'])\n",
        "\n",
        "# Merge trip data with weather data\n",
        "time_weather_eta_df = pd.merge(time_eta_df, weather_df, left_on='date', right_on='date')\n",
        "\n",
        "# Drop unnecessary columns\n",
        "time_weather_eta_df.drop(columns=['timestamp', 'date'], inplace=True)\n",
        "\n",
        "# Show the merged DataFrame\n",
        "time_weather_eta_df.head()"
      ]
    },
    {
      "cell_type": "markdown",
      "metadata": {
        "id": "Uj9DgkcZ-yqz"
      },
      "source": [
        "Pairplot of ETA vs Temperature features"
      ]
    },
    {
      "cell_type": "code",
      "execution_count": null,
      "metadata": {
        "id": "THKDbI6l2eXB"
      },
      "outputs": [],
      "source": [
        "# Select the columns to use\n",
        "cols_to_interest = time_weather_eta_df.columns.tolist()\n",
        "\n",
        "temp_features = [col for col in time_weather_eta_df.columns.to_list() if 'temperature' in col] + ['eta']\n",
        "\n",
        "# Create the pair plot\n",
        "fig = px.scatter_matrix(\n",
        "    time_weather_eta_df,\n",
        "    dimensions = temp_features,\n",
        ")\n",
        "\n",
        "# Update the layout for better visualization\n",
        "fig.update_layout(\n",
        "    title=f\"Pair Plot of {', '.join(temp_features)} columns\",\n",
        "    width=1440,\n",
        "    height=1440,\n",
        ")\n",
        "\n",
        "fig.show()"
      ]
    },
    {
      "cell_type": "code",
      "execution_count": null,
      "metadata": {},
      "outputs": [],
      "source": [
        "daily_eta_df = (\n",
        "    time_eta_df\n",
        "    .drop(columns=['timestamp'])\n",
        "    .set_index('date')\n",
        "    .resample('D')\n",
        "    .median()\n",
        "    .reset_index()    \n",
        ")    \n",
        "\n",
        "# Merge trip data with weather data\n",
        "daily_weather_eta_df = (\n",
        "    pd.merge(daily_eta_df, weather_df, left_on='date', right_on='date')\n",
        "    .drop(columns=['date'])\n",
        ")    "
      ]
    },
    {
      "cell_type": "code",
      "execution_count": 113,
      "metadata": {},
      "outputs": [
        {
          "data": {
            "text/plain": [
              "1"
            ]
          },
          "execution_count": 113,
          "metadata": {},
          "output_type": "execute_result"
        }
      ],
      "source": [
        "i=6\n",
        "(i+1)%2 if i<5 else (i+1)%2"
      ]
    },
    {
      "cell_type": "code",
      "execution_count": 117,
      "metadata": {},
      "outputs": [
        {
          "data": {
            "text/plain": [
              "9"
            ]
          },
          "execution_count": 117,
          "metadata": {},
          "output_type": "execute_result"
        }
      ],
      "source": [
        "0,1,2,3,4,5,6,7,8,9\n",
        "1,2,3,4,5,6,7,8,9,10\n",
        "1,2,3,4,5"
      ]
    },
    {
      "cell_type": "code",
      "execution_count": 163,
      "metadata": {},
      "outputs": [
        {
          "data": {
            "text/plain": [
              "{'xaxis1': 'dewpoint_2m_temperature',\n",
              " 'xaxis2': 'maximum_2m_air_temperature',\n",
              " 'xaxis3': 'mean_2m_air_temperature',\n",
              " 'xaxis4': 'mean_sea_level_pressure',\n",
              " 'xaxis5': 'minimum_2m_air_temperature',\n",
              " 'xaxis6': 'surface_pressure',\n",
              " 'xaxis7': 'total_precipitation',\n",
              " 'xaxis8': 'u_component_of_wind_10m',\n",
              " 'xaxis9': 'v_component_of_wind_10m'}"
            ]
          },
          "execution_count": 163,
          "metadata": {},
          "output_type": "execute_result"
        }
      ],
      "source": [
        "fig_titles"
      ]
    },
    {
      "cell_type": "code",
      "execution_count": 169,
      "metadata": {},
      "outputs": [
        {
          "data": {
            "application/vnd.plotly.v1+json": {
              "config": {
                "plotlyServerURL": "https://plot.ly"
              },
              "data": [
                {
                  "mode": "markers",
                  "name": "dewpoint_2m_temperature",
                  "type": "scatter",
                  "x": [
                    281.222930908203,
                    280.365142822266,
                    283.449432373047,
                    283.759460449219,
                    284.370819091797,
                    281.071228027344,
                    283.602447509766,
                    286.12109375,
                    286.326782226562,
                    286.033294677734,
                    284.880950927734,
                    284.823516845703,
                    284.528839111328,
                    285.230133056641,
                    286.093933105469,
                    283.047546386719,
                    283.376892089844,
                    282.896270751953,
                    283.338928222656,
                    285.852081298828,
                    284.933837890625,
                    282.28662109375,
                    282.495025634766,
                    281.361419677734,
                    283.989654541016,
                    284.226440429688,
                    283.476165771484,
                    279.516693115234,
                    281.457794189453,
                    284.618560791016,
                    280.996368408203
                  ],
                  "xaxis": "x",
                  "y": [
                    1141,
                    1015,
                    1016,
                    1045,
                    1041,
                    1055,
                    1064,
                    1073,
                    1056,
                    1105,
                    1048,
                    1032,
                    1085.5,
                    1118.5,
                    1103,
                    1071,
                    1071,
                    1001,
                    1090,
                    1074,
                    1098,
                    1060.5,
                    1017.5,
                    1003,
                    1012,
                    1069,
                    1042.5,
                    1018,
                    1048,
                    1040,
                    1068
                  ],
                  "yaxis": "y"
                },
                {
                  "mode": "markers",
                  "name": "maximum_2m_air_temperature",
                  "type": "scatter",
                  "x": [
                    288.498199462891,
                    289.753082275391,
                    291.342742919922,
                    294.419952392578,
                    292.536529541016,
                    289.889709472656,
                    290.946685791016,
                    292.557403564453,
                    293.878845214844,
                    292.165618896484,
                    292.095916748047,
                    293.076416015625,
                    292.345764160156,
                    291.094268798828,
                    290.898132324219,
                    288.319152832031,
                    291.184631347656,
                    293.013366699219,
                    291.378387451172,
                    288.70263671875,
                    290.305847167969,
                    289.168975830078,
                    290.447174072266,
                    288.673583984375,
                    291.369964599609,
                    291.734436035156,
                    291.411834716797,
                    294.247253417969,
                    292.583679199219,
                    288.200622558594,
                    290.565307617188
                  ],
                  "xaxis": "x2",
                  "y": [
                    1141,
                    1015,
                    1016,
                    1045,
                    1041,
                    1055,
                    1064,
                    1073,
                    1056,
                    1105,
                    1048,
                    1032,
                    1085.5,
                    1118.5,
                    1103,
                    1071,
                    1071,
                    1001,
                    1090,
                    1074,
                    1098,
                    1060.5,
                    1017.5,
                    1003,
                    1012,
                    1069,
                    1042.5,
                    1018,
                    1048,
                    1040,
                    1068
                  ],
                  "yaxis": "y2"
                },
                {
                  "mode": "markers",
                  "name": "mean_2m_air_temperature",
                  "type": "scatter",
                  "x": [
                    285.203338623047,
                    285.982574462891,
                    288.261260986328,
                    289.869781494141,
                    289.942077636719,
                    288.453796386719,
                    288.87890625,
                    289.742034912109,
                    291.110260009766,
                    289.886566162109,
                    288.464324951172,
                    288.458770751953,
                    288.691711425781,
                    288.451446533203,
                    289.181732177734,
                    286.984436035156,
                    287.946655273437,
                    288.524871826172,
                    287.575012207031,
                    287.290679931641,
                    288.071228027344,
                    286.988830566406,
                    287.158081054688,
                    287.432952880859,
                    289.867828369141,
                    288.992950439453,
                    287.440490722656,
                    291.593322753906,
                    291.200866699219,
                    287.254333496094,
                    286.986572265625
                  ],
                  "xaxis": "x3",
                  "y": [
                    1141,
                    1015,
                    1016,
                    1045,
                    1041,
                    1055,
                    1064,
                    1073,
                    1056,
                    1105,
                    1048,
                    1032,
                    1085.5,
                    1118.5,
                    1103,
                    1071,
                    1071,
                    1001,
                    1090,
                    1074,
                    1098,
                    1060.5,
                    1017.5,
                    1003,
                    1012,
                    1069,
                    1042.5,
                    1018,
                    1048,
                    1040,
                    1068
                  ],
                  "yaxis": "y3"
                },
                {
                  "mode": "markers",
                  "name": "mean_sea_level_pressure",
                  "type": "scatter",
                  "x": [
                    101709.28125,
                    101344.1171875,
                    101161.4453125,
                    100665.5625,
                    100172.9140625,
                    101219.3046875,
                    101522.15625,
                    101492.4296875,
                    101353.2890625,
                    101758.7421875,
                    102024.2734375,
                    102011.875,
                    101382.9140625,
                    101204.84375,
                    100773.4453125,
                    100523.0625,
                    101614.2734375,
                    102065.46875,
                    102077.3515625,
                    102294.90625,
                    102419.5859375,
                    102472.1484375,
                    102097.625,
                    101891.0703125,
                    101305.5546875,
                    101800.9453125,
                    101664.78125,
                    100969.6171875,
                    100634.4609375,
                    101586.0859375,
                    101902.7890625
                  ],
                  "xaxis": "x4",
                  "y": [
                    1141,
                    1015,
                    1016,
                    1045,
                    1041,
                    1055,
                    1064,
                    1073,
                    1056,
                    1105,
                    1048,
                    1032,
                    1085.5,
                    1118.5,
                    1103,
                    1071,
                    1071,
                    1001,
                    1090,
                    1074,
                    1098,
                    1060.5,
                    1017.5,
                    1003,
                    1012,
                    1069,
                    1042.5,
                    1018,
                    1048,
                    1040,
                    1068
                  ],
                  "yaxis": "y4"
                },
                {
                  "mode": "markers",
                  "name": "minimum_2m_air_temperature",
                  "type": "scatter",
                  "x": [
                    282.853973388672,
                    282.348388671875,
                    285.202117919922,
                    285.254333496094,
                    287.650238037109,
                    286.728210449219,
                    286.303833007812,
                    287.364227294922,
                    287.571166992188,
                    286.286590576172,
                    285.781341552734,
                    285.040802001953,
                    285.9404296875,
                    285.601501464844,
                    287.693237304688,
                    286.001770019531,
                    285.452697753906,
                    284.863128662109,
                    284.683471679687,
                    286.266906738281,
                    285.373046875,
                    283.798736572266,
                    282.602386474609,
                    285.356292724609,
                    287.646362304688,
                    285.212677001953,
                    284.523986816406,
                    286.060699462891,
                    287.550262451172,
                    286.124969482422,
                    284.7138671875
                  ],
                  "xaxis": "x5",
                  "y": [
                    1141,
                    1015,
                    1016,
                    1045,
                    1041,
                    1055,
                    1064,
                    1073,
                    1056,
                    1105,
                    1048,
                    1032,
                    1085.5,
                    1118.5,
                    1103,
                    1071,
                    1071,
                    1001,
                    1090,
                    1074,
                    1098,
                    1060.5,
                    1017.5,
                    1003,
                    1012,
                    1069,
                    1042.5,
                    1018,
                    1048,
                    1040,
                    1068
                  ],
                  "yaxis": "y5"
                },
                {
                  "mode": "markers",
                  "name": "surface_pressure",
                  "type": "scatter",
                  "x": [
                    100640.4765625,
                    100287.9921875,
                    100111.96875,
                    99628.7734375,
                    99133.3828125,
                    100163.75,
                    100466.875,
                    100444.0546875,
                    100308.9765625,
                    100707.15625,
                    100969.4609375,
                    100959.8046875,
                    100338.4609375,
                    100152.75,
                    99728.28125,
                    99474.21875,
                    100561.6171875,
                    101012.7578125,
                    101021.75,
                    101226.15625,
                    101352.7578125,
                    101401.2421875,
                    101033.2265625,
                    100826.9921875,
                    100255.3359375,
                    100745.8671875,
                    100616.5625,
                    99929.71875,
                    99595.8203125,
                    100524.6328125,
                    100843.0078125
                  ],
                  "xaxis": "x6",
                  "y": [
                    1141,
                    1015,
                    1016,
                    1045,
                    1041,
                    1055,
                    1064,
                    1073,
                    1056,
                    1105,
                    1048,
                    1032,
                    1085.5,
                    1118.5,
                    1103,
                    1071,
                    1071,
                    1001,
                    1090,
                    1074,
                    1098,
                    1060.5,
                    1017.5,
                    1003,
                    1012,
                    1069,
                    1042.5,
                    1018,
                    1048,
                    1040,
                    1068
                  ],
                  "yaxis": "y6"
                },
                {
                  "mode": "markers",
                  "name": "total_precipitation",
                  "type": "scatter",
                  "x": [
                    0.003459326922894,
                    0.0000389,
                    0.0000689,
                    0.001163817942142,
                    0.009119542315602,
                    0.000329688191414,
                    0.000427037477493,
                    0.0000634,
                    0.0000258,
                    0.0000212,
                    -1.86e-9,
                    -4.28e-8,
                    1.86e-9,
                    0.00005,
                    0.000058,
                    0.005779733881354,
                    0.0000065,
                    0,
                    0.00000296,
                    0.008476560935378,
                    0.000439904630184,
                    0.001321921125054,
                    0.001650800928473,
                    0.000418987125158,
                    0.0000532,
                    0.0000065,
                    -4.28e-8,
                    0,
                    0.000536819919944,
                    0.009122317656875,
                    1.86e-9
                  ],
                  "xaxis": "x7",
                  "y": [
                    1141,
                    1015,
                    1016,
                    1045,
                    1041,
                    1055,
                    1064,
                    1073,
                    1056,
                    1105,
                    1048,
                    1032,
                    1085.5,
                    1118.5,
                    1103,
                    1071,
                    1071,
                    1001,
                    1090,
                    1074,
                    1098,
                    1060.5,
                    1017.5,
                    1003,
                    1012,
                    1069,
                    1042.5,
                    1018,
                    1048,
                    1040,
                    1068
                  ],
                  "yaxis": "y7"
                },
                {
                  "mode": "markers",
                  "name": "u_component_of_wind_10m",
                  "type": "scatter",
                  "x": [
                    3.19898533821106,
                    0.466841250658035,
                    1.45859718322754,
                    0.095185160636902,
                    6.63799238204956,
                    7.77185869216919,
                    5.99508476257324,
                    2.39880895614624,
                    3.80795884132385,
                    3.60884380340576,
                    1.86156606674194,
                    -0.138433709740639,
                    -0.076007284224033,
                    -2.45333647727966,
                    -5.21076822280884,
                    1.91458237171173,
                    -1.01359665393829,
                    -1.44293296337128,
                    -1.2587878704071,
                    1.37802827358246,
                    5.34705781936646,
                    2.55038285255432,
                    4.09385919570923,
                    5.7578616142273,
                    9.46642971038818,
                    4.06499671936035,
                    -0.448076725006104,
                    -1.23186004161835,
                    -1.77081143856049,
                    4.99246835708618,
                    1.81780385971069
                  ],
                  "xaxis": "x8",
                  "y": [
                    1141,
                    1015,
                    1016,
                    1045,
                    1041,
                    1055,
                    1064,
                    1073,
                    1056,
                    1105,
                    1048,
                    1032,
                    1085.5,
                    1118.5,
                    1103,
                    1071,
                    1071,
                    1001,
                    1090,
                    1074,
                    1098,
                    1060.5,
                    1017.5,
                    1003,
                    1012,
                    1069,
                    1042.5,
                    1018,
                    1048,
                    1040,
                    1068
                  ],
                  "yaxis": "y8"
                },
                {
                  "mode": "markers",
                  "name": "v_component_of_wind_10m",
                  "type": "scatter",
                  "x": [
                    0.879467189311981,
                    1.32042729854584,
                    1.85686385631561,
                    2.96889758110046,
                    3.54840111732483,
                    -0.73418515920639,
                    1.86915338039398,
                    1.82474529743195,
                    1.94991743564606,
                    0.900128543376923,
                    1.0910028219223,
                    0.79097443819046,
                    1.09013211727142,
                    -0.377469331026077,
                    -0.760020196437836,
                    2.43778586387634,
                    0.962993383407593,
                    1.48972141742706,
                    0.078127600252628,
                    -0.072672076523304,
                    0.965534210205078,
                    -1.54461085796356,
                    1.15139448642731,
                    0.574900448322296,
                    2.8544065952301,
                    1.82024967670441,
                    0.808631181716919,
                    6.00036287307739,
                    2.67074871063232,
                    0.138764828443527,
                    2.30060434341431
                  ],
                  "xaxis": "x9",
                  "y": [
                    1141,
                    1015,
                    1016,
                    1045,
                    1041,
                    1055,
                    1064,
                    1073,
                    1056,
                    1105,
                    1048,
                    1032,
                    1085.5,
                    1118.5,
                    1103,
                    1071,
                    1071,
                    1001,
                    1090,
                    1074,
                    1098,
                    1060.5,
                    1017.5,
                    1003,
                    1012,
                    1069,
                    1042.5,
                    1018,
                    1048,
                    1040,
                    1068
                  ],
                  "yaxis": "y9"
                }
              ],
              "layout": {
                "height": 1000,
                "showlegend": true,
                "template": {
                  "data": {
                    "bar": [
                      {
                        "error_x": {
                          "color": "#2a3f5f"
                        },
                        "error_y": {
                          "color": "#2a3f5f"
                        },
                        "marker": {
                          "line": {
                            "color": "#E5ECF6",
                            "width": 0.5
                          },
                          "pattern": {
                            "fillmode": "overlay",
                            "size": 10,
                            "solidity": 0.2
                          }
                        },
                        "type": "bar"
                      }
                    ],
                    "barpolar": [
                      {
                        "marker": {
                          "line": {
                            "color": "#E5ECF6",
                            "width": 0.5
                          },
                          "pattern": {
                            "fillmode": "overlay",
                            "size": 10,
                            "solidity": 0.2
                          }
                        },
                        "type": "barpolar"
                      }
                    ],
                    "carpet": [
                      {
                        "aaxis": {
                          "endlinecolor": "#2a3f5f",
                          "gridcolor": "white",
                          "linecolor": "white",
                          "minorgridcolor": "white",
                          "startlinecolor": "#2a3f5f"
                        },
                        "baxis": {
                          "endlinecolor": "#2a3f5f",
                          "gridcolor": "white",
                          "linecolor": "white",
                          "minorgridcolor": "white",
                          "startlinecolor": "#2a3f5f"
                        },
                        "type": "carpet"
                      }
                    ],
                    "choropleth": [
                      {
                        "colorbar": {
                          "outlinewidth": 0,
                          "ticks": ""
                        },
                        "type": "choropleth"
                      }
                    ],
                    "contour": [
                      {
                        "colorbar": {
                          "outlinewidth": 0,
                          "ticks": ""
                        },
                        "colorscale": [
                          [
                            0,
                            "#0d0887"
                          ],
                          [
                            0.1111111111111111,
                            "#46039f"
                          ],
                          [
                            0.2222222222222222,
                            "#7201a8"
                          ],
                          [
                            0.3333333333333333,
                            "#9c179e"
                          ],
                          [
                            0.4444444444444444,
                            "#bd3786"
                          ],
                          [
                            0.5555555555555556,
                            "#d8576b"
                          ],
                          [
                            0.6666666666666666,
                            "#ed7953"
                          ],
                          [
                            0.7777777777777778,
                            "#fb9f3a"
                          ],
                          [
                            0.8888888888888888,
                            "#fdca26"
                          ],
                          [
                            1,
                            "#f0f921"
                          ]
                        ],
                        "type": "contour"
                      }
                    ],
                    "contourcarpet": [
                      {
                        "colorbar": {
                          "outlinewidth": 0,
                          "ticks": ""
                        },
                        "type": "contourcarpet"
                      }
                    ],
                    "heatmap": [
                      {
                        "colorbar": {
                          "outlinewidth": 0,
                          "ticks": ""
                        },
                        "colorscale": [
                          [
                            0,
                            "#0d0887"
                          ],
                          [
                            0.1111111111111111,
                            "#46039f"
                          ],
                          [
                            0.2222222222222222,
                            "#7201a8"
                          ],
                          [
                            0.3333333333333333,
                            "#9c179e"
                          ],
                          [
                            0.4444444444444444,
                            "#bd3786"
                          ],
                          [
                            0.5555555555555556,
                            "#d8576b"
                          ],
                          [
                            0.6666666666666666,
                            "#ed7953"
                          ],
                          [
                            0.7777777777777778,
                            "#fb9f3a"
                          ],
                          [
                            0.8888888888888888,
                            "#fdca26"
                          ],
                          [
                            1,
                            "#f0f921"
                          ]
                        ],
                        "type": "heatmap"
                      }
                    ],
                    "heatmapgl": [
                      {
                        "colorbar": {
                          "outlinewidth": 0,
                          "ticks": ""
                        },
                        "colorscale": [
                          [
                            0,
                            "#0d0887"
                          ],
                          [
                            0.1111111111111111,
                            "#46039f"
                          ],
                          [
                            0.2222222222222222,
                            "#7201a8"
                          ],
                          [
                            0.3333333333333333,
                            "#9c179e"
                          ],
                          [
                            0.4444444444444444,
                            "#bd3786"
                          ],
                          [
                            0.5555555555555556,
                            "#d8576b"
                          ],
                          [
                            0.6666666666666666,
                            "#ed7953"
                          ],
                          [
                            0.7777777777777778,
                            "#fb9f3a"
                          ],
                          [
                            0.8888888888888888,
                            "#fdca26"
                          ],
                          [
                            1,
                            "#f0f921"
                          ]
                        ],
                        "type": "heatmapgl"
                      }
                    ],
                    "histogram": [
                      {
                        "marker": {
                          "pattern": {
                            "fillmode": "overlay",
                            "size": 10,
                            "solidity": 0.2
                          }
                        },
                        "type": "histogram"
                      }
                    ],
                    "histogram2d": [
                      {
                        "colorbar": {
                          "outlinewidth": 0,
                          "ticks": ""
                        },
                        "colorscale": [
                          [
                            0,
                            "#0d0887"
                          ],
                          [
                            0.1111111111111111,
                            "#46039f"
                          ],
                          [
                            0.2222222222222222,
                            "#7201a8"
                          ],
                          [
                            0.3333333333333333,
                            "#9c179e"
                          ],
                          [
                            0.4444444444444444,
                            "#bd3786"
                          ],
                          [
                            0.5555555555555556,
                            "#d8576b"
                          ],
                          [
                            0.6666666666666666,
                            "#ed7953"
                          ],
                          [
                            0.7777777777777778,
                            "#fb9f3a"
                          ],
                          [
                            0.8888888888888888,
                            "#fdca26"
                          ],
                          [
                            1,
                            "#f0f921"
                          ]
                        ],
                        "type": "histogram2d"
                      }
                    ],
                    "histogram2dcontour": [
                      {
                        "colorbar": {
                          "outlinewidth": 0,
                          "ticks": ""
                        },
                        "colorscale": [
                          [
                            0,
                            "#0d0887"
                          ],
                          [
                            0.1111111111111111,
                            "#46039f"
                          ],
                          [
                            0.2222222222222222,
                            "#7201a8"
                          ],
                          [
                            0.3333333333333333,
                            "#9c179e"
                          ],
                          [
                            0.4444444444444444,
                            "#bd3786"
                          ],
                          [
                            0.5555555555555556,
                            "#d8576b"
                          ],
                          [
                            0.6666666666666666,
                            "#ed7953"
                          ],
                          [
                            0.7777777777777778,
                            "#fb9f3a"
                          ],
                          [
                            0.8888888888888888,
                            "#fdca26"
                          ],
                          [
                            1,
                            "#f0f921"
                          ]
                        ],
                        "type": "histogram2dcontour"
                      }
                    ],
                    "mesh3d": [
                      {
                        "colorbar": {
                          "outlinewidth": 0,
                          "ticks": ""
                        },
                        "type": "mesh3d"
                      }
                    ],
                    "parcoords": [
                      {
                        "line": {
                          "colorbar": {
                            "outlinewidth": 0,
                            "ticks": ""
                          }
                        },
                        "type": "parcoords"
                      }
                    ],
                    "pie": [
                      {
                        "automargin": true,
                        "type": "pie"
                      }
                    ],
                    "scatter": [
                      {
                        "fillpattern": {
                          "fillmode": "overlay",
                          "size": 10,
                          "solidity": 0.2
                        },
                        "type": "scatter"
                      }
                    ],
                    "scatter3d": [
                      {
                        "line": {
                          "colorbar": {
                            "outlinewidth": 0,
                            "ticks": ""
                          }
                        },
                        "marker": {
                          "colorbar": {
                            "outlinewidth": 0,
                            "ticks": ""
                          }
                        },
                        "type": "scatter3d"
                      }
                    ],
                    "scattercarpet": [
                      {
                        "marker": {
                          "colorbar": {
                            "outlinewidth": 0,
                            "ticks": ""
                          }
                        },
                        "type": "scattercarpet"
                      }
                    ],
                    "scattergeo": [
                      {
                        "marker": {
                          "colorbar": {
                            "outlinewidth": 0,
                            "ticks": ""
                          }
                        },
                        "type": "scattergeo"
                      }
                    ],
                    "scattergl": [
                      {
                        "marker": {
                          "colorbar": {
                            "outlinewidth": 0,
                            "ticks": ""
                          }
                        },
                        "type": "scattergl"
                      }
                    ],
                    "scattermapbox": [
                      {
                        "marker": {
                          "colorbar": {
                            "outlinewidth": 0,
                            "ticks": ""
                          }
                        },
                        "type": "scattermapbox"
                      }
                    ],
                    "scatterpolar": [
                      {
                        "marker": {
                          "colorbar": {
                            "outlinewidth": 0,
                            "ticks": ""
                          }
                        },
                        "type": "scatterpolar"
                      }
                    ],
                    "scatterpolargl": [
                      {
                        "marker": {
                          "colorbar": {
                            "outlinewidth": 0,
                            "ticks": ""
                          }
                        },
                        "type": "scatterpolargl"
                      }
                    ],
                    "scatterternary": [
                      {
                        "marker": {
                          "colorbar": {
                            "outlinewidth": 0,
                            "ticks": ""
                          }
                        },
                        "type": "scatterternary"
                      }
                    ],
                    "surface": [
                      {
                        "colorbar": {
                          "outlinewidth": 0,
                          "ticks": ""
                        },
                        "colorscale": [
                          [
                            0,
                            "#0d0887"
                          ],
                          [
                            0.1111111111111111,
                            "#46039f"
                          ],
                          [
                            0.2222222222222222,
                            "#7201a8"
                          ],
                          [
                            0.3333333333333333,
                            "#9c179e"
                          ],
                          [
                            0.4444444444444444,
                            "#bd3786"
                          ],
                          [
                            0.5555555555555556,
                            "#d8576b"
                          ],
                          [
                            0.6666666666666666,
                            "#ed7953"
                          ],
                          [
                            0.7777777777777778,
                            "#fb9f3a"
                          ],
                          [
                            0.8888888888888888,
                            "#fdca26"
                          ],
                          [
                            1,
                            "#f0f921"
                          ]
                        ],
                        "type": "surface"
                      }
                    ],
                    "table": [
                      {
                        "cells": {
                          "fill": {
                            "color": "#EBF0F8"
                          },
                          "line": {
                            "color": "white"
                          }
                        },
                        "header": {
                          "fill": {
                            "color": "#C8D4E3"
                          },
                          "line": {
                            "color": "white"
                          }
                        },
                        "type": "table"
                      }
                    ]
                  },
                  "layout": {
                    "annotationdefaults": {
                      "arrowcolor": "#2a3f5f",
                      "arrowhead": 0,
                      "arrowwidth": 1
                    },
                    "autotypenumbers": "strict",
                    "coloraxis": {
                      "colorbar": {
                        "outlinewidth": 0,
                        "ticks": ""
                      }
                    },
                    "colorscale": {
                      "diverging": [
                        [
                          0,
                          "#8e0152"
                        ],
                        [
                          0.1,
                          "#c51b7d"
                        ],
                        [
                          0.2,
                          "#de77ae"
                        ],
                        [
                          0.3,
                          "#f1b6da"
                        ],
                        [
                          0.4,
                          "#fde0ef"
                        ],
                        [
                          0.5,
                          "#f7f7f7"
                        ],
                        [
                          0.6,
                          "#e6f5d0"
                        ],
                        [
                          0.7,
                          "#b8e186"
                        ],
                        [
                          0.8,
                          "#7fbc41"
                        ],
                        [
                          0.9,
                          "#4d9221"
                        ],
                        [
                          1,
                          "#276419"
                        ]
                      ],
                      "sequential": [
                        [
                          0,
                          "#0d0887"
                        ],
                        [
                          0.1111111111111111,
                          "#46039f"
                        ],
                        [
                          0.2222222222222222,
                          "#7201a8"
                        ],
                        [
                          0.3333333333333333,
                          "#9c179e"
                        ],
                        [
                          0.4444444444444444,
                          "#bd3786"
                        ],
                        [
                          0.5555555555555556,
                          "#d8576b"
                        ],
                        [
                          0.6666666666666666,
                          "#ed7953"
                        ],
                        [
                          0.7777777777777778,
                          "#fb9f3a"
                        ],
                        [
                          0.8888888888888888,
                          "#fdca26"
                        ],
                        [
                          1,
                          "#f0f921"
                        ]
                      ],
                      "sequentialminus": [
                        [
                          0,
                          "#0d0887"
                        ],
                        [
                          0.1111111111111111,
                          "#46039f"
                        ],
                        [
                          0.2222222222222222,
                          "#7201a8"
                        ],
                        [
                          0.3333333333333333,
                          "#9c179e"
                        ],
                        [
                          0.4444444444444444,
                          "#bd3786"
                        ],
                        [
                          0.5555555555555556,
                          "#d8576b"
                        ],
                        [
                          0.6666666666666666,
                          "#ed7953"
                        ],
                        [
                          0.7777777777777778,
                          "#fb9f3a"
                        ],
                        [
                          0.8888888888888888,
                          "#fdca26"
                        ],
                        [
                          1,
                          "#f0f921"
                        ]
                      ]
                    },
                    "colorway": [
                      "#636efa",
                      "#EF553B",
                      "#00cc96",
                      "#ab63fa",
                      "#FFA15A",
                      "#19d3f3",
                      "#FF6692",
                      "#B6E880",
                      "#FF97FF",
                      "#FECB52"
                    ],
                    "font": {
                      "color": "#2a3f5f"
                    },
                    "geo": {
                      "bgcolor": "white",
                      "lakecolor": "white",
                      "landcolor": "#E5ECF6",
                      "showlakes": true,
                      "showland": true,
                      "subunitcolor": "white"
                    },
                    "hoverlabel": {
                      "align": "left"
                    },
                    "hovermode": "closest",
                    "mapbox": {
                      "style": "light"
                    },
                    "paper_bgcolor": "white",
                    "plot_bgcolor": "#E5ECF6",
                    "polar": {
                      "angularaxis": {
                        "gridcolor": "white",
                        "linecolor": "white",
                        "ticks": ""
                      },
                      "bgcolor": "#E5ECF6",
                      "radialaxis": {
                        "gridcolor": "white",
                        "linecolor": "white",
                        "ticks": ""
                      }
                    },
                    "scene": {
                      "xaxis": {
                        "backgroundcolor": "#E5ECF6",
                        "gridcolor": "white",
                        "gridwidth": 2,
                        "linecolor": "white",
                        "showbackground": true,
                        "ticks": "",
                        "zerolinecolor": "white"
                      },
                      "yaxis": {
                        "backgroundcolor": "#E5ECF6",
                        "gridcolor": "white",
                        "gridwidth": 2,
                        "linecolor": "white",
                        "showbackground": true,
                        "ticks": "",
                        "zerolinecolor": "white"
                      },
                      "zaxis": {
                        "backgroundcolor": "#E5ECF6",
                        "gridcolor": "white",
                        "gridwidth": 2,
                        "linecolor": "white",
                        "showbackground": true,
                        "ticks": "",
                        "zerolinecolor": "white"
                      }
                    },
                    "shapedefaults": {
                      "line": {
                        "color": "#2a3f5f"
                      }
                    },
                    "ternary": {
                      "aaxis": {
                        "gridcolor": "white",
                        "linecolor": "white",
                        "ticks": ""
                      },
                      "baxis": {
                        "gridcolor": "white",
                        "linecolor": "white",
                        "ticks": ""
                      },
                      "bgcolor": "#E5ECF6",
                      "caxis": {
                        "gridcolor": "white",
                        "linecolor": "white",
                        "ticks": ""
                      }
                    },
                    "title": {
                      "x": 0.05
                    },
                    "xaxis": {
                      "automargin": true,
                      "gridcolor": "white",
                      "linecolor": "white",
                      "ticks": "",
                      "title": {
                        "standoff": 15
                      },
                      "zerolinecolor": "white",
                      "zerolinewidth": 2
                    },
                    "yaxis": {
                      "automargin": true,
                      "gridcolor": "white",
                      "linecolor": "white",
                      "ticks": "",
                      "title": {
                        "standoff": 15
                      },
                      "zerolinecolor": "white",
                      "zerolinewidth": 2
                    }
                  }
                },
                "title": {
                  "text": "Relationship between weather features and Eta in seconds"
                },
                "xaxis": {
                  "anchor": "y",
                  "domain": [
                    0,
                    0.45
                  ],
                  "title": {
                    "text": "dewpoint_2m_temperature"
                  }
                },
                "xaxis10": {
                  "anchor": "y10",
                  "domain": [
                    0.55,
                    1
                  ]
                },
                "xaxis2": {
                  "anchor": "y2",
                  "domain": [
                    0.55,
                    1
                  ],
                  "title": {
                    "text": "maximum_2m_air_temperature"
                  }
                },
                "xaxis3": {
                  "anchor": "y3",
                  "domain": [
                    0,
                    0.45
                  ],
                  "title": {
                    "text": "mean_2m_air_temperature"
                  }
                },
                "xaxis4": {
                  "anchor": "y4",
                  "domain": [
                    0.55,
                    1
                  ],
                  "title": {
                    "text": "mean_sea_level_pressure"
                  }
                },
                "xaxis5": {
                  "anchor": "y5",
                  "domain": [
                    0,
                    0.45
                  ],
                  "title": {
                    "text": "minimum_2m_air_temperature"
                  }
                },
                "xaxis6": {
                  "anchor": "y6",
                  "domain": [
                    0.55,
                    1
                  ],
                  "title": {
                    "text": "surface_pressure"
                  }
                },
                "xaxis7": {
                  "anchor": "y7",
                  "domain": [
                    0,
                    0.45
                  ],
                  "title": {
                    "text": "total_precipitation"
                  }
                },
                "xaxis8": {
                  "anchor": "y8",
                  "domain": [
                    0.55,
                    1
                  ],
                  "title": {
                    "text": "u_component_of_wind_10m"
                  }
                },
                "xaxis9": {
                  "anchor": "y9",
                  "domain": [
                    0,
                    0.45
                  ],
                  "title": {
                    "text": "v_component_of_wind_10m"
                  }
                },
                "yaxis": {
                  "anchor": "x",
                  "domain": [
                    0.848,
                    1
                  ],
                  "title": {
                    "text": "Eta"
                  }
                },
                "yaxis10": {
                  "anchor": "x10",
                  "domain": [
                    0,
                    0.152
                  ]
                },
                "yaxis2": {
                  "anchor": "x2",
                  "domain": [
                    0.848,
                    1
                  ],
                  "title": {
                    "text": "Eta"
                  }
                },
                "yaxis3": {
                  "anchor": "x3",
                  "domain": [
                    0.6359999999999999,
                    0.7879999999999999
                  ],
                  "title": {
                    "text": "Eta"
                  }
                },
                "yaxis4": {
                  "anchor": "x4",
                  "domain": [
                    0.6359999999999999,
                    0.7879999999999999
                  ],
                  "title": {
                    "text": "Eta"
                  }
                },
                "yaxis5": {
                  "anchor": "x5",
                  "domain": [
                    0.424,
                    0.576
                  ],
                  "title": {
                    "text": "Eta"
                  }
                },
                "yaxis6": {
                  "anchor": "x6",
                  "domain": [
                    0.424,
                    0.576
                  ],
                  "title": {
                    "text": "Eta"
                  }
                },
                "yaxis7": {
                  "anchor": "x7",
                  "domain": [
                    0.212,
                    0.364
                  ],
                  "title": {
                    "text": "Eta"
                  }
                },
                "yaxis8": {
                  "anchor": "x8",
                  "domain": [
                    0.212,
                    0.364
                  ],
                  "title": {
                    "text": "Eta"
                  }
                },
                "yaxis9": {
                  "anchor": "x9",
                  "domain": [
                    0,
                    0.152
                  ],
                  "title": {
                    "text": "Eta"
                  }
                }
              }
            }
          },
          "metadata": {},
          "output_type": "display_data"
        }
      ],
      "source": [
        "# Create subplots\n",
        "fig = make_subplots(rows=5, cols=2)\n",
        "\n",
        "x_cols = [col for col in daily_weather_eta_df.columns if col != target]\n",
        "\n",
        "x_titles = {}\n",
        "y_titles = {}\n",
        "\n",
        "for i, col in enumerate(x_cols):\n",
        "    r = int(np.ceil((i+1)/2))\n",
        "    c = 2 if ((i+1)%2==0) else 1\n",
        "    fig.add_scatter(x=daily_weather_eta_df[col], y=daily_weather_eta_df[target], mode='markers', name=f'{col}', row=r, col=c)\n",
        "    x_titles[f\"xaxis{i+1}_title\"]=col\n",
        "    y_titles[f\"yaxis{i+1}_title\"]='Eta'\n",
        "\n",
        "# Update layout\n",
        "fig.update_layout(\n",
        "    title_text='Relationship between weather features and Eta in seconds',\n",
        "    showlegend=True,\n",
        "    height=1000,\n",
        "    **x_titles,\n",
        "    **y_titles\n",
        ")\n",
        "\n",
        "# Show the figure\n",
        "fig.show()"
      ]
    },
    {
      "cell_type": "markdown",
      "metadata": {
        "id": "KQipjUMG_FJF"
      },
      "source": [
        "Pairplot of ETA vs other Weather features"
      ]
    },
    {
      "cell_type": "code",
      "execution_count": null,
      "metadata": {
        "id": "rH4pwpFD_KfI"
      },
      "outputs": [],
      "source": [
        "other_features = [col for col in time_weather_eta_df.columns.to_list() if 'temperature' not in col]\n",
        "\n",
        "# Create the pair plot\n",
        "fig = px.scatter_matrix(\n",
        "    time_weather_eta_df,\n",
        "    dimensions = other_features,\n",
        "\n",
        ")\n",
        "\n",
        "# Update the layout for better visualization\n",
        "fig.update_layout(\n",
        "    title=f\"Pair Plot of {', '.join(other_features)} columns\",\n",
        "    width=1440,\n",
        "    height=1440,\n",
        ")\n",
        "\n",
        "fig.show()"
      ]
    },
    {
      "cell_type": "markdown",
      "metadata": {
        "id": "eQyKpcAPDG7e"
      },
      "source": [
        "QN. 4 What are the peak hours for long trip durations and how can they be optimized?\n",
        "    "
      ]
    },
    {
      "cell_type": "code",
      "execution_count": null,
      "metadata": {
        "id": "y7iPP_O6Ji_F"
      },
      "outputs": [],
      "source": [
        "trip_duration = train_df[['timestamp', 'eta']]\n",
        "\n",
        "trip_duration['eta_hours'] = trip_duration['eta']/3600\n",
        "\n",
        "trip_duration['hour'] = trip_duration['timestamp'].dt.hour\n",
        "\n",
        "# Calculate average ETA by hour\n",
        "average_eta_by_hour = trip_duration.groupby('hour')['eta_hours'].mean().reset_index()\n",
        "\n",
        "#Calculate the count of ETA by hour\n",
        "count_eta_by_hour = trip_duration.groupby('hour')['eta_hours'].count().reset_index()\n",
        "\n",
        "# Plot count ETA by hour\n",
        "fig = px.line(count_eta_by_hour, x='hour', y='eta_hours', title='Count ETA by Hour of the Day')\n",
        "\n",
        "fig.show()\n",
        "\n",
        "\n",
        "# Plot average ETA by hour\n",
        "fig = px.line(average_eta_by_hour, x='hour', y='eta_hours', title='Average ETA by Hour of the Day')\n",
        "\n",
        "fig.show()"
      ]
    },
    {
      "cell_type": "markdown",
      "metadata": {
        "id": "xJqHTh0qRU_Q"
      },
      "source": [
        "#### Observations\n"
      ]
    },
    {
      "cell_type": "markdown",
      "metadata": {
        "id": "EyQ3TPF4DPue"
      },
      "source": [
        "QN. 5 Is there a significant difference in trip durations between weekdays and weekends?\n",
        "    "
      ]
    },
    {
      "cell_type": "code",
      "execution_count": null,
      "metadata": {
        "id": "--1JvOhHJ1Is"
      },
      "outputs": [],
      "source": [
        "day_eta_df = train_df[['timestamp', 'eta']]\n",
        "\n",
        "day_eta_df['eta_hours'] = day_eta_df['eta']/3600\n",
        "\n",
        "day_eta_df['day_of_week'] = day_eta_df['timestamp'].dt.day_name()\n",
        "\n",
        "category_orders={\"day_of_week\": [\"Saturday\", \"Sunday\", \"Monday\", \"Tuesday\", \"Wednesday\", \"Thursday\", \"Friday\"]}\n",
        "\n",
        "# Boxplot of ETA by Day of the Week\n",
        "fig = px.box(day_eta_df, x='day_of_week', y='eta_hours',  title = 'ETA by Day of the Week', category_orders = category_orders)\n",
        "fig.show()\n",
        "\n",
        "# Calculate average ETA by day of the week\n",
        "average_eta_by_day = day_eta_df.groupby('day_of_week')['eta_hours'].mean().reset_index()\n",
        "\n",
        "\n",
        "# Create a Plotly line chart\n",
        "fig = px.line(average_eta_by_day, x='day_of_week', y='eta_hours', title='Average ETA by Day of the Week')\n",
        "\n",
        " # Update x-axis to have correct day names\n",
        "fig.update_layout( xaxis_title='Day of the Week',  yaxis_title='Average ETA (hours)')\n",
        "# Show the plot\n",
        "fig.show()\n",
        "\n",
        "\n",
        "# Define weekdays (Sunday to Thursday) and weekends (Friday and Saturday)\n",
        "weekends_list = ['Friday','Saturday']\n",
        "\n",
        "mask = day_eta_df['day_of_week'].isin(weekends_list)\n",
        "\n",
        "weekdays = day_eta_df[~mask]['eta_hours']\n",
        "weekends = day_eta_df[mask]['eta_hours']\n",
        "\n",
        "# Perform t-test\n",
        "t_stat, p_value = ttest_ind(weekdays, weekends)\n",
        "print(f\"T-statistic: {t_stat}, P-value: {p_value}\")\n",
        "\n",
        "# Conclusion\n",
        "if p_value < 0.05:\n",
        "    print(\"Reject the null hypothesis: There is a significant difference in trip durations between weekdays and weekends.\")\n",
        "else:\n",
        "    print(\"Fail to reject the null hypothesis: There is no significant difference in trip durations between weekdays and weekends.\")"
      ]
    },
    {
      "cell_type": "markdown",
      "metadata": {
        "id": "IXKeOsExDUx3"
      },
      "source": [
        "QN. 6 How does the density of trips in a given area affect the performance of the ETA prediction?\n",
        "    "
      ]
    },
    {
      "cell_type": "code",
      "execution_count": null,
      "metadata": {
        "id": "iMCRnzxfLmid"
      },
      "outputs": [],
      "source": [
        "# Define a function to categorize coordinates into grids\n",
        "def categorize_area(lat, lon, grid_size=0.1):\n",
        "    return (round(lat / grid_size) * grid_size, round(lon / grid_size) * grid_size)\n",
        "\n",
        "# Create a new dataframe to be used\n",
        "trip_density_df = train_df[['origin_lat','origin_lon','destination_lat','destination_lon','eta','trip_distance']]\n",
        "\n",
        "# Apply the function to create a new 'area' column\n",
        "trip_density_df['origin_area'] = trip_density_df.apply(lambda row: categorize_area(row['origin_lat'], row['origin_lon']), axis=1)\n",
        "trip_density_df['destination_area'] = trip_density_df.apply(lambda row: categorize_area(row['destination_lat'], row['destination_lon']), axis=1)\n",
        "trip_density_df.head(1)"
      ]
    },
    {
      "cell_type": "markdown",
      "metadata": {
        "id": "HqLSOaejDbiN"
      },
      "source": [
        "QN. 7 How does the model's ETA prediction accuracy compare to industry benchmarks or competitors?"
      ]
    },
    {
      "cell_type": "markdown",
      "metadata": {
        "id": "Y9BvS5DBDgNj"
      },
      "source": [
        "Qn. 8 How does the time of day influence the demand for Yassir rides in different geographical areas?"
      ]
    },
    {
      "cell_type": "markdown",
      "metadata": {
        "id": "S2otsLee1BUR"
      },
      "source": [
        "QN. 9 Which origin and destination locations are most common?/Have the most rides"
      ]
    },
    {
      "cell_type": "code",
      "execution_count": null,
      "metadata": {
        "id": "t29nvj8o1E8H"
      },
      "outputs": [],
      "source": [
        "# Group by origin locations and count occurrences\n",
        "origin_counts = train_df.groupby(['origin_lat', 'origin_lon'])['origin_lon'].count().reset_index(name='count')\n",
        "\n",
        "# Sort by count in descending order\n",
        "most_common_origins = origin_counts.sort_values(by='count', ascending=False).head(10)\n",
        "\n",
        "# Group by destination locations and count occurrences\n",
        "destination_counts = train_df.groupby(['destination_lat', 'destination_lon'])['destination_lon'].count().reset_index(name='count')\n",
        "\n",
        "# Sort by count in descending order\n",
        "most_common_destinations = destination_counts.sort_values(by='count', ascending=False).head(10)\n",
        "most_common_origins"
      ]
    },
    {
      "cell_type": "code",
      "execution_count": null,
      "metadata": {
        "id": "4z6BtjYL23Jx"
      },
      "outputs": [],
      "source": [
        "# Create subplots\n",
        "fig = make_subplots(rows=1, cols=2, subplot_titles=('Top 10 Most Common Origin Locations', 'Top 10 Most Common Destination Locations'))\n",
        "\n",
        "# Prepare data for origin locations\n",
        "most_common_origins['location'] = most_common_origins.apply(lambda row: f\"({row['origin_lat']}, {row['origin_lon']})\", axis=1)\n",
        "\n",
        "# Add trace for origin locations\n",
        "fig.add_trace(\n",
        "    go.Bar(x=most_common_origins['location'], y=most_common_origins['count'],\n",
        "           name='Origin Locations'),\n",
        "    row=1, col=1\n",
        ")\n",
        "\n",
        "# Prepare data for destination locations\n",
        "most_common_destinations['location'] = most_common_destinations.apply(lambda row: f\"({row['destination_lat']}, {row['destination_lon']})\", axis=1)\n",
        "\n",
        "# Add trace for destination locations\n",
        "fig.add_trace(\n",
        "    go.Bar(x=most_common_destinations['location'], y=most_common_destinations['count'],\n",
        "           name='Destination Locations'),\n",
        "    row=1, col=2\n",
        ")\n",
        "\n",
        "# Update layout\n",
        "fig.update_layout(\n",
        "    title_text='Top 10 Most Common Origin and Destination Locations',\n",
        "    xaxis_title='Origin Locations',\n",
        "    yaxis_title='Number of Rides',\n",
        "    xaxis2_title='Destination Locations',\n",
        "    yaxis2_title='Number of Rides',\n",
        "    xaxis_tickangle=-45,\n",
        "    xaxis2_tickangle=-45,\n",
        "    showlegend=False\n",
        ")\n",
        "\n",
        "# Show the figure\n",
        "fig.show()"
      ]
    },
    {
      "cell_type": "markdown",
      "metadata": {
        "id": "xhy6vFtx6JSP"
      },
      "source": [
        "QN. 10 What are the top 10 longest and top 10 shortest trips, and how do their ETAs compare?"
      ]
    },
    {
      "cell_type": "code",
      "execution_count": null,
      "metadata": {
        "id": "t-9m7-JDDv38"
      },
      "outputs": [],
      "source": [
        "train_df.head(1)"
      ]
    },
    {
      "cell_type": "code",
      "execution_count": null,
      "metadata": {
        "id": "Z52uhj7iNOlw"
      },
      "outputs": [],
      "source": [
        "# Get the 10 largest trip distances (shortest)\n",
        "short_trips = train_df[['trip_distance','eta']].nsmallest(10, 'trip_distance').rename(columns={'trip_distance': 'short_trip_distance'})\n",
        "\n",
        "# Get the 10 smallest trip distances (longest)\n",
        "long_trips = train_df[['trip_distance','eta']].nlargest(10, 'trip_distance').rename(columns={'trip_distance': 'long_trip_distance'})\n",
        "\n",
        "fig = px.line(short_trips, x='short_trip_distance', y='eta')\n",
        "fig.show()\n",
        "\n",
        "fig = px.line(long_trips, x='long_trip_distance', y='eta')\n",
        "fig.show()"
      ]
    },
    {
      "cell_type": "markdown",
      "metadata": {
        "id": "CijJuoTu7TVk"
      },
      "source": [
        "QN. 11 What is the percentage of trips with ETAs exceeding 30 minutes."
      ]
    },
    {
      "cell_type": "code",
      "execution_count": null,
      "metadata": {
        "id": "DQnGkCFcALq1"
      },
      "outputs": [],
      "source": [
        "eta_df = train_df['eta_hours'] = train_df['ETA'] / 3600\n",
        "\n",
        "# Create a dataframe for ETA values\n",
        "eta_df = train_df[['eta_hours']]\n",
        "\n",
        "# Convert ETA to minutes\n",
        "eta_df['eta_minutes'] = eta_df['eta_hours'] * 60\n",
        "\n",
        "# Filter trips with ETAs exceeding 30 minutes\n",
        "long_trips = eta_df[eta_df['eta_minutes'] > 30]\n",
        "\n",
        "# Count the number of trips with ETAs exceeding 30 minutes\n",
        "num_long_trips = len(long_trips)\n",
        "\n",
        "# Calculate the total number of trips\n",
        "total_trips = len(eta_df)\n",
        "\n",
        "# Calculate the percentage of trips with ETAs exceeding 30 minutes\n",
        "percentage_long_trips = (num_long_trips / total_trips) * 100\n",
        "\n",
        "# Create a summary dataframe\n",
        "summary_df = pd.DataFrame({\n",
        "    'Total Trips': [total_trips],\n",
        "    'Trips > 30 min': [num_long_trips],\n",
        "    'Percentage > 30 min': [percentage_long_trips]\n",
        "})\n",
        "summary_df"
      ]
    },
    {
      "cell_type": "code",
      "execution_count": null,
      "metadata": {
        "id": "jkLJiBVBJRJu"
      },
      "outputs": [],
      "source": [
        "# Create labels and values for the pie chart\n",
        "labels = ['Trips > 30 min', 'Trips <= 30 min']\n",
        "values = [num_long_trips, total_trips - num_long_trips]\n",
        "\n",
        "# Create a pie chart using Plotly\n",
        "fig = go.Figure(data=[go.Pie(labels=labels, values=values,\n",
        "                             insidetextorientation='radial', marker=dict(colors=['crimson', 'lightblue']))])\n",
        "# Update layout\n",
        "fig.update_layout(\n",
        "    title='Percentage of Trips with ETAs Exceeding 30 Minutes'\n",
        ")\n",
        "# Show plot\n",
        "fig.show()"
      ]
    },
    {
      "cell_type": "markdown",
      "metadata": {
        "id": "P2Cjmrs6BFrr"
      },
      "source": [
        "QN. 12 What is the average number of trips per hour?"
      ]
    },
    {
      "cell_type": "code",
      "execution_count": null,
      "metadata": {
        "id": "RCEa9ik4B_94"
      },
      "outputs": [],
      "source": [
        "# Create a dataframe for Timestamp\n",
        "time_df = train_df[['Timestamp']]\n",
        "\n",
        "# Extract the hour from the timestamp\n",
        "time_df['hour'] = time_df['Timestamp'].dt.hour\n",
        "\n",
        "# Count the number of trips for each hour\n",
        "trips_per_hour = time_df['hour'].value_counts().sort_index().reset_index().rename(columns={'hour': 'Hour', 'count': 'Number of Trips'})\n",
        "\n",
        "ave_trips_per_hour = trips_per_hour.groupby('Hour')['Number of Trips'].mean().reset_index()\n",
        "ave_trips_per_hour"
      ]
    },
    {
      "cell_type": "code",
      "execution_count": null,
      "metadata": {
        "id": "KASOjh_CFhIJ"
      },
      "outputs": [],
      "source": [
        "# Plot count ETA by hour\n",
        "fig = px.line(ave_trips_per_hour, x='Hour', y='Number of Trips', title='Average number of trips by Hour')\n",
        "\n",
        "fig.show()"
      ]
    },
    {
      "cell_type": "markdown",
      "metadata": {
        "id": "3TnkFaEA5_Ex"
      },
      "source": [
        "#### Hypothesis"
      ]
    },
    {
      "cell_type": "code",
      "execution_count": null,
      "metadata": {
        "id": "Ceo8ZKkawn3X"
      },
      "outputs": [],
      "source": [
        "alpha=0.05"
      ]
    },
    {
      "cell_type": "markdown",
      "metadata": {
        "id": "bq9hmK-vu7F1"
      },
      "source": [
        "### Normality test- Using Shapiro-Wilk test"
      ]
    },
    {
      "cell_type": "code",
      "execution_count": null,
      "metadata": {
        "id": "zo7HUTauu6U-"
      },
      "outputs": [],
      "source": [
        "numericals = train_df.select_dtypes(include='number').columns.to_list()\n",
        "for c in numericals:\n",
        "  print([c])\n",
        "  a, b = shapiro(train_df[[c]])\n",
        "  print(f'Statistics: {a}, p-value: b')\n",
        "\n",
        "  if b < alpha:\n",
        "    print('The distribution is not normal')\n",
        "  else:\n",
        "    print('The distribution is normal')"
      ]
    },
    {
      "cell_type": "code",
      "execution_count": null,
      "metadata": {
        "id": "oXhSRToz6Hqj"
      },
      "outputs": [],
      "source": [
        "week_eta_df = train_df[['timestamp', 'eta']]\n",
        "\n",
        "week_eta_df['eta_hours'] = week_eta_df['eta']/3600\n",
        "\n",
        "week_eta_df['day_of_week'] = week_eta_df['timestamp'].dt.day_name()\n",
        "\n",
        "# Define weekdays (Sunday to Thursday) and weekends (Friday and Saturday)\n",
        "weekends_list = ['Friday','Saturday']\n",
        "\n",
        "mask = week_eta_df['day_of_week'].isin(weekends_list)\n",
        "\n",
        "weekdays = day_eta_df[~mask]['eta_hours']\n",
        "weekends = day_eta_df[mask]['eta_hours']\n",
        "\n",
        "\n",
        "# Perform Mann-Whitney U test\n",
        "u_statistic, p_value = mannwhitneyu(weekdays, weekends, alternative='two-sided', nan_policy='omit')\n",
        "\n",
        "# Print the results\n",
        "print(\"Mann-Whitney U Test Results:\")\n",
        "print(f\"U-statistic: {u_statistic}\")\n",
        "print(f\"P-value: {p_value}\")\n",
        "\n",
        "# Conclusion\n",
        "if p_value < 0.05:\n",
        "    print(\"Reject the null hypothesis: There is a significant difference in trip durations between weekdays and weekends.\")\n",
        "else:\n",
        "    print(\"Fail to reject the null hypothesis: There is no significant difference in trip durations between weekdays and weekends.\")"
      ]
    },
    {
      "cell_type": "markdown",
      "metadata": {
        "id": "3Ibq0OWzA5zv"
      },
      "source": [
        "This finding suggests that the behavior of trip durations varies notably depending on the day of the week, with implications for operational efficiency and customer experience.\n",
        "\n",
        "### Key Findings\n",
        "\n",
        "- **Statistical Insight**: The Mann-Whitney U test yielded a U-statistic of 721,718,033.5 with a p-value of 3.81e-06, well below the conventional significance level of 0.05. This leads to a rejection of the null hypothesis, confirming that trip durations differ significantly between weekdays and weekends.\n",
        "  \n",
        "- **Operational Impact**: The significant variation in trip durations highlights potential inefficiencies in resource allocation. Weekends may see either longer or shorter trips due to differences in traffic patterns, rider behavior, or demand fluctuations. If trip durations are longer on weekends, this could lead to increased operational costs and reduced fleet availability. Conversely, shorter durations could indicate underutilization of resources, presenting an opportunity to optimize service levels.\n",
        "\n",
        "- **Customer Experience**: Discrepancies in trip durations across different days could impact customer satisfaction. Longer trip durations on weekends may lead to delays and dissatisfaction, particularly if expectations are set based on weekday performance. Consistency in ETA is crucial for maintaining customer trust and satisfaction, so addressing these discrepancies could enhance the overall customer experience.\n",
        "\n",
        "### Business Impact\n",
        "\n",
        "1. **Resource Optimization**: Understanding the differences in trip durations allows for better resource allocation. For example, if weekend trips are typically longer, the business might need to deploy more vehicles or adjust driver schedules to meet demand and reduce wait times. This optimization can lead to cost savings and improved service reliability.\n",
        "\n",
        "2. **Demand Forecasting**: The significant difference in trip durations suggests that demand patterns vary between weekdays and weekends. Leveraging this insight can improve demand forecasting models, allowing for more accurate predictions and better planning.\n",
        "\n",
        "3. **Service Level Adjustments**: To address customer dissatisfaction due to longer trip durations on weekends, the business could explore dynamic pricing, offering incentives for off-peak travel, or adjusting service levels to ensure faster service during peak times.\n",
        "\n",
        "### Opportunities\n",
        "\n",
        "- **Targeted Marketing**: The data indicates an opportunity for targeted marketing campaigns aimed at smoothing out demand across the week. For instance, offering promotions for weekend travel during off-peak hours could help balance demand and reduce pressure on resources during peak times.\n",
        "\n",
        "- **Data-Driven Strategy**: With clear evidence of differing trip durations, the business has an opportunity to adopt a more data-driven approach to operations. This could involve using real-time data to adjust fleet deployment dynamically, ensuring optimal service levels throughout the week.\n",
        "\n",
        "- **Customer Communication**: Enhancing communication with customers regarding expected trip durations on different days could manage expectations and improve satisfaction. Transparent communication about potential delays on weekends, along with proactive measures to mitigate them, could strengthen customer trust.\n",
        "\n",
        "### Conclusion\n",
        "\n",
        "The significant difference in trip durations between weekdays and weekends presents both challenges and opportunities for the business. By optimizing resource allocation, refining demand forecasting, and enhancing customer communication, the company can not only mitigate potential negative impacts but also unlock new avenues for growth and efficiency. Adopting these strategies will position the business to deliver a more consistent and satisfying customer experience while maintaining operational excellence."
      ]
    },
    {
      "cell_type": "code",
      "execution_count": null,
      "metadata": {
        "id": "P2Oe6SBT2G-k"
      },
      "outputs": [],
      "source": [
        "# Boxplot of ETA by Day of the Week\n",
        "fig = make_subplots(rows=1, cols=2, subplot_titles=('ETA weekdays', 'ETA weekends'))\n",
        "fig.add_trace(\n",
        "    go.Box(y=weekdays,\n",
        "           name='Weekdays'),\n",
        "    row=1, col=1\n",
        ")\n",
        "fig.add_trace(\n",
        "    go.Box(y=weekends,\n",
        "           name='Weekends'),\n",
        "    row=1, col=2\n",
        ")\n",
        "\n",
        "# Update layout\n",
        "fig.update_layout(\n",
        "    title_text='Trip durations between weekdays and weekends',\n",
        "    yaxis_title='ETA (hours)',\n",
        "    yaxis2_title='ETA (hours)',\n",
        "    showlegend=False\n",
        ")\n",
        "\n",
        "fig.show()\n"
      ]
    },
    {
      "cell_type": "code",
      "execution_count": null,
      "metadata": {
        "id": "lTWeVlrx3xou"
      },
      "outputs": [],
      "source": [
        "wk_df = train_df[['timestamp', 'eta']]\n",
        "\n",
        "wk_df['day_type'] = ['Weekend' if wk_day in [4, 5] else 'Weekday' for wk_day in wk_df['timestamp'].dt.weekday ]\n",
        "\n",
        "wk_df['eta_hours'] = week_eta_df['eta']/3600\n",
        "\n",
        "# Add a month column for monthly trend analysis\n",
        "wk_df['month'] = wk_df['timestamp'].dt.month_name()\n",
        "\n",
        "# Calculate average trip duration per day type per month\n",
        "trend_df = wk_df.groupby(['month', 'day_type']).agg({'eta_hours': 'median'}).reset_index()\n",
        "\n",
        "# Plot the trend using Plotly\n",
        "fig = px.line(trend_df, x='month', y='eta_hours', color='day_type',\n",
        "              title='Trend of Median Trip Duration over Time',\n",
        "              labels={'eta_hours': 'Median Trip Duration (hours)', 'month': 'Month'},\n",
        "              markers=True)\n",
        "\n",
        "# Customize the plot\n",
        "fig.update_layout(xaxis_title='Month',\n",
        "                  yaxis_title='Median Trip Duration (hours)',\n",
        "                  legend_title='Day Type',\n",
        "                  hovermode='x unified')\n",
        "\n",
        "# Show the plot\n",
        "fig.show()"
      ]
    },
    {
      "cell_type": "markdown",
      "metadata": {
        "id": "kLUK7T88Bpl-"
      },
      "source": [
        "The median values indicate that, while statistically significant, the practical difference between weekdays and weekends is subtle. This finding suggests opportunities for fine-tuning operations and enhancing customer satisfaction.\n",
        "\n",
        "### Key Findings\n",
        "\n",
        "- **ETA Variation**: The data shows that the median ETA is slightly longer on weekdays compared to weekends for both November and December.\n",
        "  - **December**: The median ETA on weekdays is 0.295 hours, compared to 0.288 hours on weekends.\n",
        "  - **November**: The median ETA on weekdays is 0.294 hours, compared to 0.289 hours on weekends.\n",
        "\n",
        "- **Consistency Across Months**: The pattern of longer weekday ETAs is consistent across both months, indicating a persistent trend rather than random variability.\n",
        "\n",
        "### Business Impact\n",
        "\n",
        "- **Operational Efficiency**: The slight increase in median ETA on weekdays suggests potential inefficiencies, such as higher traffic or demand during these periods. Addressing these factors could lead to improvements in operational performance.\n",
        "\n",
        "- **Customer Experience**: Even small differences in median ETA can influence customer perceptions, especially during high-demand periods. Ensuring more consistent ETAs across the week could enhance overall customer satisfaction.\n",
        "\n",
        "- **Predictable Patterns**: The consistency of these differences across months suggests that these trends are predictable, allowing the business to anticipate and plan for varying demand and traffic conditions.\n",
        "\n",
        "### Opportunities\n",
        "\n",
        "- **Route Optimization**: Given the consistent yet small difference in median ETAs, there's an opportunity to optimize routes specifically for weekdays. Adjustments could be made to minimize delays and improve trip efficiency during these peak times.\n",
        "\n",
        "- **Enhanced Demand Forecasting**: The median-based analysis supports the development of more refined demand forecasting models that account for day-of-week variations. This can lead to better resource allocation and improved service reliability.\n",
        "\n",
        "- **Customer Communication Strategies**: Clear communication with customers about potential weekday delays, coupled with targeted incentives for off-peak travel, could help manage expectations and maintain customer loyalty.\n",
        "\n",
        "\n",
        "The significant difference in median trip durations between weekdays and weekends, while statistically notable, is relatively modest. This suggests room for operational improvements that could further reduce ETAs, particularly during weekdays. By leveraging these insights, the business can optimize its operations and enhance customer satisfaction, ensuring a more consistent and reliable service."
      ]
    },
    {
      "cell_type": "code",
      "execution_count": null,
      "metadata": {
        "id": "tMWRaa_VQc9k"
      },
      "outputs": [],
      "source": [
        "train_df.head(1)"
      ]
    },
    {
      "cell_type": "markdown",
      "metadata": {
        "id": "s-ba0qWc3KF4"
      },
      "source": [
        "# Data Preparation"
      ]
    },
    {
      "cell_type": "markdown",
      "metadata": {
        "id": "XqTyFa0pQMzC"
      },
      "source": [
        "Divide the Dataset into X and y variables"
      ]
    },
    {
      "cell_type": "code",
      "execution_count": null,
      "metadata": {
        "id": "nLQlim2_TTU8"
      },
      "outputs": [],
      "source": []
    },
    {
      "cell_type": "code",
      "execution_count": null,
      "metadata": {
        "id": "nZgspC69mtiv"
      },
      "outputs": [],
      "source": []
    },
    {
      "cell_type": "code",
      "execution_count": 170,
      "metadata": {
        "id": "AoZCMGSRNPet"
      },
      "outputs": [],
      "source": [
        "X = train_df.drop('eta', axis=1)\n",
        "y = train_df['eta']\n",
        "\n",
        "X_train,X_test,y_train,y_test = train_test_split(X, y, test_size=0.20, random_state=42)"
      ]
    },
    {
      "cell_type": "markdown",
      "metadata": {
        "id": "xrLb8Cx9eRNr"
      },
      "source": [
        "Preparing Pipelines"
      ]
    },
    {
      "cell_type": "code",
      "execution_count": 200,
      "metadata": {
        "id": "py7_I0vOUeyu"
      },
      "outputs": [
        {
          "data": {
            "text/plain": [
              "Index(['origin_lat', 'origin_lon', 'destination_lat', 'destination_lon',\n",
              "       'trip_distance'],\n",
              "      dtype='object')"
            ]
          },
          "execution_count": 200,
          "metadata": {},
          "output_type": "execute_result"
        }
      ],
      "source": [
        "numerical_features = X.select_dtypes('number').columns\n",
        "numerical_features"
      ]
    },
    {
      "cell_type": "code",
      "execution_count": 201,
      "metadata": {
        "id": "BKmRbgvOc9pr"
      },
      "outputs": [],
      "source": [
        "numerical_pipeline = Pipeline(\n",
        "    steps=[\n",
        "        ('imputer', SimpleImputer(strategy = 'median')),\n",
        "        ('scaler', StandardScaler())\n",
        "    ]\n",
        ")\n",
        "\n",
        "preprocessor = ColumnTransformer(\n",
        "    transformers=[\n",
        "        ('numerical_pipeline', numerical_pipeline, numerical_features)\n",
        "    ],\n",
        "    remainder='drop'\n",
        ")\n"
      ]
    },
    {
      "cell_type": "code",
      "execution_count": 202,
      "metadata": {
        "id": "rb_HYOvr37Pl"
      },
      "outputs": [
        {
          "data": {
            "text/plain": [
              "array([[ 1.30220102, -0.60339435, -0.46413855,  1.04439557,  0.98884211],\n",
              "       [-0.52391771,  0.51765573, -0.76183951,  1.3490224 , -0.71610965],\n",
              "       [-1.14645819,  0.26853349, -0.11682077,  0.73976874,  0.04115715],\n",
              "       ...,\n",
              "       [-0.76255823, -1.28848051,  1.4907644 , -1.20984298,  1.6056594 ],\n",
              "       [ 0.29576058, -0.54111379,  0.35950076, -0.9966042 , -1.08770446],\n",
              "       [ 0.08824709,  0.23739321,  1.72892517,  1.28809703,  1.19999995]])"
            ]
          },
          "execution_count": 202,
          "metadata": {},
          "output_type": "execute_result"
        }
      ],
      "source": [
        "preprocessor.fit_transform(X_train)"
      ]
    },
    {
      "cell_type": "markdown",
      "metadata": {
        "id": "pmfkhj6t3KF4"
      },
      "source": [
        "# Modeling and Evaluation"
      ]
    },
    {
      "cell_type": "code",
      "execution_count": 203,
      "metadata": {},
      "outputs": [],
      "source": [
        "random_state = 2024\n",
        "n_jobs = -1\n",
        "verbose = 0\n",
        "\n",
        "models = [\n",
        "    AdaBoostRegressor(random_state=random_state),\n",
        "    DecisionTreeRegressor(random_state=random_state),\n",
        "    GradientBoostingRegressor(random_state=random_state, verbose=verbose),\n",
        "    HistGradientBoostingRegressor(random_state=random_state, verbose=verbose),\n",
        "    LinearRegression(n_jobs=n_jobs),\n",
        "    RandomForestRegressor(random_state=random_state, n_jobs=n_jobs, verbose=verbose),\n",
        "    XGBRegressor(random_state=random_state, n_jobs=n_jobs, verbose=verbose),  \n",
        "]"
      ]
    },
    {
      "cell_type": "code",
      "execution_count": 194,
      "metadata": {
        "id": "a7_IXf7Eefvb"
      },
      "outputs": [],
      "source": [
        "# Dictionary to store predictions\n",
        "all_pipelines = {}\n",
        "\n",
        "# Create an empty DataFrame for metrics\n",
        "metrics_table = pd.DataFrame(columns=['NAME', 'MSE', 'RMSE'])\n",
        "\n",
        "# Train and predict with each model\n",
        "for model in models:\n",
        "  # Model name\n",
        "  name = model.__class__.__name__\n",
        "  \n",
        "  # Model pipeline\n",
        "  final_pipeline = Pipeline(steps=[\n",
        "      ('preprocessor', preprocessor),\n",
        "      ('regressor', model)\n",
        "  ])\n",
        "  \n",
        "  # Fit and predict\n",
        "  final_pipeline.fit(X_train, y_train)\n",
        "  y_pred = final_pipeline.predict(X_test)\n",
        "  \n",
        "  # Metrics\n",
        "  mse = mean_squared_error(y_test, y_pred)\n",
        "  rmse = root_mean_squared_error(y_test, y_pred)\n",
        "\n",
        "  # Add all pipelines\n",
        "  all_pipelines[name] = final_pipeline\n",
        "\n",
        "  # Add metrics to metrics_table\n",
        "  metrics_table.loc[len(metrics_table)] = [name, mse, rmse]\n"
      ]
    },
    {
      "cell_type": "code",
      "execution_count": 196,
      "metadata": {
        "id": "O96TRToBBt8P"
      },
      "outputs": [
        {
          "data": {
            "text/html": [
              "<div>\n",
              "<style scoped>\n",
              "    .dataframe tbody tr th:only-of-type {\n",
              "        vertical-align: middle;\n",
              "    }\n",
              "\n",
              "    .dataframe tbody tr th {\n",
              "        vertical-align: top;\n",
              "    }\n",
              "\n",
              "    .dataframe thead th {\n",
              "        text-align: right;\n",
              "    }\n",
              "</style>\n",
              "<table border=\"1\" class=\"dataframe\">\n",
              "  <thead>\n",
              "    <tr style=\"text-align: right;\">\n",
              "      <th></th>\n",
              "      <th>NAME</th>\n",
              "      <th>MSE</th>\n",
              "      <th>RMSE</th>\n",
              "    </tr>\n",
              "  </thead>\n",
              "  <tbody>\n",
              "    <tr>\n",
              "      <th>0</th>\n",
              "      <td>RandomForestRegressor</td>\n",
              "      <td>21823.27</td>\n",
              "      <td>147.73</td>\n",
              "    </tr>\n",
              "    <tr>\n",
              "      <th>1</th>\n",
              "      <td>XGBRegressor</td>\n",
              "      <td>24262.68</td>\n",
              "      <td>155.76</td>\n",
              "    </tr>\n",
              "    <tr>\n",
              "      <th>2</th>\n",
              "      <td>HistGradientBoostingRegressor</td>\n",
              "      <td>28455.73</td>\n",
              "      <td>168.69</td>\n",
              "    </tr>\n",
              "    <tr>\n",
              "      <th>3</th>\n",
              "      <td>GradientBoostingRegressor</td>\n",
              "      <td>38293.49</td>\n",
              "      <td>195.69</td>\n",
              "    </tr>\n",
              "    <tr>\n",
              "      <th>4</th>\n",
              "      <td>DecisionTreeRegressor</td>\n",
              "      <td>41821.65</td>\n",
              "      <td>204.50</td>\n",
              "    </tr>\n",
              "    <tr>\n",
              "      <th>5</th>\n",
              "      <td>LinearRegression</td>\n",
              "      <td>59812.19</td>\n",
              "      <td>244.57</td>\n",
              "    </tr>\n",
              "    <tr>\n",
              "      <th>6</th>\n",
              "      <td>AdaBoostRegressor</td>\n",
              "      <td>159244.49</td>\n",
              "      <td>399.05</td>\n",
              "    </tr>\n",
              "  </tbody>\n",
              "</table>\n",
              "</div>"
            ],
            "text/plain": [
              "                            NAME       MSE   RMSE\n",
              "0          RandomForestRegressor  21823.27 147.73\n",
              "1                   XGBRegressor  24262.68 155.76\n",
              "2  HistGradientBoostingRegressor  28455.73 168.69\n",
              "3      GradientBoostingRegressor  38293.49 195.69\n",
              "4          DecisionTreeRegressor  41821.65 204.50\n",
              "5               LinearRegression  59812.19 244.57\n",
              "6              AdaBoostRegressor 159244.49 399.05"
            ]
          },
          "execution_count": 196,
          "metadata": {},
          "output_type": "execute_result"
        }
      ],
      "source": [
        "# Display the metrics table\n",
        "metrics_table = metrics_table.sort_values(ascending=True, by='RMSE').reset_index().drop(columns='index')\n",
        "metrics_table"
      ]
    },
    {
      "cell_type": "code",
      "execution_count": 197,
      "metadata": {
        "id": "Nl9kzrNQB1A_"
      },
      "outputs": [
        {
          "data": {
            "text/plain": [
              "'RandomForestRegressor'"
            ]
          },
          "execution_count": 197,
          "metadata": {},
          "output_type": "execute_result"
        }
      ],
      "source": [
        "best_model_name = metrics_table['NAME'].iloc[0]\n",
        "best_model_name"
      ]
    },
    {
      "cell_type": "code",
      "execution_count": 208,
      "metadata": {},
      "outputs": [
        {
          "data": {
            "text/plain": [
              "147.72701513362244"
            ]
          },
          "execution_count": 208,
          "metadata": {},
          "output_type": "execute_result"
        }
      ],
      "source": [
        "best_model_score = metrics_table['RMSE'].iloc[0]\n",
        "best_model_score"
      ]
    },
    {
      "cell_type": "code",
      "execution_count": 198,
      "metadata": {
        "id": "95HISxD5JlaG"
      },
      "outputs": [
        {
          "data": {
            "text/html": [
              "<style>#sk-container-id-3 {\n",
              "  /* Definition of color scheme common for light and dark mode */\n",
              "  --sklearn-color-text: black;\n",
              "  --sklearn-color-line: gray;\n",
              "  /* Definition of color scheme for unfitted estimators */\n",
              "  --sklearn-color-unfitted-level-0: #fff5e6;\n",
              "  --sklearn-color-unfitted-level-1: #f6e4d2;\n",
              "  --sklearn-color-unfitted-level-2: #ffe0b3;\n",
              "  --sklearn-color-unfitted-level-3: chocolate;\n",
              "  /* Definition of color scheme for fitted estimators */\n",
              "  --sklearn-color-fitted-level-0: #f0f8ff;\n",
              "  --sklearn-color-fitted-level-1: #d4ebff;\n",
              "  --sklearn-color-fitted-level-2: #b3dbfd;\n",
              "  --sklearn-color-fitted-level-3: cornflowerblue;\n",
              "\n",
              "  /* Specific color for light theme */\n",
              "  --sklearn-color-text-on-default-background: var(--sg-text-color, var(--theme-code-foreground, var(--jp-content-font-color1, black)));\n",
              "  --sklearn-color-background: var(--sg-background-color, var(--theme-background, var(--jp-layout-color0, white)));\n",
              "  --sklearn-color-border-box: var(--sg-text-color, var(--theme-code-foreground, var(--jp-content-font-color1, black)));\n",
              "  --sklearn-color-icon: #696969;\n",
              "\n",
              "  @media (prefers-color-scheme: dark) {\n",
              "    /* Redefinition of color scheme for dark theme */\n",
              "    --sklearn-color-text-on-default-background: var(--sg-text-color, var(--theme-code-foreground, var(--jp-content-font-color1, white)));\n",
              "    --sklearn-color-background: var(--sg-background-color, var(--theme-background, var(--jp-layout-color0, #111)));\n",
              "    --sklearn-color-border-box: var(--sg-text-color, var(--theme-code-foreground, var(--jp-content-font-color1, white)));\n",
              "    --sklearn-color-icon: #878787;\n",
              "  }\n",
              "}\n",
              "\n",
              "#sk-container-id-3 {\n",
              "  color: var(--sklearn-color-text);\n",
              "}\n",
              "\n",
              "#sk-container-id-3 pre {\n",
              "  padding: 0;\n",
              "}\n",
              "\n",
              "#sk-container-id-3 input.sk-hidden--visually {\n",
              "  border: 0;\n",
              "  clip: rect(1px 1px 1px 1px);\n",
              "  clip: rect(1px, 1px, 1px, 1px);\n",
              "  height: 1px;\n",
              "  margin: -1px;\n",
              "  overflow: hidden;\n",
              "  padding: 0;\n",
              "  position: absolute;\n",
              "  width: 1px;\n",
              "}\n",
              "\n",
              "#sk-container-id-3 div.sk-dashed-wrapped {\n",
              "  border: 1px dashed var(--sklearn-color-line);\n",
              "  margin: 0 0.4em 0.5em 0.4em;\n",
              "  box-sizing: border-box;\n",
              "  padding-bottom: 0.4em;\n",
              "  background-color: var(--sklearn-color-background);\n",
              "}\n",
              "\n",
              "#sk-container-id-3 div.sk-container {\n",
              "  /* jupyter's `normalize.less` sets `[hidden] { display: none; }`\n",
              "     but bootstrap.min.css set `[hidden] { display: none !important; }`\n",
              "     so we also need the `!important` here to be able to override the\n",
              "     default hidden behavior on the sphinx rendered scikit-learn.org.\n",
              "     See: https://github.com/scikit-learn/scikit-learn/issues/21755 */\n",
              "  display: inline-block !important;\n",
              "  position: relative;\n",
              "}\n",
              "\n",
              "#sk-container-id-3 div.sk-text-repr-fallback {\n",
              "  display: none;\n",
              "}\n",
              "\n",
              "div.sk-parallel-item,\n",
              "div.sk-serial,\n",
              "div.sk-item {\n",
              "  /* draw centered vertical line to link estimators */\n",
              "  background-image: linear-gradient(var(--sklearn-color-text-on-default-background), var(--sklearn-color-text-on-default-background));\n",
              "  background-size: 2px 100%;\n",
              "  background-repeat: no-repeat;\n",
              "  background-position: center center;\n",
              "}\n",
              "\n",
              "/* Parallel-specific style estimator block */\n",
              "\n",
              "#sk-container-id-3 div.sk-parallel-item::after {\n",
              "  content: \"\";\n",
              "  width: 100%;\n",
              "  border-bottom: 2px solid var(--sklearn-color-text-on-default-background);\n",
              "  flex-grow: 1;\n",
              "}\n",
              "\n",
              "#sk-container-id-3 div.sk-parallel {\n",
              "  display: flex;\n",
              "  align-items: stretch;\n",
              "  justify-content: center;\n",
              "  background-color: var(--sklearn-color-background);\n",
              "  position: relative;\n",
              "}\n",
              "\n",
              "#sk-container-id-3 div.sk-parallel-item {\n",
              "  display: flex;\n",
              "  flex-direction: column;\n",
              "}\n",
              "\n",
              "#sk-container-id-3 div.sk-parallel-item:first-child::after {\n",
              "  align-self: flex-end;\n",
              "  width: 50%;\n",
              "}\n",
              "\n",
              "#sk-container-id-3 div.sk-parallel-item:last-child::after {\n",
              "  align-self: flex-start;\n",
              "  width: 50%;\n",
              "}\n",
              "\n",
              "#sk-container-id-3 div.sk-parallel-item:only-child::after {\n",
              "  width: 0;\n",
              "}\n",
              "\n",
              "/* Serial-specific style estimator block */\n",
              "\n",
              "#sk-container-id-3 div.sk-serial {\n",
              "  display: flex;\n",
              "  flex-direction: column;\n",
              "  align-items: center;\n",
              "  background-color: var(--sklearn-color-background);\n",
              "  padding-right: 1em;\n",
              "  padding-left: 1em;\n",
              "}\n",
              "\n",
              "\n",
              "/* Toggleable style: style used for estimator/Pipeline/ColumnTransformer box that is\n",
              "clickable and can be expanded/collapsed.\n",
              "- Pipeline and ColumnTransformer use this feature and define the default style\n",
              "- Estimators will overwrite some part of the style using the `sk-estimator` class\n",
              "*/\n",
              "\n",
              "/* Pipeline and ColumnTransformer style (default) */\n",
              "\n",
              "#sk-container-id-3 div.sk-toggleable {\n",
              "  /* Default theme specific background. It is overwritten whether we have a\n",
              "  specific estimator or a Pipeline/ColumnTransformer */\n",
              "  background-color: var(--sklearn-color-background);\n",
              "}\n",
              "\n",
              "/* Toggleable label */\n",
              "#sk-container-id-3 label.sk-toggleable__label {\n",
              "  cursor: pointer;\n",
              "  display: block;\n",
              "  width: 100%;\n",
              "  margin-bottom: 0;\n",
              "  padding: 0.5em;\n",
              "  box-sizing: border-box;\n",
              "  text-align: center;\n",
              "}\n",
              "\n",
              "#sk-container-id-3 label.sk-toggleable__label-arrow:before {\n",
              "  /* Arrow on the left of the label */\n",
              "  content: \"▸\";\n",
              "  float: left;\n",
              "  margin-right: 0.25em;\n",
              "  color: var(--sklearn-color-icon);\n",
              "}\n",
              "\n",
              "#sk-container-id-3 label.sk-toggleable__label-arrow:hover:before {\n",
              "  color: var(--sklearn-color-text);\n",
              "}\n",
              "\n",
              "/* Toggleable content - dropdown */\n",
              "\n",
              "#sk-container-id-3 div.sk-toggleable__content {\n",
              "  max-height: 0;\n",
              "  max-width: 0;\n",
              "  overflow: hidden;\n",
              "  text-align: left;\n",
              "  /* unfitted */\n",
              "  background-color: var(--sklearn-color-unfitted-level-0);\n",
              "}\n",
              "\n",
              "#sk-container-id-3 div.sk-toggleable__content.fitted {\n",
              "  /* fitted */\n",
              "  background-color: var(--sklearn-color-fitted-level-0);\n",
              "}\n",
              "\n",
              "#sk-container-id-3 div.sk-toggleable__content pre {\n",
              "  margin: 0.2em;\n",
              "  border-radius: 0.25em;\n",
              "  color: var(--sklearn-color-text);\n",
              "  /* unfitted */\n",
              "  background-color: var(--sklearn-color-unfitted-level-0);\n",
              "}\n",
              "\n",
              "#sk-container-id-3 div.sk-toggleable__content.fitted pre {\n",
              "  /* unfitted */\n",
              "  background-color: var(--sklearn-color-fitted-level-0);\n",
              "}\n",
              "\n",
              "#sk-container-id-3 input.sk-toggleable__control:checked~div.sk-toggleable__content {\n",
              "  /* Expand drop-down */\n",
              "  max-height: 200px;\n",
              "  max-width: 100%;\n",
              "  overflow: auto;\n",
              "}\n",
              "\n",
              "#sk-container-id-3 input.sk-toggleable__control:checked~label.sk-toggleable__label-arrow:before {\n",
              "  content: \"▾\";\n",
              "}\n",
              "\n",
              "/* Pipeline/ColumnTransformer-specific style */\n",
              "\n",
              "#sk-container-id-3 div.sk-label input.sk-toggleable__control:checked~label.sk-toggleable__label {\n",
              "  color: var(--sklearn-color-text);\n",
              "  background-color: var(--sklearn-color-unfitted-level-2);\n",
              "}\n",
              "\n",
              "#sk-container-id-3 div.sk-label.fitted input.sk-toggleable__control:checked~label.sk-toggleable__label {\n",
              "  background-color: var(--sklearn-color-fitted-level-2);\n",
              "}\n",
              "\n",
              "/* Estimator-specific style */\n",
              "\n",
              "/* Colorize estimator box */\n",
              "#sk-container-id-3 div.sk-estimator input.sk-toggleable__control:checked~label.sk-toggleable__label {\n",
              "  /* unfitted */\n",
              "  background-color: var(--sklearn-color-unfitted-level-2);\n",
              "}\n",
              "\n",
              "#sk-container-id-3 div.sk-estimator.fitted input.sk-toggleable__control:checked~label.sk-toggleable__label {\n",
              "  /* fitted */\n",
              "  background-color: var(--sklearn-color-fitted-level-2);\n",
              "}\n",
              "\n",
              "#sk-container-id-3 div.sk-label label.sk-toggleable__label,\n",
              "#sk-container-id-3 div.sk-label label {\n",
              "  /* The background is the default theme color */\n",
              "  color: var(--sklearn-color-text-on-default-background);\n",
              "}\n",
              "\n",
              "/* On hover, darken the color of the background */\n",
              "#sk-container-id-3 div.sk-label:hover label.sk-toggleable__label {\n",
              "  color: var(--sklearn-color-text);\n",
              "  background-color: var(--sklearn-color-unfitted-level-2);\n",
              "}\n",
              "\n",
              "/* Label box, darken color on hover, fitted */\n",
              "#sk-container-id-3 div.sk-label.fitted:hover label.sk-toggleable__label.fitted {\n",
              "  color: var(--sklearn-color-text);\n",
              "  background-color: var(--sklearn-color-fitted-level-2);\n",
              "}\n",
              "\n",
              "/* Estimator label */\n",
              "\n",
              "#sk-container-id-3 div.sk-label label {\n",
              "  font-family: monospace;\n",
              "  font-weight: bold;\n",
              "  display: inline-block;\n",
              "  line-height: 1.2em;\n",
              "}\n",
              "\n",
              "#sk-container-id-3 div.sk-label-container {\n",
              "  text-align: center;\n",
              "}\n",
              "\n",
              "/* Estimator-specific */\n",
              "#sk-container-id-3 div.sk-estimator {\n",
              "  font-family: monospace;\n",
              "  border: 1px dotted var(--sklearn-color-border-box);\n",
              "  border-radius: 0.25em;\n",
              "  box-sizing: border-box;\n",
              "  margin-bottom: 0.5em;\n",
              "  /* unfitted */\n",
              "  background-color: var(--sklearn-color-unfitted-level-0);\n",
              "}\n",
              "\n",
              "#sk-container-id-3 div.sk-estimator.fitted {\n",
              "  /* fitted */\n",
              "  background-color: var(--sklearn-color-fitted-level-0);\n",
              "}\n",
              "\n",
              "/* on hover */\n",
              "#sk-container-id-3 div.sk-estimator:hover {\n",
              "  /* unfitted */\n",
              "  background-color: var(--sklearn-color-unfitted-level-2);\n",
              "}\n",
              "\n",
              "#sk-container-id-3 div.sk-estimator.fitted:hover {\n",
              "  /* fitted */\n",
              "  background-color: var(--sklearn-color-fitted-level-2);\n",
              "}\n",
              "\n",
              "/* Specification for estimator info (e.g. \"i\" and \"?\") */\n",
              "\n",
              "/* Common style for \"i\" and \"?\" */\n",
              "\n",
              ".sk-estimator-doc-link,\n",
              "a:link.sk-estimator-doc-link,\n",
              "a:visited.sk-estimator-doc-link {\n",
              "  float: right;\n",
              "  font-size: smaller;\n",
              "  line-height: 1em;\n",
              "  font-family: monospace;\n",
              "  background-color: var(--sklearn-color-background);\n",
              "  border-radius: 1em;\n",
              "  height: 1em;\n",
              "  width: 1em;\n",
              "  text-decoration: none !important;\n",
              "  margin-left: 1ex;\n",
              "  /* unfitted */\n",
              "  border: var(--sklearn-color-unfitted-level-1) 1pt solid;\n",
              "  color: var(--sklearn-color-unfitted-level-1);\n",
              "}\n",
              "\n",
              ".sk-estimator-doc-link.fitted,\n",
              "a:link.sk-estimator-doc-link.fitted,\n",
              "a:visited.sk-estimator-doc-link.fitted {\n",
              "  /* fitted */\n",
              "  border: var(--sklearn-color-fitted-level-1) 1pt solid;\n",
              "  color: var(--sklearn-color-fitted-level-1);\n",
              "}\n",
              "\n",
              "/* On hover */\n",
              "div.sk-estimator:hover .sk-estimator-doc-link:hover,\n",
              ".sk-estimator-doc-link:hover,\n",
              "div.sk-label-container:hover .sk-estimator-doc-link:hover,\n",
              ".sk-estimator-doc-link:hover {\n",
              "  /* unfitted */\n",
              "  background-color: var(--sklearn-color-unfitted-level-3);\n",
              "  color: var(--sklearn-color-background);\n",
              "  text-decoration: none;\n",
              "}\n",
              "\n",
              "div.sk-estimator.fitted:hover .sk-estimator-doc-link.fitted:hover,\n",
              ".sk-estimator-doc-link.fitted:hover,\n",
              "div.sk-label-container:hover .sk-estimator-doc-link.fitted:hover,\n",
              ".sk-estimator-doc-link.fitted:hover {\n",
              "  /* fitted */\n",
              "  background-color: var(--sklearn-color-fitted-level-3);\n",
              "  color: var(--sklearn-color-background);\n",
              "  text-decoration: none;\n",
              "}\n",
              "\n",
              "/* Span, style for the box shown on hovering the info icon */\n",
              ".sk-estimator-doc-link span {\n",
              "  display: none;\n",
              "  z-index: 9999;\n",
              "  position: relative;\n",
              "  font-weight: normal;\n",
              "  right: .2ex;\n",
              "  padding: .5ex;\n",
              "  margin: .5ex;\n",
              "  width: min-content;\n",
              "  min-width: 20ex;\n",
              "  max-width: 50ex;\n",
              "  color: var(--sklearn-color-text);\n",
              "  box-shadow: 2pt 2pt 4pt #999;\n",
              "  /* unfitted */\n",
              "  background: var(--sklearn-color-unfitted-level-0);\n",
              "  border: .5pt solid var(--sklearn-color-unfitted-level-3);\n",
              "}\n",
              "\n",
              ".sk-estimator-doc-link.fitted span {\n",
              "  /* fitted */\n",
              "  background: var(--sklearn-color-fitted-level-0);\n",
              "  border: var(--sklearn-color-fitted-level-3);\n",
              "}\n",
              "\n",
              ".sk-estimator-doc-link:hover span {\n",
              "  display: block;\n",
              "}\n",
              "\n",
              "/* \"?\"-specific style due to the `<a>` HTML tag */\n",
              "\n",
              "#sk-container-id-3 a.estimator_doc_link {\n",
              "  float: right;\n",
              "  font-size: 1rem;\n",
              "  line-height: 1em;\n",
              "  font-family: monospace;\n",
              "  background-color: var(--sklearn-color-background);\n",
              "  border-radius: 1rem;\n",
              "  height: 1rem;\n",
              "  width: 1rem;\n",
              "  text-decoration: none;\n",
              "  /* unfitted */\n",
              "  color: var(--sklearn-color-unfitted-level-1);\n",
              "  border: var(--sklearn-color-unfitted-level-1) 1pt solid;\n",
              "}\n",
              "\n",
              "#sk-container-id-3 a.estimator_doc_link.fitted {\n",
              "  /* fitted */\n",
              "  border: var(--sklearn-color-fitted-level-1) 1pt solid;\n",
              "  color: var(--sklearn-color-fitted-level-1);\n",
              "}\n",
              "\n",
              "/* On hover */\n",
              "#sk-container-id-3 a.estimator_doc_link:hover {\n",
              "  /* unfitted */\n",
              "  background-color: var(--sklearn-color-unfitted-level-3);\n",
              "  color: var(--sklearn-color-background);\n",
              "  text-decoration: none;\n",
              "}\n",
              "\n",
              "#sk-container-id-3 a.estimator_doc_link.fitted:hover {\n",
              "  /* fitted */\n",
              "  background-color: var(--sklearn-color-fitted-level-3);\n",
              "}\n",
              "</style><div id=\"sk-container-id-3\" class=\"sk-top-container\"><div class=\"sk-text-repr-fallback\"><pre>Pipeline(steps=[(&#x27;preprocessor&#x27;,\n",
              "                 ColumnTransformer(transformers=[(&#x27;numerical_pipeline&#x27;,\n",
              "                                                  Pipeline(steps=[(&#x27;imputer&#x27;,\n",
              "                                                                   SimpleImputer(strategy=&#x27;median&#x27;)),\n",
              "                                                                  (&#x27;scaler&#x27;,\n",
              "                                                                   StandardScaler())]),\n",
              "                                                  Index([&#x27;origin_lat&#x27;, &#x27;origin_lon&#x27;, &#x27;destination_lat&#x27;, &#x27;destination_lon&#x27;,\n",
              "       &#x27;trip_distance&#x27;],\n",
              "      dtype=&#x27;object&#x27;))])),\n",
              "                (&#x27;regressor&#x27;,\n",
              "                 RandomForestRegressor(n_jobs=-1, random_state=2024))])</pre><b>In a Jupyter environment, please rerun this cell to show the HTML representation or trust the notebook. <br />On GitHub, the HTML representation is unable to render, please try loading this page with nbviewer.org.</b></div><div class=\"sk-container\" hidden><div class=\"sk-item sk-dashed-wrapped\"><div class=\"sk-label-container\"><div class=\"sk-label fitted sk-toggleable\"><input class=\"sk-toggleable__control sk-hidden--visually\" id=\"sk-estimator-id-8\" type=\"checkbox\" ><label for=\"sk-estimator-id-8\" class=\"sk-toggleable__label fitted sk-toggleable__label-arrow fitted\">&nbsp;&nbsp;Pipeline<a class=\"sk-estimator-doc-link fitted\" rel=\"noreferrer\" target=\"_blank\" href=\"https://scikit-learn.org/1.5/modules/generated/sklearn.pipeline.Pipeline.html\">?<span>Documentation for Pipeline</span></a><span class=\"sk-estimator-doc-link fitted\">i<span>Fitted</span></span></label><div class=\"sk-toggleable__content fitted\"><pre>Pipeline(steps=[(&#x27;preprocessor&#x27;,\n",
              "                 ColumnTransformer(transformers=[(&#x27;numerical_pipeline&#x27;,\n",
              "                                                  Pipeline(steps=[(&#x27;imputer&#x27;,\n",
              "                                                                   SimpleImputer(strategy=&#x27;median&#x27;)),\n",
              "                                                                  (&#x27;scaler&#x27;,\n",
              "                                                                   StandardScaler())]),\n",
              "                                                  Index([&#x27;origin_lat&#x27;, &#x27;origin_lon&#x27;, &#x27;destination_lat&#x27;, &#x27;destination_lon&#x27;,\n",
              "       &#x27;trip_distance&#x27;],\n",
              "      dtype=&#x27;object&#x27;))])),\n",
              "                (&#x27;regressor&#x27;,\n",
              "                 RandomForestRegressor(n_jobs=-1, random_state=2024))])</pre></div> </div></div><div class=\"sk-serial\"><div class=\"sk-item sk-dashed-wrapped\"><div class=\"sk-label-container\"><div class=\"sk-label fitted sk-toggleable\"><input class=\"sk-toggleable__control sk-hidden--visually\" id=\"sk-estimator-id-9\" type=\"checkbox\" ><label for=\"sk-estimator-id-9\" class=\"sk-toggleable__label fitted sk-toggleable__label-arrow fitted\">&nbsp;preprocessor: ColumnTransformer<a class=\"sk-estimator-doc-link fitted\" rel=\"noreferrer\" target=\"_blank\" href=\"https://scikit-learn.org/1.5/modules/generated/sklearn.compose.ColumnTransformer.html\">?<span>Documentation for preprocessor: ColumnTransformer</span></a></label><div class=\"sk-toggleable__content fitted\"><pre>ColumnTransformer(transformers=[(&#x27;numerical_pipeline&#x27;,\n",
              "                                 Pipeline(steps=[(&#x27;imputer&#x27;,\n",
              "                                                  SimpleImputer(strategy=&#x27;median&#x27;)),\n",
              "                                                 (&#x27;scaler&#x27;, StandardScaler())]),\n",
              "                                 Index([&#x27;origin_lat&#x27;, &#x27;origin_lon&#x27;, &#x27;destination_lat&#x27;, &#x27;destination_lon&#x27;,\n",
              "       &#x27;trip_distance&#x27;],\n",
              "      dtype=&#x27;object&#x27;))])</pre></div> </div></div><div class=\"sk-parallel\"><div class=\"sk-parallel-item\"><div class=\"sk-item\"><div class=\"sk-label-container\"><div class=\"sk-label fitted sk-toggleable\"><input class=\"sk-toggleable__control sk-hidden--visually\" id=\"sk-estimator-id-10\" type=\"checkbox\" ><label for=\"sk-estimator-id-10\" class=\"sk-toggleable__label fitted sk-toggleable__label-arrow fitted\">numerical_pipeline</label><div class=\"sk-toggleable__content fitted\"><pre>Index([&#x27;origin_lat&#x27;, &#x27;origin_lon&#x27;, &#x27;destination_lat&#x27;, &#x27;destination_lon&#x27;,\n",
              "       &#x27;trip_distance&#x27;],\n",
              "      dtype=&#x27;object&#x27;)</pre></div> </div></div><div class=\"sk-serial\"><div class=\"sk-item\"><div class=\"sk-serial\"><div class=\"sk-item\"><div class=\"sk-estimator fitted sk-toggleable\"><input class=\"sk-toggleable__control sk-hidden--visually\" id=\"sk-estimator-id-11\" type=\"checkbox\" ><label for=\"sk-estimator-id-11\" class=\"sk-toggleable__label fitted sk-toggleable__label-arrow fitted\">&nbsp;SimpleImputer<a class=\"sk-estimator-doc-link fitted\" rel=\"noreferrer\" target=\"_blank\" href=\"https://scikit-learn.org/1.5/modules/generated/sklearn.impute.SimpleImputer.html\">?<span>Documentation for SimpleImputer</span></a></label><div class=\"sk-toggleable__content fitted\"><pre>SimpleImputer(strategy=&#x27;median&#x27;)</pre></div> </div></div><div class=\"sk-item\"><div class=\"sk-estimator fitted sk-toggleable\"><input class=\"sk-toggleable__control sk-hidden--visually\" id=\"sk-estimator-id-12\" type=\"checkbox\" ><label for=\"sk-estimator-id-12\" class=\"sk-toggleable__label fitted sk-toggleable__label-arrow fitted\">&nbsp;StandardScaler<a class=\"sk-estimator-doc-link fitted\" rel=\"noreferrer\" target=\"_blank\" href=\"https://scikit-learn.org/1.5/modules/generated/sklearn.preprocessing.StandardScaler.html\">?<span>Documentation for StandardScaler</span></a></label><div class=\"sk-toggleable__content fitted\"><pre>StandardScaler()</pre></div> </div></div></div></div></div></div></div></div></div><div class=\"sk-item\"><div class=\"sk-estimator fitted sk-toggleable\"><input class=\"sk-toggleable__control sk-hidden--visually\" id=\"sk-estimator-id-13\" type=\"checkbox\" ><label for=\"sk-estimator-id-13\" class=\"sk-toggleable__label fitted sk-toggleable__label-arrow fitted\">&nbsp;RandomForestRegressor<a class=\"sk-estimator-doc-link fitted\" rel=\"noreferrer\" target=\"_blank\" href=\"https://scikit-learn.org/1.5/modules/generated/sklearn.ensemble.RandomForestRegressor.html\">?<span>Documentation for RandomForestRegressor</span></a></label><div class=\"sk-toggleable__content fitted\"><pre>RandomForestRegressor(n_jobs=-1, random_state=2024)</pre></div> </div></div></div></div></div></div>"
            ],
            "text/plain": [
              "Pipeline(steps=[('preprocessor',\n",
              "                 ColumnTransformer(transformers=[('numerical_pipeline',\n",
              "                                                  Pipeline(steps=[('imputer',\n",
              "                                                                   SimpleImputer(strategy='median')),\n",
              "                                                                  ('scaler',\n",
              "                                                                   StandardScaler())]),\n",
              "                                                  Index(['origin_lat', 'origin_lon', 'destination_lat', 'destination_lon',\n",
              "       'trip_distance'],\n",
              "      dtype='object'))])),\n",
              "                ('regressor',\n",
              "                 RandomForestRegressor(n_jobs=-1, random_state=2024))])"
            ]
          },
          "execution_count": 198,
          "metadata": {},
          "output_type": "execute_result"
        }
      ],
      "source": [
        "best_model = all_pipelines.get(best_model_name)\n",
        "best_model"
      ]
    },
    {
      "cell_type": "code",
      "execution_count": 204,
      "metadata": {
        "id": "DUtUCB0eKoYI"
      },
      "outputs": [
        {
          "data": {
            "text/plain": [
              "array(['origin_lat', 'origin_lon', 'destination_lat', 'destination_lon',\n",
              "       'trip_distance'], dtype=object)"
            ]
          },
          "execution_count": 204,
          "metadata": {},
          "output_type": "execute_result"
        }
      ],
      "source": [
        "# Get the numerical feature names after transformation\n",
        "numerical_features_transformed = best_model.named_steps['preprocessor'].named_transformers_['numerical_pipeline'].named_steps['scaler'].get_feature_names_out(numerical_features)\n",
        "numerical_features_transformed"
      ]
    },
    {
      "cell_type": "code",
      "execution_count": 207,
      "metadata": {
        "id": "HMVrGo4BKnQB"
      },
      "outputs": [
        {
          "data": {
            "text/html": [
              "<div>\n",
              "<style scoped>\n",
              "    .dataframe tbody tr th:only-of-type {\n",
              "        vertical-align: middle;\n",
              "    }\n",
              "\n",
              "    .dataframe tbody tr th {\n",
              "        vertical-align: top;\n",
              "    }\n",
              "\n",
              "    .dataframe thead th {\n",
              "        text-align: right;\n",
              "    }\n",
              "</style>\n",
              "<table border=\"1\" class=\"dataframe\">\n",
              "  <thead>\n",
              "    <tr style=\"text-align: right;\">\n",
              "      <th></th>\n",
              "      <th>feature</th>\n",
              "      <th>score</th>\n",
              "    </tr>\n",
              "  </thead>\n",
              "  <tbody>\n",
              "    <tr>\n",
              "      <th>4</th>\n",
              "      <td>trip_distance</td>\n",
              "      <td>0.85</td>\n",
              "    </tr>\n",
              "    <tr>\n",
              "      <th>1</th>\n",
              "      <td>origin_lon</td>\n",
              "      <td>0.04</td>\n",
              "    </tr>\n",
              "    <tr>\n",
              "      <th>3</th>\n",
              "      <td>destination_lon</td>\n",
              "      <td>0.04</td>\n",
              "    </tr>\n",
              "    <tr>\n",
              "      <th>2</th>\n",
              "      <td>destination_lat</td>\n",
              "      <td>0.03</td>\n",
              "    </tr>\n",
              "    <tr>\n",
              "      <th>0</th>\n",
              "      <td>origin_lat</td>\n",
              "      <td>0.03</td>\n",
              "    </tr>\n",
              "  </tbody>\n",
              "</table>\n",
              "</div>"
            ],
            "text/plain": [
              "           feature  score\n",
              "4    trip_distance   0.85\n",
              "1       origin_lon   0.04\n",
              "3  destination_lon   0.04\n",
              "2  destination_lat   0.03\n",
              "0       origin_lat   0.03"
            ]
          },
          "execution_count": 207,
          "metadata": {},
          "output_type": "execute_result"
        }
      ],
      "source": [
        "# Get the feature names after transformation\n",
        "# feature_columns = np.concatenate((numerical_features_transformed))\n",
        "feature_columns = numerical_features_transformed\n",
        "score = best_model.named_steps['regressor'].feature_importances_\n",
        "\n",
        "# Display the feature columns\n",
        "f_importances_df = pd.DataFrame({'feature':feature_columns, 'score': score})\n",
        "f_importances_df.sort_values(by='score', ascending = False, inplace=True)\n",
        "f_importances_df"
      ]
    },
    {
      "cell_type": "code",
      "execution_count": 212,
      "metadata": {},
      "outputs": [
        {
          "data": {
            "application/vnd.plotly.v1+json": {
              "config": {
                "plotlyServerURL": "https://plot.ly"
              },
              "data": [
                {
                  "alignmentgroup": "True",
                  "hovertemplate": "score=%{marker.color}<br>feature=%{y}<extra></extra>",
                  "legendgroup": "",
                  "marker": {
                    "color": [
                      0.033954595529279735,
                      0.03459333423792561,
                      0.03832974808009335,
                      0.04088202711309272,
                      0.8522402950396085
                    ],
                    "coloraxis": "coloraxis",
                    "pattern": {
                      "shape": ""
                    }
                  },
                  "name": "",
                  "offsetgroup": "",
                  "orientation": "h",
                  "showlegend": false,
                  "textposition": "auto",
                  "type": "bar",
                  "x": [
                    0.033954595529279735,
                    0.03459333423792561,
                    0.03832974808009335,
                    0.04088202711309272,
                    0.8522402950396085
                  ],
                  "xaxis": "x",
                  "y": [
                    "origin_lat",
                    "destination_lat",
                    "destination_lon",
                    "origin_lon",
                    "trip_distance"
                  ],
                  "yaxis": "y"
                }
              ],
              "layout": {
                "barmode": "relative",
                "coloraxis": {
                  "colorbar": {
                    "title": {
                      "text": "score"
                    }
                  },
                  "colorscale": [
                    [
                      0,
                      "#0d0887"
                    ],
                    [
                      0.1111111111111111,
                      "#46039f"
                    ],
                    [
                      0.2222222222222222,
                      "#7201a8"
                    ],
                    [
                      0.3333333333333333,
                      "#9c179e"
                    ],
                    [
                      0.4444444444444444,
                      "#bd3786"
                    ],
                    [
                      0.5555555555555556,
                      "#d8576b"
                    ],
                    [
                      0.6666666666666666,
                      "#ed7953"
                    ],
                    [
                      0.7777777777777778,
                      "#fb9f3a"
                    ],
                    [
                      0.8888888888888888,
                      "#fdca26"
                    ],
                    [
                      1,
                      "#f0f921"
                    ]
                  ]
                },
                "height": 700,
                "legend": {
                  "tracegroupgap": 0
                },
                "template": {
                  "data": {
                    "bar": [
                      {
                        "error_x": {
                          "color": "#2a3f5f"
                        },
                        "error_y": {
                          "color": "#2a3f5f"
                        },
                        "marker": {
                          "line": {
                            "color": "#E5ECF6",
                            "width": 0.5
                          },
                          "pattern": {
                            "fillmode": "overlay",
                            "size": 10,
                            "solidity": 0.2
                          }
                        },
                        "type": "bar"
                      }
                    ],
                    "barpolar": [
                      {
                        "marker": {
                          "line": {
                            "color": "#E5ECF6",
                            "width": 0.5
                          },
                          "pattern": {
                            "fillmode": "overlay",
                            "size": 10,
                            "solidity": 0.2
                          }
                        },
                        "type": "barpolar"
                      }
                    ],
                    "carpet": [
                      {
                        "aaxis": {
                          "endlinecolor": "#2a3f5f",
                          "gridcolor": "white",
                          "linecolor": "white",
                          "minorgridcolor": "white",
                          "startlinecolor": "#2a3f5f"
                        },
                        "baxis": {
                          "endlinecolor": "#2a3f5f",
                          "gridcolor": "white",
                          "linecolor": "white",
                          "minorgridcolor": "white",
                          "startlinecolor": "#2a3f5f"
                        },
                        "type": "carpet"
                      }
                    ],
                    "choropleth": [
                      {
                        "colorbar": {
                          "outlinewidth": 0,
                          "ticks": ""
                        },
                        "type": "choropleth"
                      }
                    ],
                    "contour": [
                      {
                        "colorbar": {
                          "outlinewidth": 0,
                          "ticks": ""
                        },
                        "colorscale": [
                          [
                            0,
                            "#0d0887"
                          ],
                          [
                            0.1111111111111111,
                            "#46039f"
                          ],
                          [
                            0.2222222222222222,
                            "#7201a8"
                          ],
                          [
                            0.3333333333333333,
                            "#9c179e"
                          ],
                          [
                            0.4444444444444444,
                            "#bd3786"
                          ],
                          [
                            0.5555555555555556,
                            "#d8576b"
                          ],
                          [
                            0.6666666666666666,
                            "#ed7953"
                          ],
                          [
                            0.7777777777777778,
                            "#fb9f3a"
                          ],
                          [
                            0.8888888888888888,
                            "#fdca26"
                          ],
                          [
                            1,
                            "#f0f921"
                          ]
                        ],
                        "type": "contour"
                      }
                    ],
                    "contourcarpet": [
                      {
                        "colorbar": {
                          "outlinewidth": 0,
                          "ticks": ""
                        },
                        "type": "contourcarpet"
                      }
                    ],
                    "heatmap": [
                      {
                        "colorbar": {
                          "outlinewidth": 0,
                          "ticks": ""
                        },
                        "colorscale": [
                          [
                            0,
                            "#0d0887"
                          ],
                          [
                            0.1111111111111111,
                            "#46039f"
                          ],
                          [
                            0.2222222222222222,
                            "#7201a8"
                          ],
                          [
                            0.3333333333333333,
                            "#9c179e"
                          ],
                          [
                            0.4444444444444444,
                            "#bd3786"
                          ],
                          [
                            0.5555555555555556,
                            "#d8576b"
                          ],
                          [
                            0.6666666666666666,
                            "#ed7953"
                          ],
                          [
                            0.7777777777777778,
                            "#fb9f3a"
                          ],
                          [
                            0.8888888888888888,
                            "#fdca26"
                          ],
                          [
                            1,
                            "#f0f921"
                          ]
                        ],
                        "type": "heatmap"
                      }
                    ],
                    "heatmapgl": [
                      {
                        "colorbar": {
                          "outlinewidth": 0,
                          "ticks": ""
                        },
                        "colorscale": [
                          [
                            0,
                            "#0d0887"
                          ],
                          [
                            0.1111111111111111,
                            "#46039f"
                          ],
                          [
                            0.2222222222222222,
                            "#7201a8"
                          ],
                          [
                            0.3333333333333333,
                            "#9c179e"
                          ],
                          [
                            0.4444444444444444,
                            "#bd3786"
                          ],
                          [
                            0.5555555555555556,
                            "#d8576b"
                          ],
                          [
                            0.6666666666666666,
                            "#ed7953"
                          ],
                          [
                            0.7777777777777778,
                            "#fb9f3a"
                          ],
                          [
                            0.8888888888888888,
                            "#fdca26"
                          ],
                          [
                            1,
                            "#f0f921"
                          ]
                        ],
                        "type": "heatmapgl"
                      }
                    ],
                    "histogram": [
                      {
                        "marker": {
                          "pattern": {
                            "fillmode": "overlay",
                            "size": 10,
                            "solidity": 0.2
                          }
                        },
                        "type": "histogram"
                      }
                    ],
                    "histogram2d": [
                      {
                        "colorbar": {
                          "outlinewidth": 0,
                          "ticks": ""
                        },
                        "colorscale": [
                          [
                            0,
                            "#0d0887"
                          ],
                          [
                            0.1111111111111111,
                            "#46039f"
                          ],
                          [
                            0.2222222222222222,
                            "#7201a8"
                          ],
                          [
                            0.3333333333333333,
                            "#9c179e"
                          ],
                          [
                            0.4444444444444444,
                            "#bd3786"
                          ],
                          [
                            0.5555555555555556,
                            "#d8576b"
                          ],
                          [
                            0.6666666666666666,
                            "#ed7953"
                          ],
                          [
                            0.7777777777777778,
                            "#fb9f3a"
                          ],
                          [
                            0.8888888888888888,
                            "#fdca26"
                          ],
                          [
                            1,
                            "#f0f921"
                          ]
                        ],
                        "type": "histogram2d"
                      }
                    ],
                    "histogram2dcontour": [
                      {
                        "colorbar": {
                          "outlinewidth": 0,
                          "ticks": ""
                        },
                        "colorscale": [
                          [
                            0,
                            "#0d0887"
                          ],
                          [
                            0.1111111111111111,
                            "#46039f"
                          ],
                          [
                            0.2222222222222222,
                            "#7201a8"
                          ],
                          [
                            0.3333333333333333,
                            "#9c179e"
                          ],
                          [
                            0.4444444444444444,
                            "#bd3786"
                          ],
                          [
                            0.5555555555555556,
                            "#d8576b"
                          ],
                          [
                            0.6666666666666666,
                            "#ed7953"
                          ],
                          [
                            0.7777777777777778,
                            "#fb9f3a"
                          ],
                          [
                            0.8888888888888888,
                            "#fdca26"
                          ],
                          [
                            1,
                            "#f0f921"
                          ]
                        ],
                        "type": "histogram2dcontour"
                      }
                    ],
                    "mesh3d": [
                      {
                        "colorbar": {
                          "outlinewidth": 0,
                          "ticks": ""
                        },
                        "type": "mesh3d"
                      }
                    ],
                    "parcoords": [
                      {
                        "line": {
                          "colorbar": {
                            "outlinewidth": 0,
                            "ticks": ""
                          }
                        },
                        "type": "parcoords"
                      }
                    ],
                    "pie": [
                      {
                        "automargin": true,
                        "type": "pie"
                      }
                    ],
                    "scatter": [
                      {
                        "fillpattern": {
                          "fillmode": "overlay",
                          "size": 10,
                          "solidity": 0.2
                        },
                        "type": "scatter"
                      }
                    ],
                    "scatter3d": [
                      {
                        "line": {
                          "colorbar": {
                            "outlinewidth": 0,
                            "ticks": ""
                          }
                        },
                        "marker": {
                          "colorbar": {
                            "outlinewidth": 0,
                            "ticks": ""
                          }
                        },
                        "type": "scatter3d"
                      }
                    ],
                    "scattercarpet": [
                      {
                        "marker": {
                          "colorbar": {
                            "outlinewidth": 0,
                            "ticks": ""
                          }
                        },
                        "type": "scattercarpet"
                      }
                    ],
                    "scattergeo": [
                      {
                        "marker": {
                          "colorbar": {
                            "outlinewidth": 0,
                            "ticks": ""
                          }
                        },
                        "type": "scattergeo"
                      }
                    ],
                    "scattergl": [
                      {
                        "marker": {
                          "colorbar": {
                            "outlinewidth": 0,
                            "ticks": ""
                          }
                        },
                        "type": "scattergl"
                      }
                    ],
                    "scattermapbox": [
                      {
                        "marker": {
                          "colorbar": {
                            "outlinewidth": 0,
                            "ticks": ""
                          }
                        },
                        "type": "scattermapbox"
                      }
                    ],
                    "scatterpolar": [
                      {
                        "marker": {
                          "colorbar": {
                            "outlinewidth": 0,
                            "ticks": ""
                          }
                        },
                        "type": "scatterpolar"
                      }
                    ],
                    "scatterpolargl": [
                      {
                        "marker": {
                          "colorbar": {
                            "outlinewidth": 0,
                            "ticks": ""
                          }
                        },
                        "type": "scatterpolargl"
                      }
                    ],
                    "scatterternary": [
                      {
                        "marker": {
                          "colorbar": {
                            "outlinewidth": 0,
                            "ticks": ""
                          }
                        },
                        "type": "scatterternary"
                      }
                    ],
                    "surface": [
                      {
                        "colorbar": {
                          "outlinewidth": 0,
                          "ticks": ""
                        },
                        "colorscale": [
                          [
                            0,
                            "#0d0887"
                          ],
                          [
                            0.1111111111111111,
                            "#46039f"
                          ],
                          [
                            0.2222222222222222,
                            "#7201a8"
                          ],
                          [
                            0.3333333333333333,
                            "#9c179e"
                          ],
                          [
                            0.4444444444444444,
                            "#bd3786"
                          ],
                          [
                            0.5555555555555556,
                            "#d8576b"
                          ],
                          [
                            0.6666666666666666,
                            "#ed7953"
                          ],
                          [
                            0.7777777777777778,
                            "#fb9f3a"
                          ],
                          [
                            0.8888888888888888,
                            "#fdca26"
                          ],
                          [
                            1,
                            "#f0f921"
                          ]
                        ],
                        "type": "surface"
                      }
                    ],
                    "table": [
                      {
                        "cells": {
                          "fill": {
                            "color": "#EBF0F8"
                          },
                          "line": {
                            "color": "white"
                          }
                        },
                        "header": {
                          "fill": {
                            "color": "#C8D4E3"
                          },
                          "line": {
                            "color": "white"
                          }
                        },
                        "type": "table"
                      }
                    ]
                  },
                  "layout": {
                    "annotationdefaults": {
                      "arrowcolor": "#2a3f5f",
                      "arrowhead": 0,
                      "arrowwidth": 1
                    },
                    "autotypenumbers": "strict",
                    "coloraxis": {
                      "colorbar": {
                        "outlinewidth": 0,
                        "ticks": ""
                      }
                    },
                    "colorscale": {
                      "diverging": [
                        [
                          0,
                          "#8e0152"
                        ],
                        [
                          0.1,
                          "#c51b7d"
                        ],
                        [
                          0.2,
                          "#de77ae"
                        ],
                        [
                          0.3,
                          "#f1b6da"
                        ],
                        [
                          0.4,
                          "#fde0ef"
                        ],
                        [
                          0.5,
                          "#f7f7f7"
                        ],
                        [
                          0.6,
                          "#e6f5d0"
                        ],
                        [
                          0.7,
                          "#b8e186"
                        ],
                        [
                          0.8,
                          "#7fbc41"
                        ],
                        [
                          0.9,
                          "#4d9221"
                        ],
                        [
                          1,
                          "#276419"
                        ]
                      ],
                      "sequential": [
                        [
                          0,
                          "#0d0887"
                        ],
                        [
                          0.1111111111111111,
                          "#46039f"
                        ],
                        [
                          0.2222222222222222,
                          "#7201a8"
                        ],
                        [
                          0.3333333333333333,
                          "#9c179e"
                        ],
                        [
                          0.4444444444444444,
                          "#bd3786"
                        ],
                        [
                          0.5555555555555556,
                          "#d8576b"
                        ],
                        [
                          0.6666666666666666,
                          "#ed7953"
                        ],
                        [
                          0.7777777777777778,
                          "#fb9f3a"
                        ],
                        [
                          0.8888888888888888,
                          "#fdca26"
                        ],
                        [
                          1,
                          "#f0f921"
                        ]
                      ],
                      "sequentialminus": [
                        [
                          0,
                          "#0d0887"
                        ],
                        [
                          0.1111111111111111,
                          "#46039f"
                        ],
                        [
                          0.2222222222222222,
                          "#7201a8"
                        ],
                        [
                          0.3333333333333333,
                          "#9c179e"
                        ],
                        [
                          0.4444444444444444,
                          "#bd3786"
                        ],
                        [
                          0.5555555555555556,
                          "#d8576b"
                        ],
                        [
                          0.6666666666666666,
                          "#ed7953"
                        ],
                        [
                          0.7777777777777778,
                          "#fb9f3a"
                        ],
                        [
                          0.8888888888888888,
                          "#fdca26"
                        ],
                        [
                          1,
                          "#f0f921"
                        ]
                      ]
                    },
                    "colorway": [
                      "#636efa",
                      "#EF553B",
                      "#00cc96",
                      "#ab63fa",
                      "#FFA15A",
                      "#19d3f3",
                      "#FF6692",
                      "#B6E880",
                      "#FF97FF",
                      "#FECB52"
                    ],
                    "font": {
                      "color": "#2a3f5f"
                    },
                    "geo": {
                      "bgcolor": "white",
                      "lakecolor": "white",
                      "landcolor": "#E5ECF6",
                      "showlakes": true,
                      "showland": true,
                      "subunitcolor": "white"
                    },
                    "hoverlabel": {
                      "align": "left"
                    },
                    "hovermode": "closest",
                    "mapbox": {
                      "style": "light"
                    },
                    "paper_bgcolor": "white",
                    "plot_bgcolor": "#E5ECF6",
                    "polar": {
                      "angularaxis": {
                        "gridcolor": "white",
                        "linecolor": "white",
                        "ticks": ""
                      },
                      "bgcolor": "#E5ECF6",
                      "radialaxis": {
                        "gridcolor": "white",
                        "linecolor": "white",
                        "ticks": ""
                      }
                    },
                    "scene": {
                      "xaxis": {
                        "backgroundcolor": "#E5ECF6",
                        "gridcolor": "white",
                        "gridwidth": 2,
                        "linecolor": "white",
                        "showbackground": true,
                        "ticks": "",
                        "zerolinecolor": "white"
                      },
                      "yaxis": {
                        "backgroundcolor": "#E5ECF6",
                        "gridcolor": "white",
                        "gridwidth": 2,
                        "linecolor": "white",
                        "showbackground": true,
                        "ticks": "",
                        "zerolinecolor": "white"
                      },
                      "zaxis": {
                        "backgroundcolor": "#E5ECF6",
                        "gridcolor": "white",
                        "gridwidth": 2,
                        "linecolor": "white",
                        "showbackground": true,
                        "ticks": "",
                        "zerolinecolor": "white"
                      }
                    },
                    "shapedefaults": {
                      "line": {
                        "color": "#2a3f5f"
                      }
                    },
                    "ternary": {
                      "aaxis": {
                        "gridcolor": "white",
                        "linecolor": "white",
                        "ticks": ""
                      },
                      "baxis": {
                        "gridcolor": "white",
                        "linecolor": "white",
                        "ticks": ""
                      },
                      "bgcolor": "#E5ECF6",
                      "caxis": {
                        "gridcolor": "white",
                        "linecolor": "white",
                        "ticks": ""
                      }
                    },
                    "title": {
                      "x": 0.05
                    },
                    "xaxis": {
                      "automargin": true,
                      "gridcolor": "white",
                      "linecolor": "white",
                      "ticks": "",
                      "title": {
                        "standoff": 15
                      },
                      "zerolinecolor": "white",
                      "zerolinewidth": 2
                    },
                    "yaxis": {
                      "automargin": true,
                      "gridcolor": "white",
                      "linecolor": "white",
                      "ticks": "",
                      "title": {
                        "standoff": 15
                      },
                      "zerolinecolor": "white",
                      "zerolinewidth": 2
                    }
                  }
                },
                "title": {
                  "text": "Feature Importances- RandomForestRegressor (RMSE: 147.73)"
                },
                "xaxis": {
                  "anchor": "y",
                  "domain": [
                    0,
                    1
                  ],
                  "title": {
                    "text": "score"
                  }
                },
                "yaxis": {
                  "anchor": "x",
                  "domain": [
                    0,
                    1
                  ],
                  "title": {
                    "text": "feature"
                  }
                }
              }
            }
          },
          "metadata": {},
          "output_type": "display_data"
        }
      ],
      "source": [
        "# Plot the feature importances\n",
        "fig = px.bar(\n",
        "    f_importances_df.sort_values(by='score', ascending = True), \n",
        "    x='score', \n",
        "    y='feature', \n",
        "    orientation='h',  # Set orientation to horizontal\n",
        "    title=f\"Feature Importances- {best_model['regressor'].__class__.__name__} (RMSE: {best_model_score:.2f})\",\n",
        "    labels={'Score': 'Score', 'Feature': 'feature'},\n",
        "    height=700,\n",
        "    color='score'      \n",
        ")\n",
        "\n",
        "fig.show()"
      ]
    },
    {
      "cell_type": "markdown",
      "metadata": {},
      "source": [
        "### Use the best two models to predict on unknown dataset (test_df)"
      ]
    },
    {
      "cell_type": "markdown",
      "metadata": {
        "id": "BcefSVx7LOh7"
      },
      "source": [
        "- Prepare Test Dataset"
      ]
    },
    {
      "cell_type": "code",
      "execution_count": 190,
      "metadata": {
        "id": "2lmliYdRKlrd"
      },
      "outputs": [
        {
          "data": {
            "text/html": [
              "<div>\n",
              "<style scoped>\n",
              "    .dataframe tbody tr th:only-of-type {\n",
              "        vertical-align: middle;\n",
              "    }\n",
              "\n",
              "    .dataframe tbody tr th {\n",
              "        vertical-align: top;\n",
              "    }\n",
              "\n",
              "    .dataframe thead th {\n",
              "        text-align: right;\n",
              "    }\n",
              "</style>\n",
              "<table border=\"1\" class=\"dataframe\">\n",
              "  <thead>\n",
              "    <tr style=\"text-align: right;\">\n",
              "      <th></th>\n",
              "      <th>id</th>\n",
              "      <th>timestamp</th>\n",
              "      <th>origin_lat</th>\n",
              "      <th>origin_lon</th>\n",
              "      <th>destination_lat</th>\n",
              "      <th>destination_lon</th>\n",
              "      <th>trip_distance</th>\n",
              "    </tr>\n",
              "  </thead>\n",
              "  <tbody>\n",
              "    <tr>\n",
              "      <th>0</th>\n",
              "      <td>000V4BQX</td>\n",
              "      <td>2019-12-21 05:52:37+00:00</td>\n",
              "      <td>2.98</td>\n",
              "      <td>36.69</td>\n",
              "      <td>2.98</td>\n",
              "      <td>36.75</td>\n",
              "      <td>17549</td>\n",
              "    </tr>\n",
              "    <tr>\n",
              "      <th>1</th>\n",
              "      <td>003WBC5J</td>\n",
              "      <td>2019-12-25 21:38:53+00:00</td>\n",
              "      <td>3.03</td>\n",
              "      <td>36.77</td>\n",
              "      <td>3.07</td>\n",
              "      <td>36.75</td>\n",
              "      <td>7532</td>\n",
              "    </tr>\n",
              "    <tr>\n",
              "      <th>2</th>\n",
              "      <td>004O4X3A</td>\n",
              "      <td>2019-12-29 21:30:29+00:00</td>\n",
              "      <td>3.04</td>\n",
              "      <td>36.71</td>\n",
              "      <td>3.01</td>\n",
              "      <td>36.76</td>\n",
              "      <td>10194</td>\n",
              "    </tr>\n",
              "    <tr>\n",
              "      <th>3</th>\n",
              "      <td>006CEI5B</td>\n",
              "      <td>2019-12-31 22:51:57+00:00</td>\n",
              "      <td>2.90</td>\n",
              "      <td>36.74</td>\n",
              "      <td>3.21</td>\n",
              "      <td>36.70</td>\n",
              "      <td>32768</td>\n",
              "    </tr>\n",
              "    <tr>\n",
              "      <th>4</th>\n",
              "      <td>009G0M2T</td>\n",
              "      <td>2019-12-28 21:47:22+00:00</td>\n",
              "      <td>2.86</td>\n",
              "      <td>36.69</td>\n",
              "      <td>2.83</td>\n",
              "      <td>36.70</td>\n",
              "      <td>4513</td>\n",
              "    </tr>\n",
              "  </tbody>\n",
              "</table>\n",
              "</div>"
            ],
            "text/plain": [
              "         id                 timestamp  origin_lat  origin_lon  \\\n",
              "0  000V4BQX 2019-12-21 05:52:37+00:00        2.98       36.69   \n",
              "1  003WBC5J 2019-12-25 21:38:53+00:00        3.03       36.77   \n",
              "2  004O4X3A 2019-12-29 21:30:29+00:00        3.04       36.71   \n",
              "3  006CEI5B 2019-12-31 22:51:57+00:00        2.90       36.74   \n",
              "4  009G0M2T 2019-12-28 21:47:22+00:00        2.86       36.69   \n",
              "\n",
              "   destination_lat  destination_lon  trip_distance  \n",
              "0             2.98            36.75          17549  \n",
              "1             3.07            36.75           7532  \n",
              "2             3.01            36.76          10194  \n",
              "3             3.21            36.70          32768  \n",
              "4             2.83            36.70           4513  "
            ]
          },
          "execution_count": 190,
          "metadata": {},
          "output_type": "execute_result"
        }
      ],
      "source": [
        "test_df.head()"
      ]
    },
    {
      "cell_type": "code",
      "execution_count": 213,
      "metadata": {
        "id": "EMver-u0L0de"
      },
      "outputs": [
        {
          "data": {
            "text/plain": [
              "array([1374.94511905,  731.98      , 1033.17      , ...,  742.41      ,\n",
              "       1249.55      ,  683.935     ])"
            ]
          },
          "execution_count": 213,
          "metadata": {},
          "output_type": "execute_result"
        }
      ],
      "source": [
        "eta_pred = best_model.predict(test_df)\n",
        "eta_pred"
      ]
    },
    {
      "cell_type": "code",
      "execution_count": 240,
      "metadata": {
        "id": "xB2W66qYMB33"
      },
      "outputs": [
        {
          "data": {
            "text/html": [
              "<div>\n",
              "<style scoped>\n",
              "    .dataframe tbody tr th:only-of-type {\n",
              "        vertical-align: middle;\n",
              "    }\n",
              "\n",
              "    .dataframe tbody tr th {\n",
              "        vertical-align: top;\n",
              "    }\n",
              "\n",
              "    .dataframe thead th {\n",
              "        text-align: right;\n",
              "    }\n",
              "</style>\n",
              "<table border=\"1\" class=\"dataframe\">\n",
              "  <thead>\n",
              "    <tr style=\"text-align: right;\">\n",
              "      <th></th>\n",
              "      <th>id</th>\n",
              "      <th>eta</th>\n",
              "    </tr>\n",
              "  </thead>\n",
              "  <tbody>\n",
              "    <tr>\n",
              "      <th>0</th>\n",
              "      <td>000V4BQX</td>\n",
              "      <td>1374.95</td>\n",
              "    </tr>\n",
              "    <tr>\n",
              "      <th>1</th>\n",
              "      <td>003WBC5J</td>\n",
              "      <td>731.98</td>\n",
              "    </tr>\n",
              "    <tr>\n",
              "      <th>2</th>\n",
              "      <td>004O4X3A</td>\n",
              "      <td>1033.17</td>\n",
              "    </tr>\n",
              "    <tr>\n",
              "      <th>3</th>\n",
              "      <td>006CEI5B</td>\n",
              "      <td>2059.24</td>\n",
              "    </tr>\n",
              "    <tr>\n",
              "      <th>4</th>\n",
              "      <td>009G0M2T</td>\n",
              "      <td>758.39</td>\n",
              "    </tr>\n",
              "    <tr>\n",
              "      <th>...</th>\n",
              "      <td>...</td>\n",
              "      <td>...</td>\n",
              "    </tr>\n",
              "    <tr>\n",
              "      <th>35620</th>\n",
              "      <td>ZZXSJW3Q</td>\n",
              "      <td>432.46</td>\n",
              "    </tr>\n",
              "    <tr>\n",
              "      <th>35621</th>\n",
              "      <td>ZZYPNYYY</td>\n",
              "      <td>1064.20</td>\n",
              "    </tr>\n",
              "    <tr>\n",
              "      <th>35622</th>\n",
              "      <td>ZZYVPKXY</td>\n",
              "      <td>742.41</td>\n",
              "    </tr>\n",
              "    <tr>\n",
              "      <th>35623</th>\n",
              "      <td>ZZZXGRIO</td>\n",
              "      <td>1249.55</td>\n",
              "    </tr>\n",
              "    <tr>\n",
              "      <th>35624</th>\n",
              "      <td>ZZZYTWJA</td>\n",
              "      <td>683.93</td>\n",
              "    </tr>\n",
              "  </tbody>\n",
              "</table>\n",
              "<p>35625 rows × 2 columns</p>\n",
              "</div>"
            ],
            "text/plain": [
              "             id     eta\n",
              "0      000V4BQX 1374.95\n",
              "1      003WBC5J  731.98\n",
              "2      004O4X3A 1033.17\n",
              "3      006CEI5B 2059.24\n",
              "4      009G0M2T  758.39\n",
              "...         ...     ...\n",
              "35620  ZZXSJW3Q  432.46\n",
              "35621  ZZYPNYYY 1064.20\n",
              "35622  ZZYVPKXY  742.41\n",
              "35623  ZZZXGRIO 1249.55\n",
              "35624  ZZZYTWJA  683.93\n",
              "\n",
              "[35625 rows x 2 columns]"
            ]
          },
          "execution_count": 240,
          "metadata": {},
          "output_type": "execute_result"
        }
      ],
      "source": [
        "submission_df = pd.DataFrame(\n",
        "    {\n",
        "        'id': test_df['id'],\n",
        "        'eta': eta_pred\n",
        "    }\n",
        ")\n",
        "submission_df"
      ]
    },
    {
      "cell_type": "code",
      "execution_count": 248,
      "metadata": {},
      "outputs": [],
      "source": [
        "filename = 'submission.csv'\n",
        "\n",
        "path = Path.cwd().parent / \"Submission\"\n",
        "\n",
        "filepath = path / filename\n",
        "\n",
        "\n",
        "submission_df['eta'] = submission_df['eta'].round(0).astype(int)\n",
        "submission_df.columns = [c.upper() for c in  submission_df.columns]\n",
        "submission_df.to_csv(filepath, index=False)"
      ]
    },
    {
      "cell_type": "markdown",
      "metadata": {
        "id": "zazfv6yzMfdj"
      },
      "source": [
        "### Persist/Saving the models 💾"
      ]
    },
    {
      "cell_type": "code",
      "execution_count": null,
      "metadata": {
        "id": "7kQfReu3MBLO"
      },
      "outputs": [],
      "source": [
        "# for model_name, model in {**all_stat_models, **all_pipelines}.items():\n",
        "#     joblib.dump(model,f'./Trained models/{model_name}.joblib')"
      ]
    },
    {
      "cell_type": "code",
      "execution_count": 224,
      "metadata": {},
      "outputs": [
        {
          "name": "stdout",
          "output_type": "stream",
          "text": [
            "💾 All models have been saved.\n"
          ]
        }
      ],
      "source": [
        "# Models\n",
        "compdir = Path.cwd().parent / \"Models\"\n",
        "for model_name, pipeline in all_pipelines.items():\n",
        "    filename = f'{model_name}.joblib'\n",
        "    filepath = compdir / filename\n",
        "    joblib.dump(pipeline, filepath)\n",
        "\n",
        "\n",
        "print('💾 All models have been saved.')"
      ]
    },
    {
      "cell_type": "markdown",
      "metadata": {
        "id": "JFBb26Fh3KF5"
      },
      "source": [
        "# Deployment"
      ]
    },
    {
      "cell_type": "markdown",
      "metadata": {},
      "source": []
    },
    {
      "cell_type": "markdown",
      "metadata": {},
      "source": [
        "Made with 💖 [Team Curium](https://github.com/valiantezabuku/Yassir-ETA-Prediction-Challenge-For-Azubian-Team-Curium)"
      ]
    }
  ],
  "metadata": {
    "accelerator": "GPU",
    "colab": {
      "gpuType": "T4",
      "provenance": []
    },
    "kernelspec": {
      "display_name": "Python 3",
      "name": "python3"
    },
    "language_info": {
      "codemirror_mode": {
        "name": "ipython",
        "version": 3
      },
      "file_extension": ".py",
      "mimetype": "text/x-python",
      "name": "python",
      "nbconvert_exporter": "python",
      "pygments_lexer": "ipython3",
      "version": "3.11.9"
    }
  },
  "nbformat": 4,
  "nbformat_minor": 0
}
