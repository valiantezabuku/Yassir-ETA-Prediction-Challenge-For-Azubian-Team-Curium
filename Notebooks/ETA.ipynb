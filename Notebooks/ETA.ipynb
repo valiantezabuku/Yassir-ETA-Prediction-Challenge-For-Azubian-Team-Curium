{
 "cells": [
  {
   "cell_type": "markdown",
   "metadata": {},
   "source": [
    "# Business Understanding"
   ]
  },
  {
   "cell_type": "markdown",
   "metadata": {},
   "source": [
    "# Data Understanding"
   ]
  },
  {
   "cell_type": "code",
   "execution_count": 2,
   "metadata": {},
   "outputs": [],
   "source": [
    "# Import the Necessary Packages\n",
    "import pandas as pd\n",
    "import numpy as np"
   ]
  },
  {
   "cell_type": "code",
   "execution_count": 4,
   "metadata": {},
   "outputs": [],
   "source": [
    "# Load CSV files into the Notebook\n",
    "train_df = pd.read_csv(\"../Data/Train.csv\")\n",
    "\n",
    "weather_df = pd.read_csv(\"../Data/Weather.csv\")"
   ]
  },
  {
   "cell_type": "markdown",
   "metadata": {},
   "source": [
    "### Exploratory Data Analysis"
   ]
  },
  {
   "cell_type": "code",
   "execution_count": 5,
   "metadata": {},
   "outputs": [
    {
     "data": {
      "text/html": [
       "<div>\n",
       "<style scoped>\n",
       "    .dataframe tbody tr th:only-of-type {\n",
       "        vertical-align: middle;\n",
       "    }\n",
       "\n",
       "    .dataframe tbody tr th {\n",
       "        vertical-align: top;\n",
       "    }\n",
       "\n",
       "    .dataframe thead th {\n",
       "        text-align: right;\n",
       "    }\n",
       "</style>\n",
       "<table border=\"1\" class=\"dataframe\">\n",
       "  <thead>\n",
       "    <tr style=\"text-align: right;\">\n",
       "      <th></th>\n",
       "      <th>ID</th>\n",
       "      <th>Timestamp</th>\n",
       "      <th>Origin_lat</th>\n",
       "      <th>Origin_lon</th>\n",
       "      <th>Destination_lat</th>\n",
       "      <th>Destination_lon</th>\n",
       "      <th>Trip_distance</th>\n",
       "      <th>ETA</th>\n",
       "    </tr>\n",
       "  </thead>\n",
       "  <tbody>\n",
       "    <tr>\n",
       "      <th>0</th>\n",
       "      <td>000FLWA8</td>\n",
       "      <td>2019-12-04T20:01:50Z</td>\n",
       "      <td>3.258</td>\n",
       "      <td>36.777</td>\n",
       "      <td>3.003</td>\n",
       "      <td>36.718</td>\n",
       "      <td>39627</td>\n",
       "      <td>2784</td>\n",
       "    </tr>\n",
       "    <tr>\n",
       "      <th>1</th>\n",
       "      <td>000RGOAM</td>\n",
       "      <td>2019-12-10T22:37:09Z</td>\n",
       "      <td>3.087</td>\n",
       "      <td>36.707</td>\n",
       "      <td>3.081</td>\n",
       "      <td>36.727</td>\n",
       "      <td>3918</td>\n",
       "      <td>576</td>\n",
       "    </tr>\n",
       "    <tr>\n",
       "      <th>2</th>\n",
       "      <td>001QSGIH</td>\n",
       "      <td>2019-11-23T20:36:10Z</td>\n",
       "      <td>3.144</td>\n",
       "      <td>36.739</td>\n",
       "      <td>3.088</td>\n",
       "      <td>36.742</td>\n",
       "      <td>7265</td>\n",
       "      <td>526</td>\n",
       "    </tr>\n",
       "    <tr>\n",
       "      <th>3</th>\n",
       "      <td>002ACV6R</td>\n",
       "      <td>2019-12-01T05:43:21Z</td>\n",
       "      <td>3.239</td>\n",
       "      <td>36.784</td>\n",
       "      <td>3.054</td>\n",
       "      <td>36.763</td>\n",
       "      <td>23350</td>\n",
       "      <td>3130</td>\n",
       "    </tr>\n",
       "    <tr>\n",
       "      <th>4</th>\n",
       "      <td>0039Y7A8</td>\n",
       "      <td>2019-12-17T20:30:20Z</td>\n",
       "      <td>2.912</td>\n",
       "      <td>36.707</td>\n",
       "      <td>3.207</td>\n",
       "      <td>36.698</td>\n",
       "      <td>36613</td>\n",
       "      <td>2138</td>\n",
       "    </tr>\n",
       "  </tbody>\n",
       "</table>\n",
       "</div>"
      ],
      "text/plain": [
       "         ID             Timestamp  Origin_lat  Origin_lon  Destination_lat  \\\n",
       "0  000FLWA8  2019-12-04T20:01:50Z       3.258      36.777            3.003   \n",
       "1  000RGOAM  2019-12-10T22:37:09Z       3.087      36.707            3.081   \n",
       "2  001QSGIH  2019-11-23T20:36:10Z       3.144      36.739            3.088   \n",
       "3  002ACV6R  2019-12-01T05:43:21Z       3.239      36.784            3.054   \n",
       "4  0039Y7A8  2019-12-17T20:30:20Z       2.912      36.707            3.207   \n",
       "\n",
       "   Destination_lon  Trip_distance   ETA  \n",
       "0           36.718          39627  2784  \n",
       "1           36.727           3918   576  \n",
       "2           36.742           7265   526  \n",
       "3           36.763          23350  3130  \n",
       "4           36.698          36613  2138  "
      ]
     },
     "execution_count": 5,
     "metadata": {},
     "output_type": "execute_result"
    }
   ],
   "source": [
    "train_df.head()"
   ]
  },
  {
   "cell_type": "code",
   "execution_count": 6,
   "metadata": {},
   "outputs": [
    {
     "data": {
      "text/html": [
       "<div>\n",
       "<style scoped>\n",
       "    .dataframe tbody tr th:only-of-type {\n",
       "        vertical-align: middle;\n",
       "    }\n",
       "\n",
       "    .dataframe tbody tr th {\n",
       "        vertical-align: top;\n",
       "    }\n",
       "\n",
       "    .dataframe thead th {\n",
       "        text-align: right;\n",
       "    }\n",
       "</style>\n",
       "<table border=\"1\" class=\"dataframe\">\n",
       "  <thead>\n",
       "    <tr style=\"text-align: right;\">\n",
       "      <th></th>\n",
       "      <th>date</th>\n",
       "      <th>dewpoint_2m_temperature</th>\n",
       "      <th>maximum_2m_air_temperature</th>\n",
       "      <th>mean_2m_air_temperature</th>\n",
       "      <th>mean_sea_level_pressure</th>\n",
       "      <th>minimum_2m_air_temperature</th>\n",
       "      <th>surface_pressure</th>\n",
       "      <th>total_precipitation</th>\n",
       "      <th>u_component_of_wind_10m</th>\n",
       "      <th>v_component_of_wind_10m</th>\n",
       "    </tr>\n",
       "  </thead>\n",
       "  <tbody>\n",
       "    <tr>\n",
       "      <th>0</th>\n",
       "      <td>2019-11-01</td>\n",
       "      <td>290.630524</td>\n",
       "      <td>296.434662</td>\n",
       "      <td>294.125061</td>\n",
       "      <td>101853.617188</td>\n",
       "      <td>292.503998</td>\n",
       "      <td>100806.351562</td>\n",
       "      <td>0.004297</td>\n",
       "      <td>3.561323</td>\n",
       "      <td>0.941695</td>\n",
       "    </tr>\n",
       "    <tr>\n",
       "      <th>1</th>\n",
       "      <td>2019-11-02</td>\n",
       "      <td>289.135284</td>\n",
       "      <td>298.432404</td>\n",
       "      <td>295.551666</td>\n",
       "      <td>101225.164062</td>\n",
       "      <td>293.337921</td>\n",
       "      <td>100187.250000</td>\n",
       "      <td>0.001767</td>\n",
       "      <td>5.318593</td>\n",
       "      <td>3.258237</td>\n",
       "    </tr>\n",
       "    <tr>\n",
       "      <th>2</th>\n",
       "      <td>2019-11-03</td>\n",
       "      <td>287.667694</td>\n",
       "      <td>296.612122</td>\n",
       "      <td>295.182831</td>\n",
       "      <td>100806.617188</td>\n",
       "      <td>293.674316</td>\n",
       "      <td>99771.414062</td>\n",
       "      <td>0.000797</td>\n",
       "      <td>8.447649</td>\n",
       "      <td>3.172982</td>\n",
       "    </tr>\n",
       "    <tr>\n",
       "      <th>3</th>\n",
       "      <td>2019-11-04</td>\n",
       "      <td>287.634644</td>\n",
       "      <td>297.173737</td>\n",
       "      <td>294.368134</td>\n",
       "      <td>101240.929688</td>\n",
       "      <td>292.376221</td>\n",
       "      <td>100200.843750</td>\n",
       "      <td>0.000393</td>\n",
       "      <td>5.991428</td>\n",
       "      <td>2.236700</td>\n",
       "    </tr>\n",
       "    <tr>\n",
       "      <th>4</th>\n",
       "      <td>2019-11-05</td>\n",
       "      <td>286.413788</td>\n",
       "      <td>294.284851</td>\n",
       "      <td>292.496979</td>\n",
       "      <td>101131.750000</td>\n",
       "      <td>289.143066</td>\n",
       "      <td>100088.500000</td>\n",
       "      <td>0.004658</td>\n",
       "      <td>6.962730</td>\n",
       "      <td>2.655364</td>\n",
       "    </tr>\n",
       "  </tbody>\n",
       "</table>\n",
       "</div>"
      ],
      "text/plain": [
       "         date  dewpoint_2m_temperature  maximum_2m_air_temperature  \\\n",
       "0  2019-11-01               290.630524                  296.434662   \n",
       "1  2019-11-02               289.135284                  298.432404   \n",
       "2  2019-11-03               287.667694                  296.612122   \n",
       "3  2019-11-04               287.634644                  297.173737   \n",
       "4  2019-11-05               286.413788                  294.284851   \n",
       "\n",
       "   mean_2m_air_temperature  mean_sea_level_pressure  \\\n",
       "0               294.125061            101853.617188   \n",
       "1               295.551666            101225.164062   \n",
       "2               295.182831            100806.617188   \n",
       "3               294.368134            101240.929688   \n",
       "4               292.496979            101131.750000   \n",
       "\n",
       "   minimum_2m_air_temperature  surface_pressure  total_precipitation  \\\n",
       "0                  292.503998     100806.351562             0.004297   \n",
       "1                  293.337921     100187.250000             0.001767   \n",
       "2                  293.674316      99771.414062             0.000797   \n",
       "3                  292.376221     100200.843750             0.000393   \n",
       "4                  289.143066     100088.500000             0.004658   \n",
       "\n",
       "   u_component_of_wind_10m  v_component_of_wind_10m  \n",
       "0                 3.561323                 0.941695  \n",
       "1                 5.318593                 3.258237  \n",
       "2                 8.447649                 3.172982  \n",
       "3                 5.991428                 2.236700  \n",
       "4                 6.962730                 2.655364  "
      ]
     },
     "execution_count": 6,
     "metadata": {},
     "output_type": "execute_result"
    }
   ],
   "source": [
    "weather_df.head()"
   ]
  },
  {
   "cell_type": "code",
   "execution_count": 7,
   "metadata": {},
   "outputs": [
    {
     "name": "stdout",
     "output_type": "stream",
     "text": [
      "<class 'pandas.core.frame.DataFrame'>\n",
      "RangeIndex: 83924 entries, 0 to 83923\n",
      "Data columns (total 8 columns):\n",
      " #   Column           Non-Null Count  Dtype  \n",
      "---  ------           --------------  -----  \n",
      " 0   ID               83924 non-null  object \n",
      " 1   Timestamp        83924 non-null  object \n",
      " 2   Origin_lat       83924 non-null  float64\n",
      " 3   Origin_lon       83924 non-null  float64\n",
      " 4   Destination_lat  83924 non-null  float64\n",
      " 5   Destination_lon  83924 non-null  float64\n",
      " 6   Trip_distance    83924 non-null  int64  \n",
      " 7   ETA              83924 non-null  int64  \n",
      "dtypes: float64(4), int64(2), object(2)\n",
      "memory usage: 5.1+ MB\n"
     ]
    }
   ],
   "source": [
    "train_df.info()"
   ]
  },
  {
   "cell_type": "code",
   "execution_count": 8,
   "metadata": {},
   "outputs": [
    {
     "data": {
      "text/plain": [
       "ID                 0\n",
       "Timestamp          0\n",
       "Origin_lat         0\n",
       "Origin_lon         0\n",
       "Destination_lat    0\n",
       "Destination_lon    0\n",
       "Trip_distance      0\n",
       "ETA                0\n",
       "dtype: int64"
      ]
     },
     "execution_count": 8,
     "metadata": {},
     "output_type": "execute_result"
    }
   ],
   "source": [
    "# Checking for missing Values\n",
    "train_df.isna().sum()"
   ]
  },
  {
   "cell_type": "markdown",
   "metadata": {},
   "source": [
    "Cleaning the Timestamp column and changing the data type"
   ]
  },
  {
   "cell_type": "code",
   "execution_count": null,
   "metadata": {},
   "outputs": [],
   "source": []
  },
  {
   "cell_type": "markdown",
   "metadata": {},
   "source": [
    "# Data Preparation"
   ]
  },
  {
   "cell_type": "markdown",
   "metadata": {},
   "source": [
    "# Modeling and Evaluation"
   ]
  },
  {
   "cell_type": "markdown",
   "metadata": {},
   "source": [
    "# Deployment"
   ]
  }
 ],
 "metadata": {
  "kernelspec": {
   "display_name": "venv",
   "language": "python",
   "name": "python3"
  },
  "language_info": {
   "codemirror_mode": {
    "name": "ipython",
    "version": 3
   },
   "file_extension": ".py",
   "mimetype": "text/x-python",
   "name": "python",
   "nbconvert_exporter": "python",
   "pygments_lexer": "ipython3",
   "version": "3.11.6"
  }
 },
 "nbformat": 4,
 "nbformat_minor": 2
}
