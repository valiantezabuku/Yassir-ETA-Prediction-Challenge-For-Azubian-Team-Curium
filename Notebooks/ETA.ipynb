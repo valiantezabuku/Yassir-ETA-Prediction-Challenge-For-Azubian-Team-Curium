{
 "cells": [
  {
   "cell_type": "markdown",
   "metadata": {},
   "source": [
    "## 1. Business Understanding (Stakeholders input)\n",
    "- Goal\n",
    "- Hypothesis\n",
    "- Analytical Questions\n",
    "- More Information about the project if applicable\n",
    "## 2. Data Understanding\n",
    "- Load Dataset\n",
    "- Clean dataset\n",
    "- EDA (info, describe, duplicates, appropriate columns, check for uniques values) - Univariate (Histogram, check for outliers, calculate skweness, density plots, etc) - Bivariate Analysis (Datatypes, correlation heatmap, violin plot, Pair plots, etc) - Multivariate Analysis (PCA) - Further analysis\n",
    "- Answer Analytical Questions\n",
    "- Test Hypothesis\n",
    "## 3. Data Preparation\n",
    "## 4. Modelling & Evaluation\n"
   ]
  },
  {
   "cell_type": "markdown",
   "metadata": {},
   "source": [
    "# Business Understanding"
   ]
  },
  {
   "cell_type": "markdown",
   "metadata": {},
   "source": [
    "### Objective:\n",
    "The primary goal of this project is to accurately predict the estimated time of arrival (ETA) for Yassir trips. This will enhance the reliability of Yassir's services, potentially increasing customer satisfaction and retention while optimizing resource allocation and cost management.\n",
    "\n",
    "### Stakeholders:\n",
    "\n",
    "- **Customers:** Require reliable and accurate ETAs to plan their journeys better.\n",
    "- **Drivers:** Benefit from improved route planning and time management.\n",
    "- **Yassir Management:** Needs accurate ETA predictions to improve service efficiency, resource allocation, and customer satisfaction.\n",
    "\n",
    "### Success Criteria:\n",
    "\n",
    "- **Operational Efficiency:** Better resource management and reduced operational costs.\n",
    "- **Customer Experience:** Enhanced satisfaction due to accurate ETA predictions.\n",
    "- **Market Competitiveness:** Improved reliability can make Yassir more attractive compared to competitors.\n",
    "\n",
    "### Business Questions\n",
    "1. How do weather conditions affect the ETA of Yassir trips?\n",
    "   Understanding the influence of factors like temperature, rainfall, and wind speed on travel times can help in more accurate ETA predictions.\n",
    "2. What is the impact of trip distance on ETA accuracy?\n",
    "   Investigating whether longer or shorter trips have more variance in ETA predictions can help refine the model.\n",
    "3. How do different times of the day affect ETA predictions?\n",
    "   Analyzing time-based patterns (e.g., rush hours vs. non-rush hours) can help improve the predictive model.\n",
    "\n",
    "### Hypothesis\n",
    "\n",
    "Null Hypothesis: The ETA for Yassir trips is significantly influenced by weather conditions, particularly rainfall and wind speed, trip distance, and the time of day."
   ]
  },
  {
   "cell_type": "markdown",
   "metadata": {},
   "source": [
    "# Data Understanding"
   ]
  },
  {
   "cell_type": "code",
   "execution_count": null,
   "metadata": {},
   "outputs": [],
   "source": [
    "# Import the Necessary Packages\n",
    "# Other packages\n",
    "import os\n",
    "\n",
    "import pandas as pd\n",
    "\n",
    "print(\"🛬 Imported all packages.\", \"Warnings hidden. 👻\")"
   ]
  },
  {
   "cell_type": "markdown",
   "metadata": {},
   "source": [
    "### Data Reading"
   ]
  },
  {
   "cell_type": "code",
   "execution_count": null,
   "metadata": {},
   "outputs": [],
   "source": [
    "BASE_DIR = '../'\n",
    "ENV_FILE = os.path.join(BASE_DIR, '.env')\n",
    "TEST_FILE = os.path.join(BASE_DIR, 'Data/Test.csv')\n",
    "TRAIN_FILE = os.path.join(BASE_DIR, 'Data/Train.csv')\n",
    "WEATHER_FILE = os.path.join(BASE_DIR, 'Data/Weather.csv')\n",
    "MODELS = os.path.join(BASE_DIR, 'models/')"
   ]
  },
  {
   "cell_type": "code",
   "execution_count": null,
   "metadata": {},
   "outputs": [],
   "source": [
    "# Date columns to parse\n",
    "parse_dates = ['Timestamp']\n",
    "\n",
    "# Load CSV files into the Notebook\n",
    "train_df = pd.read_csv(TRAIN_FILE, parse_dates=parse_dates)\n",
    "\n",
    "test_df =pd.read_csv(TEST_FILE, parse_dates=parse_dates)\n",
    "\n",
    "weather_df = pd.read_csv(WEATHER_FILE)"
   ]
  },
  {
   "cell_type": "markdown",
   "metadata": {},
   "source": [
    "### Data Cleaning"
   ]
  },
  {
   "cell_type": "markdown",
   "metadata": {},
   "source": [
    "- Standardize column names- use snake case"
   ]
  },
  {
   "cell_type": "code",
   "execution_count": null,
   "metadata": {},
   "outputs": [],
   "source": [
    "train_df.columns = [col.lower() for col in train_df.columns] # Train\n",
    "\n",
    "test_df.columns = [col.lower() for col in test_df.columns] # Test"
   ]
  },
  {
   "cell_type": "markdown",
   "metadata": {},
   "source": [
    "### Exploratory Data Analysis"
   ]
  },
  {
   "cell_type": "code",
   "execution_count": null,
   "metadata": {},
   "outputs": [],
   "source": [
    "test_df.head()"
   ]
  },
  {
   "cell_type": "code",
   "execution_count": null,
   "metadata": {},
   "outputs": [],
   "source": [
    "test_df.info()"
   ]
  },
  {
   "cell_type": "code",
   "execution_count": null,
   "metadata": {},
   "outputs": [],
   "source": [
    "train_df.head()"
   ]
  },
  {
   "cell_type": "code",
   "execution_count": null,
   "metadata": {},
   "outputs": [],
   "source": [
    "weather_df.head()"
   ]
  },
  {
   "cell_type": "code",
   "execution_count": null,
   "metadata": {},
   "outputs": [],
   "source": [
    "train_df.info()"
   ]
  },
  {
   "cell_type": "code",
   "execution_count": null,
   "metadata": {},
   "outputs": [],
   "source": [
    "#Checking for missing Values\n",
    "train_df.isna().sum()"
   ]
  },
  {
   "cell_type": "markdown",
   "metadata": {},
   "source": [
    "Cleaning the Timestamp column and changing the data type"
   ]
  },
  {
   "cell_type": "code",
   "execution_count": null,
   "metadata": {},
   "outputs": [],
   "source": [
    "\n",
    "# # Function to clean the timestamp\n",
    "# def clean_timestamp(Timestamp):\n",
    "#     return Timestamp.replace('T', ' ').replace('Z', '')\n",
    "\n",
    "# # # Function to extract date and time\n",
    "# # def extract_date_time(Timestamp):\n",
    "# #     date_time_str = Timestamp.replace('T', ' ').replace('Z', '')\n",
    "# #     date, time = date_time_str.split(' ')\n",
    "# #     return date, time\n",
    "\n",
    "# # Apply the function to clean the 'timestamp' column\n",
    "# train_df['timestamp'] = train_df['Timestamp'].apply(clean_timestamp)\n",
    "\n",
    "# # # Apply the function and create two new columns\n",
    "# # train_df[['date', 'time']] = train_df['Timestamp'].apply(lambda x: pd.Series(extract_date_time(x)))\n",
    "\n",
    "# print(train_df)\n"
   ]
  },
  {
   "cell_type": "code",
   "execution_count": null,
   "metadata": {},
   "outputs": [],
   "source": [
    "train_df.head()"
   ]
  },
  {
   "cell_type": "markdown",
   "metadata": {},
   "source": [
    "### Convert seconds to hours, minutes, and second"
   ]
  },
  {
   "cell_type": "code",
   "execution_count": null,
   "metadata": {},
   "outputs": [],
   "source": [
    "# Function to convert seconds to hours, minutes, and seconds\n",
    "def convert_seconds(ETA):\n",
    "    hours = ETA // 3600\n",
    "    minutes = (ETA % 3600) // 60\n",
    "    seconds = ETA % 60\n",
    "    return f\"{hours}h {minutes}m {seconds}s\"\n",
    "\n",
    "# Apply the function to the 'ETA' column and create a new column 'time_taken'\n",
    "train_df['time_taken'] = train_df['ETA'].apply(convert_seconds)\n",
    "\n",
    "train_df\n"
   ]
  },
  {
   "cell_type": "markdown",
   "metadata": {},
   "source": [
    "### Function to convert meters to kilometers"
   ]
  },
  {
   "cell_type": "code",
   "execution_count": null,
   "metadata": {},
   "outputs": [],
   "source": [
    "# Function to convert meters to kilometers\n",
    "def convert_to_km(Trip_distance):\n",
    "    return Trip_distance / 1000\n",
    "\n",
    "# Apply the function to the 'trip distance' column and create a new column 'Distance_KM'\n",
    "train_df['Distance_KM'] = train_df['Trip_distance'].apply(convert_to_km)\n",
    "\n",
    "train_df"
   ]
  },
  {
   "cell_type": "code",
   "execution_count": null,
   "metadata": {},
   "outputs": [],
   "source": [
    "# Apply the function to the test data\n",
    "test_df['Distance_KM'] = test_df['Trip_distance'].apply(convert_to_km)\n",
    "\n",
    "test_df"
   ]
  },
  {
   "cell_type": "markdown",
   "metadata": {},
   "source": [
    "# Data Preparation"
   ]
  },
  {
   "cell_type": "markdown",
   "metadata": {},
   "source": [
    "# Modeling and Evaluation"
   ]
  },
  {
   "cell_type": "markdown",
   "metadata": {},
   "source": [
    "# Deployment"
   ]
  }
 ],
 "metadata": {
  "kernelspec": {
   "display_name": "venv",
   "language": "python",
   "name": "python3"
  },
  "language_info": {
   "codemirror_mode": {
    "name": "ipython",
    "version": 3
   },
   "file_extension": ".py",
   "mimetype": "text/x-python",
   "name": "python",
   "nbconvert_exporter": "python",
   "pygments_lexer": "ipython3",
   "version": "3.11.9"
  }
 },
 "nbformat": 4,
 "nbformat_minor": 2
}
