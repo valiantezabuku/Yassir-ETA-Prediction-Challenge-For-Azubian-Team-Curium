{
 "cells": [
  {
   "cell_type": "markdown",
   "metadata": {},
   "source": [
    "## 1. Business Understanding (Stakeholders input)\n",
    "- Goal\n",
    "- Hypothesis\n",
    "- Analytical Questions\n",
    "- More Information about the project if applicable\n",
    "## 2. Data Understanding\n",
    "- Load Dataset\n",
    "- Clean dataset\n",
    "- EDA (info, describe, duplicates, appropriate columns, check for uniques values) - Univariate (Histogram, check for outliers, calculate skweness, density plots, etc) - Bivariate Analysis (Datatypes, correlation heatmap, violin plot, Pair plots, etc) - Multivariate Analysis (PCA) - Further analysis\n",
    "- Answer Analytical Questions\n",
    "- Test Hypothesis\n",
    "## 3. Data Preparation\n",
    "## 4. Modelling & Evaluation\n"
   ]
  },
  {
   "cell_type": "markdown",
   "metadata": {},
   "source": [
    "# Business Understanding"
   ]
  },
  {
   "cell_type": "markdown",
   "metadata": {},
   "source": [
<<<<<<< HEAD
    "##### **Project Scenario**\n",
    "\n",
    "Ride-hailing apps like Uber and Yassir depend heavily on real-time data and machine learning algorithms to automate and optimize their services. Accurate prediction of the Estimated Time of Arrival (ETA) is crucial for enhancing the reliability and attractiveness of Yassir's services. This prediction will have significant direct and indirect impacts on both customers and business partners. Improving ETA predictions will not only make Yassir's services more dependable but also allow the company to save money and allocate resources more effectively across other business areas.\n",
    "\n",
    "##### **Problem Statement**\n",
    "\n",
    "Yassir aims to optimize its service operations by accurately predicting the ETA for rides. The goal is to ensure that customers receive precise arrival times, improving their overall experience while allowing Yassir to manage resources more effectively and reduce operational costs.\n",
    "\n",
    "##### **Objective**\n",
    "\n",
    "The primary objective of this project is to develop machine learning models that accurately predict the ETA for a Yassir journey to enhance service reliability and customer satisfaction. By accurately forecasting the time it will take for a trip to reach its destination, Yassir can improve the customer experience, optimize operational efficiency, and better manage resource allocation. This will contribute to cost savings and more efficient use of resources, benefiting both customers and business partners.\n",
    "\n",
    "##### **Key Stakeholders**\n",
    "\n",
    "Stakeholders include Yassir's management team, operations and logistics teams, customer service department, and data science team.\n",
    "\n",
    "##### **Analytical Goals**\n",
    "\n",
    "1. **Data Preparation:**\n",
    "   - Handle missing values in trip and weather datasets using imputation techniques such as mean, median, or mode.\n",
    "   - Address outliers in trip data that may skew model predictions by applying robust statistical methods.\n",
    "   - Normalize or scale numerical features (e.g., trip distance) to ensure uniformity and improve model performance.\n",
    "   - Encode categorical variables (e.g., weather conditions) using one-hot encoding or similar techniques.\n",
    "\n",
    "2. **Model Development:**\n",
    "   - Train and evaluate various regression models such as linear regression, decision trees, random forests, and gradient boosting algorithms.\n",
    "   - Incorporate time series analysis if applicable to capture temporal trends and seasonality.\n",
    "   - Validate models using cross-validation techniques and assess performance metrics such as RMSE (Root Mean Squared Error).\n",
    "\n",
    "3. **Feature Engineering:**\n",
    "   - Extract relevant features from timestamps (e.g., time of day, day of week) and weather conditions to enrich the model.\n",
    "   - Analyze feature importance to understand key factors affecting ETA predictions.\n",
    "\n",
    "4. **Visualization and Reporting:**\n",
    "   - Create visualizations and dashboards to present insights from the model and its predictions.\n",
    "   - Develop a deployment strategy for integrating the ETA prediction model into Yassir’s operational systems.\n",
    "\n",
    "##### **Success Criteria**\n",
    "\n",
    "1. Achieve a significant reduction in ETA prediction errors, with an RMSE that meets or exceeds industry standards.\n",
    "2. Improve customer satisfaction scores related to ride accuracy.\n",
    "3. Optimize driver allocation and resource management, leading to cost savings and operational efficiency.\n",
    "\n",
    "##### **Constraints and Assumptions**\n",
    "\n",
    "- Assumption: Historical trip and weather data are representative of future conditions and trends.\n",
    "- Constraint: Limited availability of real-time traffic data for model refinement and updates.\n",
    "\n",
    "##### **Data Requirements**\n",
    "\n",
    "- Utilize data from trip records and weather datasets for analysis.\n",
    "- Include features such as trip ID, timestamp, origin and destination coordinates, trip distance, ETA, and weather conditions (temperature, rainfall, wind speed).\n",
    "\n",
    "##### **Business Impact**\n",
    "\n",
    "- **Enhanced Customer Experience:** More accurate ETA predictions will improve customer satisfaction and trust in Yassir’s services.\n",
    "- **Operational Efficiency:** Better predictions will optimize driver allocation and reduce operational costs.\n",
    "- **Resource Allocation:** Improved resource management through accurate trip scheduling and reduced delays.\n",
    "- **Cost Savings:** Financial savings from reduced inefficiencies and optimized resource use.\n"
=======
    "### Objective:\n",
    "The primary goal of this project is to accurately predict the estimated time of arrival (ETA) for Yassir trips. This will enhance the reliability of Yassir's services, potentially increasing customer satisfaction and retention while optimizing resource allocation and cost management.\n",
    "\n",
    "### Stakeholders:\n",
    "\n",
    "- **Customers:** Require reliable and accurate ETAs to plan their journeys better.\n",
    "- **Drivers:** Benefit from improved route planning and time management.\n",
    "- **Yassir Management:** Needs accurate ETA predictions to improve service efficiency, resource allocation, and customer satisfaction.\n",
    "\n",
    "### Success Criteria:\n",
    "\n",
    "- **Operational Efficiency:** Better resource management and reduced operational costs.\n",
    "- **Customer Experience:** Enhanced satisfaction due to accurate ETA predictions.\n",
    "- **Market Competitiveness:** Improved reliability can make Yassir more attractive compared to competitors.\n",
    "\n",
    "### Business Questions\n",
    "1. How do weather conditions affect the ETA of Yassir trips?\n",
    "   Understanding the influence of factors like temperature, rainfall, and wind speed on travel times can help in more accurate ETA predictions.\n",
    "2. What is the impact of trip distance on ETA accuracy?\n",
    "   Investigating whether longer or shorter trips have more variance in ETA predictions can help refine the model.\n",
    "3. How do different times of the day affect ETA predictions?\n",
    "   Analyzing time-based patterns (e.g., rush hours vs. non-rush hours) can help improve the predictive model.\n",
    "\n",
    "### Hypothesis\n",
    "\n",
    "Null Hypothesis: The ETA for Yassir trips is significantly influenced by weather conditions, particularly rainfall and wind speed, trip distance, and the time of day."
>>>>>>> b59bf2e4bf9af9b9ebbfefc164b79670d9b330a1
   ]
  },
  {
   "cell_type": "markdown",
   "metadata": {},
   "source": [
    "# Data Understanding"
   ]
  },
  {
   "cell_type": "code",
   "execution_count": 1,
   "metadata": {},
   "outputs": [],
   "source": [
    "# Import the Necessary Packages\n",
    "import pandas as pd\n",
    "import numpy as np\n",
    "import seaborn as sns\n",
    "import matplotlib.pyplot as plt"
   ]
  },
  {
   "cell_type": "code",
<<<<<<< HEAD
   "execution_count": 3,
=======
   "execution_count": 7,
>>>>>>> b59bf2e4bf9af9b9ebbfefc164b79670d9b330a1
   "metadata": {},
   "outputs": [],
   "source": [
    "# Load CSV files into the Notebook\n",
    "train_df = pd.read_csv(\"../Data/Train.csv\")\n",
    "\n",
    "weather_df = pd.read_csv(\"../Data/Weather.csv\")\n",
    "\n",
    "test_df =pd.read_csv(\"../Data/Test.csv\")"
   ]
  },
  {
   "cell_type": "markdown",
   "metadata": {},
   "source": [
    "### Exploratory Data Analysis"
   ]
  },
  {
   "cell_type": "code",
<<<<<<< HEAD
   "execution_count": 4,
=======
   "execution_count": 8,
   "metadata": {},
   "outputs": [
    {
     "data": {
      "text/html": [
       "<div>\n",
       "<style scoped>\n",
       "    .dataframe tbody tr th:only-of-type {\n",
       "        vertical-align: middle;\n",
       "    }\n",
       "\n",
       "    .dataframe tbody tr th {\n",
       "        vertical-align: top;\n",
       "    }\n",
       "\n",
       "    .dataframe thead th {\n",
       "        text-align: right;\n",
       "    }\n",
       "</style>\n",
       "<table border=\"1\" class=\"dataframe\">\n",
       "  <thead>\n",
       "    <tr style=\"text-align: right;\">\n",
       "      <th></th>\n",
       "      <th>ID</th>\n",
       "      <th>Timestamp</th>\n",
       "      <th>Origin_lat</th>\n",
       "      <th>Origin_lon</th>\n",
       "      <th>Destination_lat</th>\n",
       "      <th>Destination_lon</th>\n",
       "      <th>Trip_distance</th>\n",
       "    </tr>\n",
       "  </thead>\n",
       "  <tbody>\n",
       "    <tr>\n",
       "      <th>0</th>\n",
       "      <td>000V4BQX</td>\n",
       "      <td>2019-12-21T05:52:37Z</td>\n",
       "      <td>2.981</td>\n",
       "      <td>36.688</td>\n",
       "      <td>2.978</td>\n",
       "      <td>36.754</td>\n",
       "      <td>17549</td>\n",
       "    </tr>\n",
       "    <tr>\n",
       "      <th>1</th>\n",
       "      <td>003WBC5J</td>\n",
       "      <td>2019-12-25T21:38:53Z</td>\n",
       "      <td>3.032</td>\n",
       "      <td>36.769</td>\n",
       "      <td>3.074</td>\n",
       "      <td>36.751</td>\n",
       "      <td>7532</td>\n",
       "    </tr>\n",
       "    <tr>\n",
       "      <th>2</th>\n",
       "      <td>004O4X3A</td>\n",
       "      <td>2019-12-29T21:30:29Z</td>\n",
       "      <td>3.035</td>\n",
       "      <td>36.711</td>\n",
       "      <td>3.010</td>\n",
       "      <td>36.758</td>\n",
       "      <td>10194</td>\n",
       "    </tr>\n",
       "    <tr>\n",
       "      <th>3</th>\n",
       "      <td>006CEI5B</td>\n",
       "      <td>2019-12-31T22:51:57Z</td>\n",
       "      <td>2.902</td>\n",
       "      <td>36.738</td>\n",
       "      <td>3.208</td>\n",
       "      <td>36.698</td>\n",
       "      <td>32768</td>\n",
       "    </tr>\n",
       "    <tr>\n",
       "      <th>4</th>\n",
       "      <td>009G0M2T</td>\n",
       "      <td>2019-12-28T21:47:22Z</td>\n",
       "      <td>2.860</td>\n",
       "      <td>36.692</td>\n",
       "      <td>2.828</td>\n",
       "      <td>36.696</td>\n",
       "      <td>4513</td>\n",
       "    </tr>\n",
       "  </tbody>\n",
       "</table>\n",
       "</div>"
      ],
      "text/plain": [
       "         ID             Timestamp  Origin_lat  Origin_lon  Destination_lat  \\\n",
       "0  000V4BQX  2019-12-21T05:52:37Z       2.981      36.688            2.978   \n",
       "1  003WBC5J  2019-12-25T21:38:53Z       3.032      36.769            3.074   \n",
       "2  004O4X3A  2019-12-29T21:30:29Z       3.035      36.711            3.010   \n",
       "3  006CEI5B  2019-12-31T22:51:57Z       2.902      36.738            3.208   \n",
       "4  009G0M2T  2019-12-28T21:47:22Z       2.860      36.692            2.828   \n",
       "\n",
       "   Destination_lon  Trip_distance  \n",
       "0           36.754          17549  \n",
       "1           36.751           7532  \n",
       "2           36.758          10194  \n",
       "3           36.698          32768  \n",
       "4           36.696           4513  "
      ]
     },
     "execution_count": 8,
     "metadata": {},
     "output_type": "execute_result"
    }
   ],
   "source": [
    "test_df.head()"
   ]
  },
  {
   "cell_type": "code",
   "execution_count": 5,
>>>>>>> b59bf2e4bf9af9b9ebbfefc164b79670d9b330a1
   "metadata": {},
   "outputs": [
    {
     "data": {
      "text/html": [
       "<div>\n",
       "<style scoped>\n",
       "    .dataframe tbody tr th:only-of-type {\n",
       "        vertical-align: middle;\n",
       "    }\n",
       "\n",
       "    .dataframe tbody tr th {\n",
       "        vertical-align: top;\n",
       "    }\n",
       "\n",
       "    .dataframe thead th {\n",
       "        text-align: right;\n",
       "    }\n",
       "</style>\n",
       "<table border=\"1\" class=\"dataframe\">\n",
       "  <thead>\n",
       "    <tr style=\"text-align: right;\">\n",
       "      <th></th>\n",
       "      <th>ID</th>\n",
       "      <th>Timestamp</th>\n",
       "      <th>Origin_lat</th>\n",
       "      <th>Origin_lon</th>\n",
       "      <th>Destination_lat</th>\n",
       "      <th>Destination_lon</th>\n",
       "      <th>Trip_distance</th>\n",
       "      <th>ETA</th>\n",
       "    </tr>\n",
       "  </thead>\n",
       "  <tbody>\n",
       "    <tr>\n",
       "      <th>0</th>\n",
       "      <td>000FLWA8</td>\n",
       "      <td>2019-12-04T20:01:50Z</td>\n",
       "      <td>3.258</td>\n",
       "      <td>36.777</td>\n",
       "      <td>3.003</td>\n",
       "      <td>36.718</td>\n",
       "      <td>39627</td>\n",
       "      <td>2784</td>\n",
       "    </tr>\n",
       "    <tr>\n",
       "      <th>1</th>\n",
       "      <td>000RGOAM</td>\n",
       "      <td>2019-12-10T22:37:09Z</td>\n",
       "      <td>3.087</td>\n",
       "      <td>36.707</td>\n",
       "      <td>3.081</td>\n",
       "      <td>36.727</td>\n",
       "      <td>3918</td>\n",
       "      <td>576</td>\n",
       "    </tr>\n",
       "    <tr>\n",
       "      <th>2</th>\n",
       "      <td>001QSGIH</td>\n",
       "      <td>2019-11-23T20:36:10Z</td>\n",
       "      <td>3.144</td>\n",
       "      <td>36.739</td>\n",
       "      <td>3.088</td>\n",
       "      <td>36.742</td>\n",
       "      <td>7265</td>\n",
       "      <td>526</td>\n",
       "    </tr>\n",
       "    <tr>\n",
       "      <th>3</th>\n",
       "      <td>002ACV6R</td>\n",
       "      <td>2019-12-01T05:43:21Z</td>\n",
       "      <td>3.239</td>\n",
       "      <td>36.784</td>\n",
       "      <td>3.054</td>\n",
       "      <td>36.763</td>\n",
       "      <td>23350</td>\n",
       "      <td>3130</td>\n",
       "    </tr>\n",
       "    <tr>\n",
       "      <th>4</th>\n",
       "      <td>0039Y7A8</td>\n",
       "      <td>2019-12-17T20:30:20Z</td>\n",
       "      <td>2.912</td>\n",
       "      <td>36.707</td>\n",
       "      <td>3.207</td>\n",
       "      <td>36.698</td>\n",
       "      <td>36613</td>\n",
       "      <td>2138</td>\n",
       "    </tr>\n",
       "  </tbody>\n",
       "</table>\n",
       "</div>"
      ],
      "text/plain": [
       "         ID             Timestamp  Origin_lat  Origin_lon  Destination_lat  \\\n",
       "0  000FLWA8  2019-12-04T20:01:50Z       3.258      36.777            3.003   \n",
       "1  000RGOAM  2019-12-10T22:37:09Z       3.087      36.707            3.081   \n",
       "2  001QSGIH  2019-11-23T20:36:10Z       3.144      36.739            3.088   \n",
       "3  002ACV6R  2019-12-01T05:43:21Z       3.239      36.784            3.054   \n",
       "4  0039Y7A8  2019-12-17T20:30:20Z       2.912      36.707            3.207   \n",
       "\n",
       "   Destination_lon  Trip_distance   ETA  \n",
       "0           36.718          39627  2784  \n",
       "1           36.727           3918   576  \n",
       "2           36.742           7265   526  \n",
       "3           36.763          23350  3130  \n",
       "4           36.698          36613  2138  "
      ]
     },
     "execution_count": 4,
     "metadata": {},
     "output_type": "execute_result"
    }
   ],
   "source": [
    "train_df.head()"
   ]
  },
  {
   "cell_type": "code",
   "execution_count": 5,
   "metadata": {},
   "outputs": [
    {
     "data": {
      "text/html": [
       "<div>\n",
       "<style scoped>\n",
       "    .dataframe tbody tr th:only-of-type {\n",
       "        vertical-align: middle;\n",
       "    }\n",
       "\n",
       "    .dataframe tbody tr th {\n",
       "        vertical-align: top;\n",
       "    }\n",
       "\n",
       "    .dataframe thead th {\n",
       "        text-align: right;\n",
       "    }\n",
       "</style>\n",
       "<table border=\"1\" class=\"dataframe\">\n",
       "  <thead>\n",
       "    <tr style=\"text-align: right;\">\n",
       "      <th></th>\n",
       "      <th>date</th>\n",
       "      <th>dewpoint_2m_temperature</th>\n",
       "      <th>maximum_2m_air_temperature</th>\n",
       "      <th>mean_2m_air_temperature</th>\n",
       "      <th>mean_sea_level_pressure</th>\n",
       "      <th>minimum_2m_air_temperature</th>\n",
       "      <th>surface_pressure</th>\n",
       "      <th>total_precipitation</th>\n",
       "      <th>u_component_of_wind_10m</th>\n",
       "      <th>v_component_of_wind_10m</th>\n",
       "    </tr>\n",
       "  </thead>\n",
       "  <tbody>\n",
       "    <tr>\n",
       "      <th>0</th>\n",
       "      <td>2019-11-01</td>\n",
       "      <td>290.630524</td>\n",
       "      <td>296.434662</td>\n",
       "      <td>294.125061</td>\n",
       "      <td>101853.617188</td>\n",
       "      <td>292.503998</td>\n",
       "      <td>100806.351562</td>\n",
       "      <td>0.004297</td>\n",
       "      <td>3.561323</td>\n",
       "      <td>0.941695</td>\n",
       "    </tr>\n",
       "    <tr>\n",
       "      <th>1</th>\n",
       "      <td>2019-11-02</td>\n",
       "      <td>289.135284</td>\n",
       "      <td>298.432404</td>\n",
       "      <td>295.551666</td>\n",
       "      <td>101225.164062</td>\n",
       "      <td>293.337921</td>\n",
       "      <td>100187.250000</td>\n",
       "      <td>0.001767</td>\n",
       "      <td>5.318593</td>\n",
       "      <td>3.258237</td>\n",
       "    </tr>\n",
       "    <tr>\n",
       "      <th>2</th>\n",
       "      <td>2019-11-03</td>\n",
       "      <td>287.667694</td>\n",
       "      <td>296.612122</td>\n",
       "      <td>295.182831</td>\n",
       "      <td>100806.617188</td>\n",
       "      <td>293.674316</td>\n",
       "      <td>99771.414062</td>\n",
       "      <td>0.000797</td>\n",
       "      <td>8.447649</td>\n",
       "      <td>3.172982</td>\n",
       "    </tr>\n",
       "    <tr>\n",
       "      <th>3</th>\n",
       "      <td>2019-11-04</td>\n",
       "      <td>287.634644</td>\n",
       "      <td>297.173737</td>\n",
       "      <td>294.368134</td>\n",
       "      <td>101240.929688</td>\n",
       "      <td>292.376221</td>\n",
       "      <td>100200.843750</td>\n",
       "      <td>0.000393</td>\n",
       "      <td>5.991428</td>\n",
       "      <td>2.236700</td>\n",
       "    </tr>\n",
       "    <tr>\n",
       "      <th>4</th>\n",
       "      <td>2019-11-05</td>\n",
       "      <td>286.413788</td>\n",
       "      <td>294.284851</td>\n",
       "      <td>292.496979</td>\n",
       "      <td>101131.750000</td>\n",
       "      <td>289.143066</td>\n",
       "      <td>100088.500000</td>\n",
       "      <td>0.004658</td>\n",
       "      <td>6.962730</td>\n",
       "      <td>2.655364</td>\n",
       "    </tr>\n",
       "  </tbody>\n",
       "</table>\n",
       "</div>"
      ],
      "text/plain": [
       "         date  dewpoint_2m_temperature  maximum_2m_air_temperature  \\\n",
       "0  2019-11-01               290.630524                  296.434662   \n",
       "1  2019-11-02               289.135284                  298.432404   \n",
       "2  2019-11-03               287.667694                  296.612122   \n",
       "3  2019-11-04               287.634644                  297.173737   \n",
       "4  2019-11-05               286.413788                  294.284851   \n",
       "\n",
       "   mean_2m_air_temperature  mean_sea_level_pressure  \\\n",
       "0               294.125061            101853.617188   \n",
       "1               295.551666            101225.164062   \n",
       "2               295.182831            100806.617188   \n",
       "3               294.368134            101240.929688   \n",
       "4               292.496979            101131.750000   \n",
       "\n",
       "   minimum_2m_air_temperature  surface_pressure  total_precipitation  \\\n",
       "0                  292.503998     100806.351562             0.004297   \n",
       "1                  293.337921     100187.250000             0.001767   \n",
       "2                  293.674316      99771.414062             0.000797   \n",
       "3                  292.376221     100200.843750             0.000393   \n",
       "4                  289.143066     100088.500000             0.004658   \n",
       "\n",
       "   u_component_of_wind_10m  v_component_of_wind_10m  \n",
       "0                 3.561323                 0.941695  \n",
       "1                 5.318593                 3.258237  \n",
       "2                 8.447649                 3.172982  \n",
       "3                 5.991428                 2.236700  \n",
       "4                 6.962730                 2.655364  "
      ]
     },
     "execution_count": 5,
     "metadata": {},
     "output_type": "execute_result"
    }
   ],
   "source": [
    "weather_df.head()"
   ]
  },
  {
   "cell_type": "code",
<<<<<<< HEAD
   "execution_count": 6,
=======
   "execution_count": 3,
>>>>>>> b59bf2e4bf9af9b9ebbfefc164b79670d9b330a1
   "metadata": {},
   "outputs": [
    {
     "name": "stdout",
     "output_type": "stream",
     "text": [
      "<class 'pandas.core.frame.DataFrame'>\n",
      "RangeIndex: 83924 entries, 0 to 83923\n",
      "Data columns (total 8 columns):\n",
      " #   Column           Non-Null Count  Dtype  \n",
      "---  ------           --------------  -----  \n",
      " 0   ID               83924 non-null  object \n",
      " 1   Timestamp        83924 non-null  object \n",
      " 2   Origin_lat       83924 non-null  float64\n",
      " 3   Origin_lon       83924 non-null  float64\n",
      " 4   Destination_lat  83924 non-null  float64\n",
      " 5   Destination_lon  83924 non-null  float64\n",
      " 6   Trip_distance    83924 non-null  int64  \n",
      " 7   ETA              83924 non-null  int64  \n",
      "dtypes: float64(4), int64(2), object(2)\n",
      "memory usage: 5.1+ MB\n"
     ]
    }
   ],
   "source": [
    "train_df.info()"
   ]
  },
  {
   "cell_type": "code",
<<<<<<< HEAD
   "execution_count": 7,
=======
   "execution_count": 4,
>>>>>>> b59bf2e4bf9af9b9ebbfefc164b79670d9b330a1
   "metadata": {},
   "outputs": [
    {
     "data": {
      "text/plain": [
       "ID                 0\n",
       "Timestamp          0\n",
       "Origin_lat         0\n",
       "Origin_lon         0\n",
       "Destination_lat    0\n",
       "Destination_lon    0\n",
       "Trip_distance      0\n",
       "ETA                0\n",
       "dtype: int64"
      ]
     },
<<<<<<< HEAD
     "execution_count": 7,
=======
     "execution_count": 4,
>>>>>>> b59bf2e4bf9af9b9ebbfefc164b79670d9b330a1
     "metadata": {},
     "output_type": "execute_result"
    }
   ],
   "source": [
    "# Checking for missing Values\n",
    "train_df.isna().sum()"
   ]
  },
  {
   "cell_type": "markdown",
   "metadata": {},
   "source": [
    "Cleaning the Timestamp column and changing the data type"
   ]
  },
  {
   "cell_type": "code",
<<<<<<< HEAD
   "execution_count": 8,
   "metadata": {},
   "outputs": [
    {
     "data": {
      "text/html": [
       "<div>\n",
       "<style scoped>\n",
       "    .dataframe tbody tr th:only-of-type {\n",
       "        vertical-align: middle;\n",
       "    }\n",
       "\n",
       "    .dataframe tbody tr th {\n",
       "        vertical-align: top;\n",
       "    }\n",
       "\n",
       "    .dataframe thead th {\n",
       "        text-align: right;\n",
       "    }\n",
       "</style>\n",
       "<table border=\"1\" class=\"dataframe\">\n",
       "  <thead>\n",
       "    <tr style=\"text-align: right;\">\n",
       "      <th></th>\n",
       "      <th>ID</th>\n",
       "      <th>Timestamp</th>\n",
       "      <th>Origin_lat</th>\n",
       "      <th>Origin_lon</th>\n",
       "      <th>Destination_lat</th>\n",
       "      <th>Destination_lon</th>\n",
       "      <th>Trip_distance</th>\n",
       "      <th>ETA</th>\n",
       "    </tr>\n",
       "  </thead>\n",
       "  <tbody>\n",
       "    <tr>\n",
       "      <th>0</th>\n",
       "      <td>000FLWA8</td>\n",
       "      <td>2019-12-04 20:01:50+00:00</td>\n",
       "      <td>3.258</td>\n",
       "      <td>36.777</td>\n",
       "      <td>3.003</td>\n",
       "      <td>36.718</td>\n",
       "      <td>39627</td>\n",
       "      <td>2784</td>\n",
       "    </tr>\n",
       "    <tr>\n",
       "      <th>1</th>\n",
       "      <td>000RGOAM</td>\n",
       "      <td>2019-12-10 22:37:09+00:00</td>\n",
       "      <td>3.087</td>\n",
       "      <td>36.707</td>\n",
       "      <td>3.081</td>\n",
       "      <td>36.727</td>\n",
       "      <td>3918</td>\n",
       "      <td>576</td>\n",
       "    </tr>\n",
       "    <tr>\n",
       "      <th>2</th>\n",
       "      <td>001QSGIH</td>\n",
       "      <td>2019-11-23 20:36:10+00:00</td>\n",
       "      <td>3.144</td>\n",
       "      <td>36.739</td>\n",
       "      <td>3.088</td>\n",
       "      <td>36.742</td>\n",
       "      <td>7265</td>\n",
       "      <td>526</td>\n",
       "    </tr>\n",
       "    <tr>\n",
       "      <th>3</th>\n",
       "      <td>002ACV6R</td>\n",
       "      <td>2019-12-01 05:43:21+00:00</td>\n",
       "      <td>3.239</td>\n",
       "      <td>36.784</td>\n",
       "      <td>3.054</td>\n",
       "      <td>36.763</td>\n",
       "      <td>23350</td>\n",
       "      <td>3130</td>\n",
       "    </tr>\n",
       "    <tr>\n",
       "      <th>4</th>\n",
       "      <td>0039Y7A8</td>\n",
       "      <td>2019-12-17 20:30:20+00:00</td>\n",
       "      <td>2.912</td>\n",
       "      <td>36.707</td>\n",
       "      <td>3.207</td>\n",
       "      <td>36.698</td>\n",
       "      <td>36613</td>\n",
       "      <td>2138</td>\n",
       "    </tr>\n",
       "  </tbody>\n",
       "</table>\n",
       "</div>"
      ],
      "text/plain": [
       "         ID                 Timestamp  Origin_lat  Origin_lon  \\\n",
       "0  000FLWA8 2019-12-04 20:01:50+00:00       3.258      36.777   \n",
       "1  000RGOAM 2019-12-10 22:37:09+00:00       3.087      36.707   \n",
       "2  001QSGIH 2019-11-23 20:36:10+00:00       3.144      36.739   \n",
       "3  002ACV6R 2019-12-01 05:43:21+00:00       3.239      36.784   \n",
       "4  0039Y7A8 2019-12-17 20:30:20+00:00       2.912      36.707   \n",
       "\n",
       "   Destination_lat  Destination_lon  Trip_distance   ETA  \n",
       "0            3.003           36.718          39627  2784  \n",
       "1            3.081           36.727           3918   576  \n",
       "2            3.088           36.742           7265   526  \n",
       "3            3.054           36.763          23350  3130  \n",
       "4            3.207           36.698          36613  2138  "
      ]
     },
     "execution_count": 8,
     "metadata": {},
     "output_type": "execute_result"
    }
   ],
   "source": [
    "# Convert the Timestamp column to datatime\n",
    "train_df['Timestamp'] = pd.to_datetime(train_df['Timestamp'], format='%Y-%m-%dT%H:%M:%S%z')\n",
    "\n",
    "# Check the conversion\n",
    "train_df.head()\n",
    "\n",
    "\n",
    "# Remove timezone information\n",
    "# data['Timestamp'] = data['Timestamp'].dt.tz_localize(None)"
   ]
  },
  {
   "cell_type": "markdown",
   "metadata": {},
   "source": [
    "#### Feature Engineering"
   ]
  },
  {
   "cell_type": "code",
   "execution_count": 9,
   "metadata": {},
   "outputs": [],
   "source": [
    "# Extract year, month, day, hour, minute, and second\n",
    "train_df['Year'] = train_df['Timestamp'].dt.year\n",
    "train_df['Month'] = train_df['Timestamp'].dt.month\n",
    "train_df['Day'] = train_df['Timestamp'].dt.day\n",
    "train_df['Hour'] = train_df['Timestamp'].dt.hour\n",
    "train_df['Minute'] = train_df['Timestamp'].dt.minute\n",
    "train_df['Second'] = train_df['Timestamp'].dt.second"
   ]
  },
  {
   "cell_type": "markdown",
   "metadata": {},
   "source": [
    "#### Univariate Analysis"
   ]
  },
  {
   "cell_type": "code",
   "execution_count": 10,
   "metadata": {},
   "outputs": [
    {
     "data": {
      "text/plain": [
       "Index(['Origin_lat', 'Origin_lon', 'Destination_lat', 'Destination_lon',\n",
       "       'Trip_distance', 'ETA', 'Year', 'Month', 'Day', 'Hour', 'Minute',\n",
       "       'Second'],\n",
       "      dtype='object')"
      ]
     },
     "execution_count": 10,
     "metadata": {},
     "output_type": "execute_result"
    }
   ],
   "source": [
    "numerical_columns = train_df.select_dtypes('number').columns\n",
    "numerical_columns"
   ]
  },
  {
   "cell_type": "code",
   "execution_count": 11,
   "metadata": {},
   "outputs": [
    {
     "data": {
      "image/png": "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",
      "text/plain": [
       "<Figure size 1400x1000 with 16 Axes>"
      ]
     },
     "metadata": {},
     "output_type": "display_data"
    }
   ],
   "source": [
    "# Histogram showing the distribution of numeric features\n",
    "train_df.hist(figsize=(14,10), color='skyblue', grid =False , bins =15)\n",
    "plt.show()"
   ]
  },
  {
   "cell_type": "code",
   "execution_count": 12,
   "metadata": {},
   "outputs": [
    {
     "data": {
      "image/png": "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",
      "text/plain": [
       "<Figure size 1200x600 with 1 Axes>"
      ]
     },
     "metadata": {},
     "output_type": "display_data"
    }
   ],
   "source": [
    "plt.figure(figsize=(12,6))\n",
    "sns.boxplot(data=train_df, orient='h')\n",
    "plt.show()"
   ]
  },
  {
   "cell_type": "markdown",
   "metadata": {},
   "source": [
    "#### Bivariate Analysis"
   ]
  },
  {
   "cell_type": "code",
   "execution_count": null,
=======
   "execution_count": 13,
>>>>>>> b59bf2e4bf9af9b9ebbfefc164b79670d9b330a1
   "metadata": {},
   "outputs": [
    {
     "name": "stdout",
     "output_type": "stream",
     "text": [
      "             ID             Timestamp  Origin_lat  Origin_lon  \\\n",
      "0      000FLWA8  2019-12-04T20:01:50Z       3.258      36.777   \n",
      "1      000RGOAM  2019-12-10T22:37:09Z       3.087      36.707   \n",
      "2      001QSGIH  2019-11-23T20:36:10Z       3.144      36.739   \n",
      "3      002ACV6R  2019-12-01T05:43:21Z       3.239      36.784   \n",
      "4      0039Y7A8  2019-12-17T20:30:20Z       2.912      36.707   \n",
      "...         ...                   ...         ...         ...   \n",
      "83919  ZZXN4JH2  2019-11-30T23:21:58Z       3.121      36.743   \n",
      "83920  ZZXQ5AQJ  2019-11-27T05:59:31Z       3.024      36.749   \n",
      "83921  ZZXYPKGU  2019-12-06T05:04:06Z       3.189      36.721   \n",
      "83922  ZZYTQHKT  2019-12-07T05:55:22Z       3.046      36.738   \n",
      "83923  ZZZY11ZN  2019-12-12T21:22:31Z       2.889      36.762   \n",
      "\n",
      "       Destination_lat  Destination_lon  Trip_distance   ETA  Distance_KM  \\\n",
      "0                3.003           36.718          39627  2784       39.627   \n",
      "1                3.081           36.727           3918   576        3.918   \n",
      "2                3.088           36.742           7265   526        7.265   \n",
      "3                3.054           36.763          23350  3130       23.350   \n",
      "4                3.207           36.698          36613  2138       36.613   \n",
      "...                ...              ...            ...   ...          ...   \n",
      "83919            3.032           36.770          10321   664       10.321   \n",
      "83920            2.951           36.735          10791  1056       10.791   \n",
      "83921            3.186           36.721           1139   296        1.139   \n",
      "83922            2.986           36.766          10637   895       10.637   \n",
      "83923            2.957           36.758           9363   654        9.363   \n",
      "\n",
      "                 timestamp  \n",
      "0      2019-12-04 20:01:50  \n",
      "1      2019-12-10 22:37:09  \n",
      "2      2019-11-23 20:36:10  \n",
      "3      2019-12-01 05:43:21  \n",
      "4      2019-12-17 20:30:20  \n",
      "...                    ...  \n",
      "83919  2019-11-30 23:21:58  \n",
      "83920  2019-11-27 05:59:31  \n",
      "83921  2019-12-06 05:04:06  \n",
      "83922  2019-12-07 05:55:22  \n",
      "83923  2019-12-12 21:22:31  \n",
      "\n",
      "[83924 rows x 10 columns]\n"
     ]
    }
   ],
   "source": [
    "\n",
    "# Function to clean the timestamp\n",
    "def clean_timestamp(Timestamp):\n",
    "    return Timestamp.replace('T', ' ').replace('Z', '')\n",
    "\n",
    "# # Function to extract date and time\n",
    "# def extract_date_time(Timestamp):\n",
    "#     date_time_str = Timestamp.replace('T', ' ').replace('Z', '')\n",
    "#     date, time = date_time_str.split(' ')\n",
    "#     return date, time\n",
    "\n",
    "# Apply the function to clean the 'timestamp' column\n",
    "train_df['timestamp'] = train_df['Timestamp'].apply(clean_timestamp)\n",
    "\n",
    "# # Apply the function and create two new columns\n",
    "# train_df[['date', 'time']] = train_df['Timestamp'].apply(lambda x: pd.Series(extract_date_time(x)))\n",
    "\n",
    "print(train_df)\n"
   ]
  },
  {
   "cell_type": "code",
   "execution_count": 14,
   "metadata": {},
   "outputs": [
    {
     "data": {
      "text/html": [
       "<div>\n",
       "<style scoped>\n",
       "    .dataframe tbody tr th:only-of-type {\n",
       "        vertical-align: middle;\n",
       "    }\n",
       "\n",
       "    .dataframe tbody tr th {\n",
       "        vertical-align: top;\n",
       "    }\n",
       "\n",
       "    .dataframe thead th {\n",
       "        text-align: right;\n",
       "    }\n",
       "</style>\n",
       "<table border=\"1\" class=\"dataframe\">\n",
       "  <thead>\n",
       "    <tr style=\"text-align: right;\">\n",
       "      <th></th>\n",
       "      <th>ID</th>\n",
       "      <th>Timestamp</th>\n",
       "      <th>Origin_lat</th>\n",
       "      <th>Origin_lon</th>\n",
       "      <th>Destination_lat</th>\n",
       "      <th>Destination_lon</th>\n",
       "      <th>Trip_distance</th>\n",
       "      <th>ETA</th>\n",
       "      <th>Distance_KM</th>\n",
       "      <th>timestamp</th>\n",
       "    </tr>\n",
       "  </thead>\n",
       "  <tbody>\n",
       "    <tr>\n",
       "      <th>0</th>\n",
       "      <td>000FLWA8</td>\n",
       "      <td>2019-12-04T20:01:50Z</td>\n",
       "      <td>3.258</td>\n",
       "      <td>36.777</td>\n",
       "      <td>3.003</td>\n",
       "      <td>36.718</td>\n",
       "      <td>39627</td>\n",
       "      <td>2784</td>\n",
       "      <td>39.627</td>\n",
       "      <td>2019-12-04 20:01:50</td>\n",
       "    </tr>\n",
       "    <tr>\n",
       "      <th>1</th>\n",
       "      <td>000RGOAM</td>\n",
       "      <td>2019-12-10T22:37:09Z</td>\n",
       "      <td>3.087</td>\n",
       "      <td>36.707</td>\n",
       "      <td>3.081</td>\n",
       "      <td>36.727</td>\n",
       "      <td>3918</td>\n",
       "      <td>576</td>\n",
       "      <td>3.918</td>\n",
       "      <td>2019-12-10 22:37:09</td>\n",
       "    </tr>\n",
       "    <tr>\n",
       "      <th>2</th>\n",
       "      <td>001QSGIH</td>\n",
       "      <td>2019-11-23T20:36:10Z</td>\n",
       "      <td>3.144</td>\n",
       "      <td>36.739</td>\n",
       "      <td>3.088</td>\n",
       "      <td>36.742</td>\n",
       "      <td>7265</td>\n",
       "      <td>526</td>\n",
       "      <td>7.265</td>\n",
       "      <td>2019-11-23 20:36:10</td>\n",
       "    </tr>\n",
       "    <tr>\n",
       "      <th>3</th>\n",
       "      <td>002ACV6R</td>\n",
       "      <td>2019-12-01T05:43:21Z</td>\n",
       "      <td>3.239</td>\n",
       "      <td>36.784</td>\n",
       "      <td>3.054</td>\n",
       "      <td>36.763</td>\n",
       "      <td>23350</td>\n",
       "      <td>3130</td>\n",
       "      <td>23.350</td>\n",
       "      <td>2019-12-01 05:43:21</td>\n",
       "    </tr>\n",
       "    <tr>\n",
       "      <th>4</th>\n",
       "      <td>0039Y7A8</td>\n",
       "      <td>2019-12-17T20:30:20Z</td>\n",
       "      <td>2.912</td>\n",
       "      <td>36.707</td>\n",
       "      <td>3.207</td>\n",
       "      <td>36.698</td>\n",
       "      <td>36613</td>\n",
       "      <td>2138</td>\n",
       "      <td>36.613</td>\n",
       "      <td>2019-12-17 20:30:20</td>\n",
       "    </tr>\n",
       "  </tbody>\n",
       "</table>\n",
       "</div>"
      ],
      "text/plain": [
       "         ID             Timestamp  Origin_lat  Origin_lon  Destination_lat  \\\n",
       "0  000FLWA8  2019-12-04T20:01:50Z       3.258      36.777            3.003   \n",
       "1  000RGOAM  2019-12-10T22:37:09Z       3.087      36.707            3.081   \n",
       "2  001QSGIH  2019-11-23T20:36:10Z       3.144      36.739            3.088   \n",
       "3  002ACV6R  2019-12-01T05:43:21Z       3.239      36.784            3.054   \n",
       "4  0039Y7A8  2019-12-17T20:30:20Z       2.912      36.707            3.207   \n",
       "\n",
       "   Destination_lon  Trip_distance   ETA  Distance_KM            timestamp  \n",
       "0           36.718          39627  2784       39.627  2019-12-04 20:01:50  \n",
       "1           36.727           3918   576        3.918  2019-12-10 22:37:09  \n",
       "2           36.742           7265   526        7.265  2019-11-23 20:36:10  \n",
       "3           36.763          23350  3130       23.350  2019-12-01 05:43:21  \n",
       "4           36.698          36613  2138       36.613  2019-12-17 20:30:20  "
      ]
     },
     "execution_count": 14,
     "metadata": {},
     "output_type": "execute_result"
    }
   ],
   "source": [
    "train_df.head()"
   ]
  },
  {
   "cell_type": "markdown",
   "metadata": {},
   "source": [
    "### Convert seconds to hours, minutes, and second"
   ]
  },
  {
   "cell_type": "code",
   "execution_count": 6,
   "metadata": {},
   "outputs": [
    {
     "name": "stdout",
     "output_type": "stream",
     "text": [
      "             ID             Timestamp  Origin_lat  Origin_lon  \\\n",
      "0      000FLWA8  2019-12-04T20:01:50Z       3.258      36.777   \n",
      "1      000RGOAM  2019-12-10T22:37:09Z       3.087      36.707   \n",
      "2      001QSGIH  2019-11-23T20:36:10Z       3.144      36.739   \n",
      "3      002ACV6R  2019-12-01T05:43:21Z       3.239      36.784   \n",
      "4      0039Y7A8  2019-12-17T20:30:20Z       2.912      36.707   \n",
      "...         ...                   ...         ...         ...   \n",
      "83919  ZZXN4JH2  2019-11-30T23:21:58Z       3.121      36.743   \n",
      "83920  ZZXQ5AQJ  2019-11-27T05:59:31Z       3.024      36.749   \n",
      "83921  ZZXYPKGU  2019-12-06T05:04:06Z       3.189      36.721   \n",
      "83922  ZZYTQHKT  2019-12-07T05:55:22Z       3.046      36.738   \n",
      "83923  ZZZY11ZN  2019-12-12T21:22:31Z       2.889      36.762   \n",
      "\n",
      "       Destination_lat  Destination_lon  Trip_distance   ETA  time_taken  \n",
      "0                3.003           36.718          39627  2784  0h 46m 24s  \n",
      "1                3.081           36.727           3918   576   0h 9m 36s  \n",
      "2                3.088           36.742           7265   526   0h 8m 46s  \n",
      "3                3.054           36.763          23350  3130  0h 52m 10s  \n",
      "4                3.207           36.698          36613  2138  0h 35m 38s  \n",
      "...                ...              ...            ...   ...         ...  \n",
      "83919            3.032           36.770          10321   664   0h 11m 4s  \n",
      "83920            2.951           36.735          10791  1056  0h 17m 36s  \n",
      "83921            3.186           36.721           1139   296   0h 4m 56s  \n",
      "83922            2.986           36.766          10637   895  0h 14m 55s  \n",
      "83923            2.957           36.758           9363   654  0h 10m 54s  \n",
      "\n",
      "[83924 rows x 9 columns]\n"
     ]
    }
   ],
   "source": [
    "# Function to convert seconds to hours, minutes, and seconds\n",
    "def convert_seconds(ETA):\n",
    "    hours = ETA // 3600\n",
    "    minutes = (ETA % 3600) // 60\n",
    "    seconds = ETA % 60\n",
    "    return f\"{hours}h {minutes}m {seconds}s\"\n",
    "\n",
    "# Apply the function to the 'seconds' column and create a new column 'time_taken'\n",
    "train_df['time_taken'] = train_df['ETA'].apply(convert_seconds)\n",
    "\n",
    "print(train_df)\n"
   ]
  },
  {
   "cell_type": "markdown",
   "metadata": {},
   "source": [
    "### Function to convert meters to kilometers"
   ]
  },
  {
   "cell_type": "code",
   "execution_count": 10,
   "metadata": {},
   "outputs": [
    {
     "name": "stdout",
     "output_type": "stream",
     "text": [
      "             ID             Timestamp  Origin_lat  Origin_lon  \\\n",
      "0      000FLWA8  2019-12-04T20:01:50Z       3.258      36.777   \n",
      "1      000RGOAM  2019-12-10T22:37:09Z       3.087      36.707   \n",
      "2      001QSGIH  2019-11-23T20:36:10Z       3.144      36.739   \n",
      "3      002ACV6R  2019-12-01T05:43:21Z       3.239      36.784   \n",
      "4      0039Y7A8  2019-12-17T20:30:20Z       2.912      36.707   \n",
      "...         ...                   ...         ...         ...   \n",
      "83919  ZZXN4JH2  2019-11-30T23:21:58Z       3.121      36.743   \n",
      "83920  ZZXQ5AQJ  2019-11-27T05:59:31Z       3.024      36.749   \n",
      "83921  ZZXYPKGU  2019-12-06T05:04:06Z       3.189      36.721   \n",
      "83922  ZZYTQHKT  2019-12-07T05:55:22Z       3.046      36.738   \n",
      "83923  ZZZY11ZN  2019-12-12T21:22:31Z       2.889      36.762   \n",
      "\n",
      "       Destination_lat  Destination_lon  Trip_distance   ETA  Distance_KM  \n",
      "0                3.003           36.718          39627  2784       39.627  \n",
      "1                3.081           36.727           3918   576        3.918  \n",
      "2                3.088           36.742           7265   526        7.265  \n",
      "3                3.054           36.763          23350  3130       23.350  \n",
      "4                3.207           36.698          36613  2138       36.613  \n",
      "...                ...              ...            ...   ...          ...  \n",
      "83919            3.032           36.770          10321   664       10.321  \n",
      "83920            2.951           36.735          10791  1056       10.791  \n",
      "83921            3.186           36.721           1139   296        1.139  \n",
      "83922            2.986           36.766          10637   895       10.637  \n",
      "83923            2.957           36.758           9363   654        9.363  \n",
      "\n",
      "[83924 rows x 9 columns]\n"
     ]
    }
   ],
   "source": [
    "# Function to convert meters to kilometers\n",
    "def convert_to_km(Trip_distance):\n",
    "    return Trip_distance / 1000\n",
    "\n",
    "# Apply the function to the 'distance' column and create a new column 'Distance_KM'\n",
    "train_df['Distance_KM'] = train_df['Trip_distance'].apply(convert_to_km)\n",
    "\n",
    "print(train_df)"
   ]
  },
  {
   "cell_type": "code",
   "execution_count": 11,
   "metadata": {},
   "outputs": [
    {
     "name": "stdout",
     "output_type": "stream",
     "text": [
      "             ID             Timestamp  Origin_lat  Origin_lon  \\\n",
      "0      000V4BQX  2019-12-21T05:52:37Z       2.981      36.688   \n",
      "1      003WBC5J  2019-12-25T21:38:53Z       3.032      36.769   \n",
      "2      004O4X3A  2019-12-29T21:30:29Z       3.035      36.711   \n",
      "3      006CEI5B  2019-12-31T22:51:57Z       2.902      36.738   \n",
      "4      009G0M2T  2019-12-28T21:47:22Z       2.860      36.692   \n",
      "...         ...                   ...         ...         ...   \n",
      "35620  ZZXSJW3Q  2019-12-21T04:10:59Z       2.947      36.748   \n",
      "35621  ZZYPNYYY  2019-12-30T20:31:22Z       3.037      36.742   \n",
      "35622  ZZYVPKXY  2019-12-27T20:21:38Z       2.993      36.723   \n",
      "35623  ZZZXGRIO  2019-12-29T22:00:31Z       2.954      36.743   \n",
      "35624  ZZZYTWJA  2019-12-20T22:44:19Z       2.982      36.760   \n",
      "\n",
      "       Destination_lat  Destination_lon  Trip_distance  Distance_KM  \n",
      "0                2.978           36.754          17549       17.549  \n",
      "1                3.074           36.751           7532        7.532  \n",
      "2                3.010           36.758          10194       10.194  \n",
      "3                3.208           36.698          32768       32.768  \n",
      "4                2.828           36.696           4513        4.513  \n",
      "...                ...              ...            ...          ...  \n",
      "35620            2.949           36.747           3413        3.413  \n",
      "35621            2.924           36.762          14341       14.341  \n",
      "35622            2.983           36.747           4465        4.465  \n",
      "35623            3.057           36.760          13105       13.105  \n",
      "35624            3.014           36.761           5543        5.543  \n",
      "\n",
      "[35625 rows x 8 columns]\n"
     ]
    }
   ],
   "source": [
    "# Apply the function to the test data\n",
    "test_df['Distance_KM'] = test_df['Trip_distance'].apply(convert_to_km)\n",
    "\n",
    "print(test_df)"
   ]
  },
  {
   "cell_type": "markdown",
   "metadata": {},
   "source": [
    "# Data Preparation"
   ]
  },
  {
   "cell_type": "markdown",
   "metadata": {},
   "source": [
    "# Modeling and Evaluation"
   ]
  },
  {
   "cell_type": "markdown",
   "metadata": {},
   "source": [
    "# Deployment"
   ]
  }
 ],
 "metadata": {
  "kernelspec": {
   "display_name": "venv",
   "language": "python",
   "name": "python3"
  },
  "language_info": {
   "codemirror_mode": {
    "name": "ipython",
    "version": 3
   },
   "file_extension": ".py",
   "mimetype": "text/x-python",
   "name": "python",
   "nbconvert_exporter": "python",
   "pygments_lexer": "ipython3",
   "version": "3.12.4"
  }
 },
 "nbformat": 4,
 "nbformat_minor": 2
}
